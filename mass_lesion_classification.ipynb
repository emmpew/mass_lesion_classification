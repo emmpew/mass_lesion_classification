{
 "cells": [
  {
   "cell_type": "markdown",
   "metadata": {},
   "source": [
    "# Breast Cancer Screening\n",
    "\n",
    "# Predicting whether a mammogram mass is benign or malignant\n",
    "***"
   ]
  },
  {
   "cell_type": "markdown",
   "metadata": {},
   "source": [
    "## Table of contents\n",
    "1. [Introduction](#introduction)\n",
    "    1. [Loading Libraries](#libraries)\n",
    "    2. [Acquiring Data](#acquire)\n",
    "    3. [Data Content](#content)\n",
    "    4. [Missing Values](#missing)\n",
    "    5. [Changing Data Types](#datatypes)\n",
    "2. [Exploratory Data Analysis](#EDA)\n",
    "    1. [Feature Visualization](#features)\n",
    "3. [Data Cleaning](#dataclean)\n",
    "    1. [BI-RADS](#bi-rads)\n",
    "    2. [High Confidence](#confidence)\n",
    "    3. [Non-Predictive](#nonpredictive)\n",
    "4. [Modeling](#modeling)\n",
    "    1. [Loading Libraries](#libs)\n",
    "    2. [Save Data](#save)\n",
    "    3. [Scale and Split Data](#scalesplit)\n",
    "    4. [KNN](#knn)\n",
    "    5. [Logistic Regression](#logistic)\n",
    "    6. [Naive Bayes](#bayes)\n",
    "    7. [Support Vector Machine](#svm)\n",
    "    8. [Random Forest](#forest)\n",
    "    9. [Neural Network](#nn)\n",
    "5. [Conclusion](#conclusion)\n",
    "    1. [Results](#results)\n",
    "    2. [Recommendations](#recommendations)"
   ]
  },
  {
   "cell_type": "markdown",
   "metadata": {},
   "source": [
    "## 1. Introduction <a name=\"introduction\"></a>\n",
    "***\n",
    "\n",
    "Breast cancer is the most common cancer diagnosed in women worldwide accounting for [25% of all cases](https://en.wikipedia.org/wiki/Breast_cancer). It is more than 100 times more common in women than in men. Breast cancer screening attempts to achieve an early diagnosis of the disease so that the outcomes are better for the patient. There are several types of breast cancer screening such as mammography, genetic screening, ultrasound, and magnetic resonance imaging.\n",
    "\n",
    "In this case, the project will focus on mammography which is considered the most effective method for detecting breast cancer. The problem is that the low positive predictive value of breast \n",
    "biopsy resulting from mammogram interpretation leads to approximately \n",
    "70% unnecessary biopsies with benign outcomes. So the goal is to reduce the high number of unnecessary breast biopsies\n",
    "\n",
    "Physicians and hospitals around the world can use such a model to predict whether a mammogram mass is benign or malignant. Patients can have a better diagnosis and avoid unnecessary biopsies. Better predictions can help both the physician and patient to reduce costs in case of negligence due to unnecessary expenses or lawsuits due to wrong diagnosis.\n",
    "\n",
    "The [Mammographic Mass Data Set](https://archive.ics.uci.edu/ml/datasets/Mammographic+Mass) has been acquired from the UCI repository. This data contains 961 instances of masses detected in mammograms, and contains the following attributes:\n",
    "\n",
    "1.\tBI-RADS assessment: 1 to 5 (ordinal)\n",
    "2.\tAge: patient's age in years (integer)\n",
    "3.\tShape: mass shape: round=1 oval=2 lobular=3 irregular=4 (nominal)\n",
    "4.\tMargin: mass margin: circumscribed=1 microlobulated=2 obscured=3 ill-defined=4 spiculated=5 (nominal)\n",
    "5.\tDensity: mass density high=1 iso=2 low=3 fat-containing=4 (ordinal)\n",
    "6.\tSeverity: benign=0 or malignant=1 (binominal)\n",
    "\n",
    "A supervised classification algorithm is a good choice to build a predictive model of a set of categories, in this case, benign or malignant. The dataset contains missing values so the first step will be to take care of them. Exploratory data analysis will help understand the data and find some patterns. Finally, different algorithmic models will be used to find the best accuracy possible; this includes neural networks."
   ]
  },
  {
   "cell_type": "markdown",
   "metadata": {},
   "source": [
    "### Loading libraries <a name= \"libraries\"></a>\n",
    "***\n",
    "These are some of the libraries used for data wrangling and EDA."
   ]
  },
  {
   "cell_type": "code",
   "execution_count": 398,
   "metadata": {},
   "outputs": [
    {
     "name": "stdout",
     "output_type": "stream",
     "text": [
      "Populating the interactive namespace from numpy and matplotlib\n"
     ]
    }
   ],
   "source": [
    "import os\n",
    "import pandas as pd\n",
    "import numpy as np\n",
    "import matplotlib.pyplot as plt\n",
    "from matplotlib import rcParams\n",
    "import seaborn as sns\n",
    "\n",
    "%matplotlib inline\n",
    "%pylab inline\n",
    "\n",
    "params = {'legend.fontsize': 'x-large',\n",
    "          'figure.figsize': (17.5, 10),\n",
    "         'axes.labelsize': 'x-large',\n",
    "         'axes.titlesize':'x-large',\n",
    "         'xtick.labelsize':'x-large',\n",
    "         'ytick.labelsize':'x-large'}\n",
    "\n",
    "pylab.rcParams.update(params)\n",
    "plt.style.use(['seaborn-white'])"
   ]
  },
  {
   "cell_type": "markdown",
   "metadata": {},
   "source": [
    "### Acquiring data <a name= \"acquire\"></a>\n",
    "***\n",
    "The data was acquired from the UCI repository called [Mammographic Mass Data Set](https://archive.ics.uci.edu/ml/datasets/Mammographic+Mass). Let's look at the data."
   ]
  },
  {
   "cell_type": "code",
   "execution_count": 399,
   "metadata": {},
   "outputs": [
    {
     "data": {
      "text/html": [
       "<div>\n",
       "<style scoped>\n",
       "    .dataframe tbody tr th:only-of-type {\n",
       "        vertical-align: middle;\n",
       "    }\n",
       "\n",
       "    .dataframe tbody tr th {\n",
       "        vertical-align: top;\n",
       "    }\n",
       "\n",
       "    .dataframe thead th {\n",
       "        text-align: right;\n",
       "    }\n",
       "</style>\n",
       "<table border=\"1\" class=\"dataframe\">\n",
       "  <thead>\n",
       "    <tr style=\"text-align: right;\">\n",
       "      <th></th>\n",
       "      <th>bi-rads</th>\n",
       "      <th>age</th>\n",
       "      <th>shape</th>\n",
       "      <th>margin</th>\n",
       "      <th>density</th>\n",
       "      <th>severity</th>\n",
       "    </tr>\n",
       "  </thead>\n",
       "  <tbody>\n",
       "    <tr>\n",
       "      <th>0</th>\n",
       "      <td>5.0</td>\n",
       "      <td>67.0</td>\n",
       "      <td>3.0</td>\n",
       "      <td>5.0</td>\n",
       "      <td>3.0</td>\n",
       "      <td>1</td>\n",
       "    </tr>\n",
       "    <tr>\n",
       "      <th>1</th>\n",
       "      <td>4.0</td>\n",
       "      <td>43.0</td>\n",
       "      <td>1.0</td>\n",
       "      <td>1.0</td>\n",
       "      <td>NaN</td>\n",
       "      <td>1</td>\n",
       "    </tr>\n",
       "    <tr>\n",
       "      <th>2</th>\n",
       "      <td>5.0</td>\n",
       "      <td>58.0</td>\n",
       "      <td>4.0</td>\n",
       "      <td>5.0</td>\n",
       "      <td>3.0</td>\n",
       "      <td>1</td>\n",
       "    </tr>\n",
       "    <tr>\n",
       "      <th>3</th>\n",
       "      <td>4.0</td>\n",
       "      <td>28.0</td>\n",
       "      <td>1.0</td>\n",
       "      <td>1.0</td>\n",
       "      <td>3.0</td>\n",
       "      <td>0</td>\n",
       "    </tr>\n",
       "    <tr>\n",
       "      <th>4</th>\n",
       "      <td>5.0</td>\n",
       "      <td>74.0</td>\n",
       "      <td>1.0</td>\n",
       "      <td>5.0</td>\n",
       "      <td>NaN</td>\n",
       "      <td>1</td>\n",
       "    </tr>\n",
       "  </tbody>\n",
       "</table>\n",
       "</div>"
      ],
      "text/plain": [
       "   bi-rads   age  shape  margin  density  severity\n",
       "0      5.0  67.0    3.0     5.0      3.0         1\n",
       "1      4.0  43.0    1.0     1.0      NaN         1\n",
       "2      5.0  58.0    4.0     5.0      3.0         1\n",
       "3      4.0  28.0    1.0     1.0      3.0         0\n",
       "4      5.0  74.0    1.0     5.0      NaN         1"
      ]
     },
     "execution_count": 399,
     "metadata": {},
     "output_type": "execute_result"
    }
   ],
   "source": [
    "data = pd.read_csv('mammographic_masses.data.txt',\n",
    "                   na_values=['?'],\n",
    "                   names=['bi-rads','age','shape','margin','density','severity'])\n",
    "data.head()"
   ]
  },
  {
   "cell_type": "markdown",
   "metadata": {},
   "source": [
    "It was neccessary to deal with the '?' in the data and set them as NaN values. As well, the names of the columns were missing so they were added for better understanding of the data."
   ]
  },
  {
   "cell_type": "markdown",
   "metadata": {},
   "source": [
    "### Data content <a name=\"content\"></a>\n",
    "***\n",
    "Let's look at the content of the data such as shape, columns, and summary statistics. "
   ]
  },
  {
   "cell_type": "code",
   "execution_count": 400,
   "metadata": {},
   "outputs": [
    {
     "name": "stdout",
     "output_type": "stream",
     "text": [
      "<class 'pandas.core.frame.DataFrame'>\n",
      "RangeIndex: 961 entries, 0 to 960\n",
      "Data columns (total 6 columns):\n",
      "bi-rads     959 non-null float64\n",
      "age         956 non-null float64\n",
      "shape       930 non-null float64\n",
      "margin      913 non-null float64\n",
      "density     885 non-null float64\n",
      "severity    961 non-null int64\n",
      "dtypes: float64(5), int64(1)\n",
      "memory usage: 45.1 KB\n"
     ]
    }
   ],
   "source": [
    "data.info()"
   ]
  },
  {
   "cell_type": "code",
   "execution_count": 401,
   "metadata": {},
   "outputs": [
    {
     "data": {
      "text/plain": [
       "(961, 6)"
      ]
     },
     "execution_count": 401,
     "metadata": {},
     "output_type": "execute_result"
    }
   ],
   "source": [
    "data.shape"
   ]
  },
  {
   "cell_type": "code",
   "execution_count": 402,
   "metadata": {},
   "outputs": [
    {
     "data": {
      "text/plain": [
       "Index(['bi-rads', 'age', 'shape', 'margin', 'density', 'severity'], dtype='object')"
      ]
     },
     "execution_count": 402,
     "metadata": {},
     "output_type": "execute_result"
    }
   ],
   "source": [
    "data.columns"
   ]
  },
  {
   "cell_type": "markdown",
   "metadata": {},
   "source": [
    "The data has 961 entries and 6 different columns. As mentioned before, it does have some missing values so let's looking at them."
   ]
  },
  {
   "cell_type": "markdown",
   "metadata": {},
   "source": [
    "### Missing Values <a name=\"missing\"></a>\n",
    "***\n",
    "Let's calculate the fraction of missing values per column. This will give us an idea if there is a need to drop columns or rows."
   ]
  },
  {
   "cell_type": "code",
   "execution_count": 403,
   "metadata": {},
   "outputs": [
    {
     "data": {
      "text/plain": [
       "bi-rads     0.208117\n",
       "age         0.520291\n",
       "shape       3.225806\n",
       "margin      4.994797\n",
       "density     7.908429\n",
       "severity    0.000000\n",
       "dtype: float64"
      ]
     },
     "execution_count": 403,
     "metadata": {},
     "output_type": "execute_result"
    }
   ],
   "source": [
    "data.isnull().sum()/len(data)*100"
   ]
  },
  {
   "cell_type": "markdown",
   "metadata": {},
   "source": [
    "The density column is the one missing the most values at 7.9%. Only severity column has all the complete data. The question lies in if the entries with missing data should be immediately dropped. Before dropping let's analyze the data and see if no biased is added due to dropping the columns. If it is, then filling in the missing data would be a better solution."
   ]
  },
  {
   "cell_type": "code",
   "execution_count": 404,
   "metadata": {},
   "outputs": [
    {
     "name": "stdout",
     "output_type": "stream",
     "text": [
      "<class 'pandas.core.frame.DataFrame'>\n",
      "Int64Index: 130 entries, 1 to 923\n",
      "Data columns (total 6 columns):\n",
      "bi-rads     129 non-null float64\n",
      "age         125 non-null float64\n",
      "shape       99 non-null float64\n",
      "margin      82 non-null float64\n",
      "density     54 non-null float64\n",
      "severity    130 non-null int64\n",
      "dtypes: float64(5), int64(1)\n",
      "memory usage: 7.1 KB\n"
     ]
    }
   ],
   "source": [
    "missing = data.loc[(data['age'].isnull()) | (data['shape'].isnull()) |\n",
    "        (data['margin'].isnull()) | (data['density'].isnull())]\n",
    "missing.info()"
   ]
  },
  {
   "cell_type": "markdown",
   "metadata": {},
   "source": [
    "The data is already only 961 entries and if missing values are dropped, 13.5% of the data will be gone. However, since in this case the problem is one with a person at risk, the decision is to drop the value and use accurate data for the modeling. "
   ]
  },
  {
   "cell_type": "code",
   "execution_count": 405,
   "metadata": {},
   "outputs": [],
   "source": [
    "data.dropna(inplace=True)"
   ]
  },
  {
   "cell_type": "code",
   "execution_count": 406,
   "metadata": {},
   "outputs": [
    {
     "name": "stdout",
     "output_type": "stream",
     "text": [
      "<class 'pandas.core.frame.DataFrame'>\n",
      "Int64Index: 830 entries, 0 to 960\n",
      "Data columns (total 6 columns):\n",
      "bi-rads     830 non-null float64\n",
      "age         830 non-null float64\n",
      "shape       830 non-null float64\n",
      "margin      830 non-null float64\n",
      "density     830 non-null float64\n",
      "severity    830 non-null int64\n",
      "dtypes: float64(5), int64(1)\n",
      "memory usage: 45.4 KB\n"
     ]
    }
   ],
   "source": [
    "data.info()"
   ]
  },
  {
   "cell_type": "code",
   "execution_count": 407,
   "metadata": {},
   "outputs": [
    {
     "data": {
      "text/html": [
       "<div>\n",
       "<style scoped>\n",
       "    .dataframe tbody tr th:only-of-type {\n",
       "        vertical-align: middle;\n",
       "    }\n",
       "\n",
       "    .dataframe tbody tr th {\n",
       "        vertical-align: top;\n",
       "    }\n",
       "\n",
       "    .dataframe thead th {\n",
       "        text-align: right;\n",
       "    }\n",
       "</style>\n",
       "<table border=\"1\" class=\"dataframe\">\n",
       "  <thead>\n",
       "    <tr style=\"text-align: right;\">\n",
       "      <th></th>\n",
       "      <th>bi-rads</th>\n",
       "      <th>age</th>\n",
       "      <th>shape</th>\n",
       "      <th>margin</th>\n",
       "      <th>density</th>\n",
       "      <th>severity</th>\n",
       "    </tr>\n",
       "  </thead>\n",
       "  <tbody>\n",
       "    <tr>\n",
       "      <th>count</th>\n",
       "      <td>830.000000</td>\n",
       "      <td>830.000000</td>\n",
       "      <td>830.000000</td>\n",
       "      <td>830.000000</td>\n",
       "      <td>830.000000</td>\n",
       "      <td>830.000000</td>\n",
       "    </tr>\n",
       "    <tr>\n",
       "      <th>mean</th>\n",
       "      <td>4.393976</td>\n",
       "      <td>55.781928</td>\n",
       "      <td>2.781928</td>\n",
       "      <td>2.813253</td>\n",
       "      <td>2.915663</td>\n",
       "      <td>0.485542</td>\n",
       "    </tr>\n",
       "    <tr>\n",
       "      <th>std</th>\n",
       "      <td>1.888371</td>\n",
       "      <td>14.671782</td>\n",
       "      <td>1.242361</td>\n",
       "      <td>1.567175</td>\n",
       "      <td>0.350936</td>\n",
       "      <td>0.500092</td>\n",
       "    </tr>\n",
       "    <tr>\n",
       "      <th>min</th>\n",
       "      <td>0.000000</td>\n",
       "      <td>18.000000</td>\n",
       "      <td>1.000000</td>\n",
       "      <td>1.000000</td>\n",
       "      <td>1.000000</td>\n",
       "      <td>0.000000</td>\n",
       "    </tr>\n",
       "    <tr>\n",
       "      <th>25%</th>\n",
       "      <td>4.000000</td>\n",
       "      <td>46.000000</td>\n",
       "      <td>2.000000</td>\n",
       "      <td>1.000000</td>\n",
       "      <td>3.000000</td>\n",
       "      <td>0.000000</td>\n",
       "    </tr>\n",
       "    <tr>\n",
       "      <th>50%</th>\n",
       "      <td>4.000000</td>\n",
       "      <td>57.000000</td>\n",
       "      <td>3.000000</td>\n",
       "      <td>3.000000</td>\n",
       "      <td>3.000000</td>\n",
       "      <td>0.000000</td>\n",
       "    </tr>\n",
       "    <tr>\n",
       "      <th>75%</th>\n",
       "      <td>5.000000</td>\n",
       "      <td>66.000000</td>\n",
       "      <td>4.000000</td>\n",
       "      <td>4.000000</td>\n",
       "      <td>3.000000</td>\n",
       "      <td>1.000000</td>\n",
       "    </tr>\n",
       "    <tr>\n",
       "      <th>max</th>\n",
       "      <td>55.000000</td>\n",
       "      <td>96.000000</td>\n",
       "      <td>4.000000</td>\n",
       "      <td>5.000000</td>\n",
       "      <td>4.000000</td>\n",
       "      <td>1.000000</td>\n",
       "    </tr>\n",
       "  </tbody>\n",
       "</table>\n",
       "</div>"
      ],
      "text/plain": [
       "          bi-rads         age       shape      margin     density    severity\n",
       "count  830.000000  830.000000  830.000000  830.000000  830.000000  830.000000\n",
       "mean     4.393976   55.781928    2.781928    2.813253    2.915663    0.485542\n",
       "std      1.888371   14.671782    1.242361    1.567175    0.350936    0.500092\n",
       "min      0.000000   18.000000    1.000000    1.000000    1.000000    0.000000\n",
       "25%      4.000000   46.000000    2.000000    1.000000    3.000000    0.000000\n",
       "50%      4.000000   57.000000    3.000000    3.000000    3.000000    0.000000\n",
       "75%      5.000000   66.000000    4.000000    4.000000    3.000000    1.000000\n",
       "max     55.000000   96.000000    4.000000    5.000000    4.000000    1.000000"
      ]
     },
     "execution_count": 407,
     "metadata": {},
     "output_type": "execute_result"
    }
   ],
   "source": [
    "data.describe()"
   ]
  },
  {
   "cell_type": "markdown",
   "metadata": {},
   "source": [
    "Now the data has 830 entries with no missing values. Most of the data types are floats so let's make sure all the data has the same data type. "
   ]
  },
  {
   "cell_type": "markdown",
   "metadata": {},
   "source": [
    "### Changing data types <a name=\"datatypes\"></a>\n",
    "***\n",
    "The only column that is integer type is *severity* so let's change its data type to float."
   ]
  },
  {
   "cell_type": "code",
   "execution_count": 408,
   "metadata": {},
   "outputs": [],
   "source": [
    "data['severity'] = data['severity'].astype(float)"
   ]
  },
  {
   "cell_type": "code",
   "execution_count": 409,
   "metadata": {},
   "outputs": [
    {
     "name": "stdout",
     "output_type": "stream",
     "text": [
      "<class 'pandas.core.frame.DataFrame'>\n",
      "Int64Index: 830 entries, 0 to 960\n",
      "Data columns (total 6 columns):\n",
      "bi-rads     830 non-null float64\n",
      "age         830 non-null float64\n",
      "shape       830 non-null float64\n",
      "margin      830 non-null float64\n",
      "density     830 non-null float64\n",
      "severity    830 non-null float64\n",
      "dtypes: float64(6)\n",
      "memory usage: 45.4 KB\n"
     ]
    }
   ],
   "source": [
    "data.info()"
   ]
  },
  {
   "cell_type": "markdown",
   "metadata": {},
   "source": [
    "Now all the data is one data type and will be easier to work with."
   ]
  },
  {
   "cell_type": "markdown",
   "metadata": {},
   "source": [
    "# 2. Exploratory Data Analysis <a name=\"EDA\"></a>\n",
    "***\n",
    "Let's do EDA to find patterns and understand the data."
   ]
  },
  {
   "cell_type": "markdown",
   "metadata": {},
   "source": [
    "### Feature Visualization <a name=\"features\"></a>\n",
    "***\n",
    "First, let's look at the target column *severity*."
   ]
  },
  {
   "cell_type": "code",
   "execution_count": 410,
   "metadata": {},
   "outputs": [
    {
     "data": {
      "text/plain": [
       "0.0    427\n",
       "1.0    403\n",
       "Name: severity, dtype: int64"
      ]
     },
     "execution_count": 410,
     "metadata": {},
     "output_type": "execute_result"
    }
   ],
   "source": [
    "data['severity'].value_counts()"
   ]
  },
  {
   "cell_type": "code",
   "execution_count": 411,
   "metadata": {},
   "outputs": [
    {
     "data": {
      "text/plain": [
       "Text(0.5,1,'Severity Count Plot')"
      ]
     },
     "execution_count": 411,
     "metadata": {},
     "output_type": "execute_result"
    },
    {
     "data": {
      "image/png": "[encoded data removed]",
      "text/plain": [
       "<Figure size 1260x720 with 1 Axes>"
      ]
     },
     "metadata": {},
     "output_type": "display_data"
    }
   ],
   "source": [
    "sns.countplot(x='severity',data=data)\n",
    "plt.title('Severity Count Plot')"
   ]
  },
  {
   "cell_type": "markdown",
   "metadata": {},
   "source": [
    "Slightly more mammographic mass lesions were diagnosed as benign. To be more specific, the data contains 427 patients with benign lesions and 403 with malignant.\n",
    "\n",
    "Now let's look at the distribution of patients' age."
   ]
  },
  {
   "cell_type": "code",
   "execution_count": 412,
   "metadata": {},
   "outputs": [
    {
     "data": {
      "text/plain": [
       "Text(0,0.5,'Count')"
      ]
     },
     "execution_count": 412,
     "metadata": {},
     "output_type": "execute_result"
    },
    {
     "data": {
      "image/png": "[encoded data removed]",
      "text/plain": [
       "<Figure size 1260x720 with 1 Axes>"
      ]
     },
     "metadata": {},
     "output_type": "display_data"
    }
   ],
   "source": [
    "_ = plt.hist(data['age'],bins=30)\n",
    "plt.title('Patients\\' Age')\n",
    "plt.xlabel('Age')\n",
    "plt.ylabel('Count')"
   ]
  },
  {
   "cell_type": "markdown",
   "metadata": {},
   "source": [
    "The histogram looks like the age of patients is normally distributed. Some important takeaways from the graph are: \n",
    "\n",
    "- Most of the patients tend to be between 40 and 80 years old.\n",
    "- Some of the patients are getting screened at an early age.\n",
    "\n",
    "Now let's look how the difference between bening  and malignant by age and compare them."
   ]
  },
  {
   "cell_type": "code",
   "execution_count": 413,
   "metadata": {},
   "outputs": [
    {
     "data": {
      "text/plain": [
       "Text(0,0.5,'Count')"
      ]
     },
     "execution_count": 413,
     "metadata": {},
     "output_type": "execute_result"
    },
    {
     "data": {
      "image/png": "[encoded data removed]",
      "text/plain": [
       "<Figure size 1260x720 with 2 Axes>"
      ]
     },
     "metadata": {},
     "output_type": "display_data"
    }
   ],
   "source": [
    "plt.subplot(1,2,1)\n",
    "benign = data[data['severity']==0]\n",
    "_ = plt.hist(benign['age'])\n",
    "plt.title('Benign lesion')\n",
    "plt.xlabel('Age')\n",
    "plt.ylabel('Count')\n",
    "\n",
    "plt.subplot(1,2,2)\n",
    "malignant = data[data['severity']==1]\n",
    "_ = plt.hist(malignant['age'])\n",
    "plt.title('Malignant lesion')\n",
    "plt.xlabel('Age')\n",
    "plt.ylabel('Count')"
   ]
  },
  {
   "cell_type": "markdown",
   "metadata": {},
   "source": [
    "The benign lesions looks right-skewed and malignant lesion looks symmetrical. \n",
    "\n",
    "- Most malignant lesions were diagnosed between 60 and 70 years old. \n",
    "- Most patients start there diagnose at an early age, 30's. \n",
    "- According to the data, some patients were diagnosed with malignant lesions in there 30's.  \n",
    "\n",
    "Now it is time to look at the shape of the lesions. The shape of the lesion can be the following: \n",
    "\n",
    "- mass shape: round=1 oval=2 lobular=3 irregular=4 \n",
    "\n",
    "So let's look what the shape data tells."
   ]
  },
  {
   "cell_type": "code",
   "execution_count": 414,
   "metadata": {},
   "outputs": [
    {
     "data": {
      "text/plain": [
       "Text(0.5,0,'Shape')"
      ]
     },
     "execution_count": 414,
     "metadata": {},
     "output_type": "execute_result"
    },
    {
     "data": {
      "image/png": "[encoded data removed]",
      "text/plain": [
       "<Figure size 1260x720 with 1 Axes>"
      ]
     },
     "metadata": {},
     "output_type": "display_data"
    }
   ],
   "source": [
    "g = sns.countplot(x='shape',data=data)\n",
    "g.set_xticklabels(['round','oval','lobular','irregular'])\n",
    "plt.title('Mass shape of lesion')\n",
    "plt.xlabel('Shape')"
   ]
  },
  {
   "cell_type": "markdown",
   "metadata": {},
   "source": [
    "The graph shows that most of the lesions had an irregular shape. The least amount of them had a lobular shape. \n",
    "\n",
    "Let's see how severity is related to the shape of each lession. "
   ]
  },
  {
   "cell_type": "code",
   "execution_count": 415,
   "metadata": {},
   "outputs": [
    {
     "data": {
      "image/png": "[encoded data removed]",
      "text/plain": [
       "<Figure size 1080x1080 with 4 Axes>"
      ]
     },
     "metadata": {},
     "output_type": "display_data"
    }
   ],
   "source": [
    "shapes = ['round','oval','lobular','irregular']\n",
    "plt.figure(figsize=(15,15))\n",
    "for i in range(1,5):\n",
    "    plt.subplot(2,2,i)\n",
    "    g = sns.countplot(x='severity',data=data[data['shape']==i])\n",
    "    g.set_xticklabels(['benign','malignant'])\n",
    "    plt.title('Severity for ' + shapes[i-1] + ' shape')\n",
    "    plt.ylim(0,320)"
   ]
  },
  {
   "cell_type": "markdown",
   "metadata": {},
   "source": [
    "The 4 graphs show a better relationship between the severity of the lesion and the shape that the lesion has. The following are some of the takeaways:\n",
    "\n",
    "- Most of malignant lesions tend to be of irregular shape. However, there is still some of irregular shape lesions that can be benign.\n",
    "- Round and oval lesions tend to be benign.\n",
    "- There are not many lobular shape lesions; however, it looks like there is 50% chance of beign malignant or benign.\n",
    "\n",
    "Now let's take a look at the mass margin of the lesion. "
   ]
  },
  {
   "cell_type": "code",
   "execution_count": 416,
   "metadata": {},
   "outputs": [
    {
     "data": {
      "text/plain": [
       "Text(0.5,0,'Margin')"
      ]
     },
     "execution_count": 416,
     "metadata": {},
     "output_type": "execute_result"
    },
    {
     "data": {
      "image/png": "[encoded data removed]",
      "text/plain": [
       "<Figure size 1260x720 with 1 Axes>"
      ]
     },
     "metadata": {},
     "output_type": "display_data"
    }
   ],
   "source": [
    "margin = ['circumscribed','microlobulated','obscured',\n",
    "                   'ill-defined', 'spiculated']\n",
    "g = sns.countplot(x='margin',data=data)\n",
    "g.set_xticklabels(margin)\n",
    "plt.title('Mass margin of lesion')\n",
    "plt.xlabel('Margin')"
   ]
  },
  {
   "cell_type": "markdown",
   "metadata": {},
   "source": [
    "- Most of the lesions are circumscribed or ill-defined.\n",
    "- There is only a few lesions that are microlobulated.\n",
    "\n",
    "Let's see how the mass margin is related to the severity of the lesion."
   ]
  },
  {
   "cell_type": "code",
   "execution_count": 417,
   "metadata": {},
   "outputs": [
    {
     "data": {
      "image/png": "[encoded data removed]",
      "text/plain": [
       "<Figure size 1080x1080 with 5 Axes>"
      ]
     },
     "metadata": {},
     "output_type": "display_data"
    }
   ],
   "source": [
    "plt.figure(figsize=(15,15))\n",
    "for i in range(1,6):\n",
    "    plt.subplot(2,3,i)\n",
    "    g = sns.countplot(x='severity',data=data[data['margin']==i])\n",
    "    g.set_xticklabels(['benign','malignant'])\n",
    "    plt.title('Severity for ' + margin[i-1] + ' mass margin')\n",
    "    plt.ylim(0,320)"
   ]
  },
  {
   "cell_type": "markdown",
   "metadata": {},
   "source": [
    "- Even though most of the lesions are circumscribed, they tend to be benign.\n",
    "- If the mass margin is ill-defined or spiculated, it tends to be malignant. \n",
    "- As for obscured or microbulated, the lesions are almost 50% chance of being classified malignant or benign.\n",
    "\n",
    "At last, let's go over the lesion's mass density and see how it is related to the target variable *severity*."
   ]
  },
  {
   "cell_type": "code",
   "execution_count": 418,
   "metadata": {},
   "outputs": [
    {
     "data": {
      "text/plain": [
       "Text(0.5,0,'Density')"
      ]
     },
     "execution_count": 418,
     "metadata": {},
     "output_type": "execute_result"
    },
    {
     "data": {
      "image/png": "[encoded data removed]",
      "text/plain": [
       "<Figure size 1260x720 with 1 Axes>"
      ]
     },
     "metadata": {},
     "output_type": "display_data"
    }
   ],
   "source": [
    "density = ['high','iso','low','fat-containing']\n",
    "g = sns.countplot(x='density',data=data)\n",
    "g.set_xticklabels(density)\n",
    "plt.title('Mass density of lesion')\n",
    "plt.xlabel('Density')"
   ]
  },
  {
   "cell_type": "markdown",
   "metadata": {},
   "source": [
    "A majority of the patients had a lesion with low mass density. Now let's see the relationship between mass density and severity."
   ]
  },
  {
   "cell_type": "code",
   "execution_count": 419,
   "metadata": {},
   "outputs": [
    {
     "data": {
      "image/png": "[encoded data removed]",
      "text/plain": [
       "<Figure size 1080x1080 with 4 Axes>"
      ]
     },
     "metadata": {},
     "output_type": "display_data"
    }
   ],
   "source": [
    "plt.figure(figsize=(15,15))\n",
    "for i in range(1,5):\n",
    "    plt.subplot(2,2,i)\n",
    "    g = sns.countplot(x='severity',data=data[data['density']==i])\n",
    "    g.set_xticklabels(['benign','malignant'])\n",
    "    plt.title('Severity for ' + density[i-1] + ' mass density')\n",
    "    plt.ylim(0,400)"
   ]
  },
  {
   "cell_type": "markdown",
   "metadata": {},
   "source": [
    "It looks like no conclusion can be made depending on the mass density. Almost all of the lesions were low density; however, 50% of the lesions were classified as benign. \n",
    "\n",
    "Now let's look at BI-RADS feature which is how confident the severity classification is."
   ]
  },
  {
   "cell_type": "code",
   "execution_count": 420,
   "metadata": {},
   "outputs": [
    {
     "data": {
      "text/plain": [
       "Text(0.5,0,'BI-RADS')"
      ]
     },
     "execution_count": 420,
     "metadata": {},
     "output_type": "execute_result"
    },
    {
     "data": {
      "image/png": "[encoded data removed]",
      "text/plain": [
       "<Figure size 1260x720 with 1 Axes>"
      ]
     },
     "metadata": {},
     "output_type": "display_data"
    }
   ],
   "source": [
    "sns.countplot(x='bi-rads',data=data)\n",
    "plt.title('Confidence of severity classification')\n",
    "plt.xlabel('BI-RADS')"
   ]
  },
  {
   "cell_type": "code",
   "execution_count": 421,
   "metadata": {},
   "outputs": [
    {
     "data": {
      "text/plain": [
       "4.0     468\n",
       "5.0     316\n",
       "3.0      24\n",
       "6.0       9\n",
       "2.0       7\n",
       "0.0       5\n",
       "55.0      1\n",
       "Name: bi-rads, dtype: int64"
      ]
     },
     "execution_count": 421,
     "metadata": {},
     "output_type": "execute_result"
    }
   ],
   "source": [
    "data['bi-rads'].value_counts()"
   ]
  },
  {
   "cell_type": "markdown",
   "metadata": {},
   "source": [
    "The scale of BI-RADS feature has to be from 0 to 5. However, the data has values of 6 and 55. It is necessary to drop them since they are only 10 entries and it is not possible to know if only the BI-RADS was entered incorrectly or the whole entry.\n",
    "\n",
    "Also, the data shows that most of the severity classifications have a high confidence of 4 and 5. In this case, let's just work with the entries of high confidence."
   ]
  },
  {
   "cell_type": "markdown",
   "metadata": {},
   "source": [
    "# 3. Data Cleaning\n",
    "***\n",
    "EDA helped to visualize and have a good understanding of the data. The aim here is to remove data with low confidence of classification results as well as errors in the data. Removing the inconsistent data will help our model have a better performance. Let's look at some of the cases found thanks to EDA."
   ]
  },
  {
   "cell_type": "markdown",
   "metadata": {},
   "source": [
    "### BI-RADS <a name=\"bi-rads\"></a>\n",
    "***\n",
    "The scale for BI-RADS has to be between 0 and 5. However, the data contains entries with values of 6 and 55. Since in this case it is hard to know what happened with the data, let's drop them."
   ]
  },
  {
   "cell_type": "code",
   "execution_count": 422,
   "metadata": {},
   "outputs": [
    {
     "data": {
      "text/html": [
       "<div>\n",
       "<style scoped>\n",
       "    .dataframe tbody tr th:only-of-type {\n",
       "        vertical-align: middle;\n",
       "    }\n",
       "\n",
       "    .dataframe tbody tr th {\n",
       "        vertical-align: top;\n",
       "    }\n",
       "\n",
       "    .dataframe thead th {\n",
       "        text-align: right;\n",
       "    }\n",
       "</style>\n",
       "<table border=\"1\" class=\"dataframe\">\n",
       "  <thead>\n",
       "    <tr style=\"text-align: right;\">\n",
       "      <th></th>\n",
       "      <th>bi-rads</th>\n",
       "      <th>age</th>\n",
       "      <th>shape</th>\n",
       "      <th>margin</th>\n",
       "      <th>density</th>\n",
       "      <th>severity</th>\n",
       "    </tr>\n",
       "  </thead>\n",
       "  <tbody>\n",
       "    <tr>\n",
       "      <th>340</th>\n",
       "      <td>55.0</td>\n",
       "      <td>46.0</td>\n",
       "      <td>4.0</td>\n",
       "      <td>3.0</td>\n",
       "      <td>3.0</td>\n",
       "      <td>1.0</td>\n",
       "    </tr>\n",
       "    <tr>\n",
       "      <th>550</th>\n",
       "      <td>6.0</td>\n",
       "      <td>80.0</td>\n",
       "      <td>4.0</td>\n",
       "      <td>5.0</td>\n",
       "      <td>3.0</td>\n",
       "      <td>1.0</td>\n",
       "    </tr>\n",
       "    <tr>\n",
       "      <th>664</th>\n",
       "      <td>6.0</td>\n",
       "      <td>60.0</td>\n",
       "      <td>3.0</td>\n",
       "      <td>5.0</td>\n",
       "      <td>3.0</td>\n",
       "      <td>1.0</td>\n",
       "    </tr>\n",
       "    <tr>\n",
       "      <th>692</th>\n",
       "      <td>6.0</td>\n",
       "      <td>51.0</td>\n",
       "      <td>4.0</td>\n",
       "      <td>4.0</td>\n",
       "      <td>3.0</td>\n",
       "      <td>1.0</td>\n",
       "    </tr>\n",
       "    <tr>\n",
       "      <th>707</th>\n",
       "      <td>6.0</td>\n",
       "      <td>41.0</td>\n",
       "      <td>2.0</td>\n",
       "      <td>1.0</td>\n",
       "      <td>3.0</td>\n",
       "      <td>0.0</td>\n",
       "    </tr>\n",
       "  </tbody>\n",
       "</table>\n",
       "</div>"
      ],
      "text/plain": [
       "     bi-rads   age  shape  margin  density  severity\n",
       "340     55.0  46.0    4.0     3.0      3.0       1.0\n",
       "550      6.0  80.0    4.0     5.0      3.0       1.0\n",
       "664      6.0  60.0    3.0     5.0      3.0       1.0\n",
       "692      6.0  51.0    4.0     4.0      3.0       1.0\n",
       "707      6.0  41.0    2.0     1.0      3.0       0.0"
      ]
     },
     "execution_count": 422,
     "metadata": {},
     "output_type": "execute_result"
    }
   ],
   "source": [
    "bi = data[data['bi-rads']>5]\n",
    "bi.head()"
   ]
  },
  {
   "cell_type": "code",
   "execution_count": 423,
   "metadata": {},
   "outputs": [],
   "source": [
    "data.drop(bi.index,inplace=True)"
   ]
  },
  {
   "cell_type": "markdown",
   "metadata": {},
   "source": [
    "### High Confidence <a name=\"confidence\"></a>\n",
    "***\n",
    "To improve accuracy, let's use data with high confidence of severity classification. This means that only rows with BI-RADS value of 4 and up will be used for modeling."
   ]
  },
  {
   "cell_type": "code",
   "execution_count": 424,
   "metadata": {},
   "outputs": [],
   "source": [
    "data = data[data['bi-rads']>=4]"
   ]
  },
  {
   "cell_type": "code",
   "execution_count": 425,
   "metadata": {},
   "outputs": [
    {
     "name": "stdout",
     "output_type": "stream",
     "text": [
      "<class 'pandas.core.frame.DataFrame'>\n",
      "Int64Index: 784 entries, 0 to 960\n",
      "Data columns (total 6 columns):\n",
      "bi-rads     784 non-null float64\n",
      "age         784 non-null float64\n",
      "shape       784 non-null float64\n",
      "margin      784 non-null float64\n",
      "density     784 non-null float64\n",
      "severity    784 non-null float64\n",
      "dtypes: float64(6)\n",
      "memory usage: 42.9 KB\n"
     ]
    }
   ],
   "source": [
    "data.info()"
   ]
  },
  {
   "cell_type": "markdown",
   "metadata": {},
   "source": [
    "The dataset started with 961 instances and after data cleaning, it contains 784 entries."
   ]
  },
  {
   "cell_type": "markdown",
   "metadata": {},
   "source": [
    "### Non-Predictive <a name=\"nonpredictive\"> </a>\n",
    "***\n",
    "BI-RADS feature helped for data cleaning since it gave the confidence of severity classification. EDA showed that some of the BI-RADS were entered incorrectly and also that most of the entries have high confidence. \n",
    "\n",
    "According to the data, BI-RADS is not a predictive attribute so let's drop the column and have the data ready for modeling."
   ]
  },
  {
   "cell_type": "code",
   "execution_count": 426,
   "metadata": {},
   "outputs": [],
   "source": [
    "data.drop('bi-rads',axis=1,inplace=True)"
   ]
  },
  {
   "cell_type": "code",
   "execution_count": 427,
   "metadata": {},
   "outputs": [],
   "source": [
    "data.reset_index(drop=True,inplace=True)"
   ]
  },
  {
   "cell_type": "code",
   "execution_count": 428,
   "metadata": {},
   "outputs": [
    {
     "data": {
      "text/html": [
       "<div>\n",
       "<style scoped>\n",
       "    .dataframe tbody tr th:only-of-type {\n",
       "        vertical-align: middle;\n",
       "    }\n",
       "\n",
       "    .dataframe tbody tr th {\n",
       "        vertical-align: top;\n",
       "    }\n",
       "\n",
       "    .dataframe thead th {\n",
       "        text-align: right;\n",
       "    }\n",
       "</style>\n",
       "<table border=\"1\" class=\"dataframe\">\n",
       "  <thead>\n",
       "    <tr style=\"text-align: right;\">\n",
       "      <th></th>\n",
       "      <th>age</th>\n",
       "      <th>shape</th>\n",
       "      <th>margin</th>\n",
       "      <th>density</th>\n",
       "      <th>severity</th>\n",
       "    </tr>\n",
       "  </thead>\n",
       "  <tbody>\n",
       "    <tr>\n",
       "      <th>0</th>\n",
       "      <td>67.0</td>\n",
       "      <td>3.0</td>\n",
       "      <td>5.0</td>\n",
       "      <td>3.0</td>\n",
       "      <td>1.0</td>\n",
       "    </tr>\n",
       "    <tr>\n",
       "      <th>1</th>\n",
       "      <td>58.0</td>\n",
       "      <td>4.0</td>\n",
       "      <td>5.0</td>\n",
       "      <td>3.0</td>\n",
       "      <td>1.0</td>\n",
       "    </tr>\n",
       "    <tr>\n",
       "      <th>2</th>\n",
       "      <td>28.0</td>\n",
       "      <td>1.0</td>\n",
       "      <td>1.0</td>\n",
       "      <td>3.0</td>\n",
       "      <td>0.0</td>\n",
       "    </tr>\n",
       "    <tr>\n",
       "      <th>3</th>\n",
       "      <td>57.0</td>\n",
       "      <td>1.0</td>\n",
       "      <td>5.0</td>\n",
       "      <td>3.0</td>\n",
       "      <td>1.0</td>\n",
       "    </tr>\n",
       "    <tr>\n",
       "      <th>4</th>\n",
       "      <td>76.0</td>\n",
       "      <td>1.0</td>\n",
       "      <td>4.0</td>\n",
       "      <td>3.0</td>\n",
       "      <td>1.0</td>\n",
       "    </tr>\n",
       "  </tbody>\n",
       "</table>\n",
       "</div>"
      ],
      "text/plain": [
       "    age  shape  margin  density  severity\n",
       "0  67.0    3.0     5.0      3.0       1.0\n",
       "1  58.0    4.0     5.0      3.0       1.0\n",
       "2  28.0    1.0     1.0      3.0       0.0\n",
       "3  57.0    1.0     5.0      3.0       1.0\n",
       "4  76.0    1.0     4.0      3.0       1.0"
      ]
     },
     "execution_count": 428,
     "metadata": {},
     "output_type": "execute_result"
    }
   ],
   "source": [
    "data.head()"
   ]
  },
  {
   "cell_type": "markdown",
   "metadata": {},
   "source": [
    "Age, shape, margin, and density attributes are the features that we will build our model with, and \"severity\" is the classification we will attempt to predict based on those attributes. "
   ]
  },
  {
   "cell_type": "markdown",
   "metadata": {},
   "source": [
    "# 4. Modeling <a name=\"modeling\"></a>\n",
    "***\n",
    "Let's apply different supervised machine learning techniques to the data set, and see which one yields the highest accuracy as measured with K-Fold cross-validation (k=3) and hyperparameter tuning. Let's use only 3 folds since the dataset is small and the more folds the smaller each fold becomes. "
   ]
  },
  {
   "cell_type": "markdown",
   "metadata": {},
   "source": [
    "### Loading libraries <a name=\"libraries\"></a>\n",
    "***\n",
    "The project will cover the following techniques:\n",
    "\n",
    "* KNN\n",
    "* Logistic Regression\n",
    "* Naive Bayes\n",
    "* SVM\n",
    "* Random forest\n",
    "* A neural network using Keras.\n",
    "\n",
    "These are some of the libraries used for modeling."
   ]
  },
  {
   "cell_type": "code",
   "execution_count": 429,
   "metadata": {},
   "outputs": [],
   "source": [
    "from sklearn.preprocessing import StandardScaler, MinMaxScaler\n",
    "\n",
    "from sklearn.model_selection import GridSearchCV, train_test_split, cross_val_score\n",
    "from sklearn.pipeline import Pipeline\n",
    "\n",
    "from sklearn.neighbors import KNeighborsClassifier\n",
    "from sklearn.linear_model import LogisticRegression\n",
    "from sklearn.naive_bayes import MultinomialNB\n",
    "from sklearn.svm import SVC\n",
    "from sklearn.tree import DecisionTreeClassifier\n",
    "from sklearn.ensemble import RandomForestClassifier\n",
    "\n",
    "from keras.utils import to_categorical\n",
    "from keras.models import Sequential\n",
    "from keras.layers import Dense\n",
    "\n",
    "from sklearn.metrics import confusion_matrix, classification_report, f1_score"
   ]
  },
  {
   "cell_type": "markdown",
   "metadata": {},
   "source": [
    "### Save  Data <a name=\"save\"></a>\n",
    "***\n",
    "Now that the dataset is ready let's save it for further reference."
   ]
  },
  {
   "cell_type": "code",
   "execution_count": 430,
   "metadata": {},
   "outputs": [],
   "source": [
    "if not os.path.isdir('cleaned_mammographic_data.csv'):\n",
    "    data.to_csv('cleaned_mammographic_data.csv')"
   ]
  },
  {
   "cell_type": "markdown",
   "metadata": {},
   "source": [
    "### Scale and Split Data <a name=\"scalesplit\"></a>\n",
    "***\n",
    "Now let's preprocess the data and scale it since some of the models require it. As well, the data will be split into 80% for training and 20% for testing. "
   ]
  },
  {
   "cell_type": "code",
   "execution_count": 431,
   "metadata": {},
   "outputs": [],
   "source": [
    "X = data.drop('severity',axis=1)\n",
    "y = data['severity']"
   ]
  },
  {
   "cell_type": "code",
   "execution_count": 432,
   "metadata": {},
   "outputs": [
    {
     "data": {
      "text/plain": [
       "array([[ 0.74714206,  0.16557907,  1.381805  ,  0.24002063],\n",
       "       [ 0.12874507,  0.97187716,  1.381805  ,  0.24002063],\n",
       "       [-1.93257826, -1.44701711, -1.17172504,  0.24002063],\n",
       "       ..., \n",
       "       [ 0.54100973,  0.97187716,  1.381805  ,  0.24002063],\n",
       "       [ 0.67843129,  0.97187716,  1.381805  ,  0.24002063],\n",
       "       [ 0.40358818,  0.16557907,  0.10503998,  0.24002063]])"
      ]
     },
     "execution_count": 432,
     "metadata": {},
     "output_type": "execute_result"
    }
   ],
   "source": [
    "scaler = StandardScaler()\n",
    "scaled_features = scaler.fit_transform(X)\n",
    "scaled_features"
   ]
  },
  {
   "cell_type": "code",
   "execution_count": 433,
   "metadata": {},
   "outputs": [],
   "source": [
    "X_train, X_test, y_train, y_test = train_test_split(scaled_features, y, test_size=0.20, random_state=102)"
   ]
  },
  {
   "cell_type": "markdown",
   "metadata": {},
   "source": [
    "### KNN <a name=\"knn\"></a>\n",
    "***\n",
    "K-Nearest Neighbor classifier is one of the simplest ways to classify data. Given some labeled data points, you are given a new unlabeled data point and the question is what label should it have. The way KNN classification works is that you look at the nearest neighbors of the new data point. Very likely the unlabeled data point should have a similar category(label) to the most data points closest to it. It is like a majority voting of the nearest neighbors of the unlabeled data point.\n",
    "\n",
    "There is a size of the neighborhood(k) that determines how far the neighbors can be and this value matters since different values can lead to different classification of the unlabeled data. To determine the value k, it is necessary to evaluate the performance of the classifier. As k increases, the decision boundary gets smoother which reduces the variance and increases the bias. "
   ]
  },
  {
   "cell_type": "markdown",
   "metadata": {},
   "source": [
    "The first step will be to find the optimal k that minimizes the error. So let's do cross validation to figure this out.\n",
    "\n"
   ]
  },
  {
   "cell_type": "code",
   "execution_count": 434,
   "metadata": {},
   "outputs": [],
   "source": [
    "# creating list of K for KNN\n",
    "myList = list(range(1,50))\n",
    "\n",
    "# empty list that will hold cv scores\n",
    "cv_scores = []\n",
    "\n",
    "# perform 3-fold cross validation\n",
    "for k in myList:\n",
    "    knn = KNeighborsClassifier(n_neighbors=k)\n",
    "    scores = cross_val_score(knn, X_train, y_train, cv=3, scoring='accuracy')\n",
    "    cv_scores.append(scores.mean())"
   ]
  },
  {
   "cell_type": "code",
   "execution_count": 435,
   "metadata": {},
   "outputs": [
    {
     "data": {
      "text/plain": [
       "Text(0,0.5,'Misclassification Error')"
      ]
     },
     "execution_count": 435,
     "metadata": {},
     "output_type": "execute_result"
    },
    {
     "data": {
      "image/png": "[encoded data removed]",
      "text/plain": [
       "<Figure size 1260x720 with 1 Axes>"
      ]
     },
     "metadata": {},
     "output_type": "display_data"
    }
   ],
   "source": [
    "# changing to misclassification error\n",
    "MSE = [1 - x for x in cv_scores]\n",
    "\n",
    "# plot misclassification error vs k\n",
    "plt.plot(myList, MSE)\n",
    "plt.xlabel('Number of Neighbors K')\n",
    "plt.ylabel('Misclassification Error')"
   ]
  },
  {
   "cell_type": "markdown",
   "metadata": {},
   "source": [
    "The graph shows that k=7 gives the lowest error with the least amount of neighbors. Now let's try fitting the model with different values of k and make sure 7 is the right value for k."
   ]
  },
  {
   "cell_type": "code",
   "execution_count": 436,
   "metadata": {},
   "outputs": [],
   "source": [
    "params = {'n_neighbors':list(range(1,15))}\n",
    "\n",
    "knn_cv = GridSearchCV(KNeighborsClassifier(),params,cv=3)"
   ]
  },
  {
   "cell_type": "code",
   "execution_count": 437,
   "metadata": {},
   "outputs": [
    {
     "name": "stdout",
     "output_type": "stream",
     "text": [
      "CPU times: user 278 ms, sys: 9.64 ms, total: 288 ms\n",
      "Wall time: 271 ms\n"
     ]
    },
    {
     "data": {
      "text/plain": [
       "GridSearchCV(cv=3, error_score='raise',\n",
       "       estimator=KNeighborsClassifier(algorithm='auto', leaf_size=30, metric='minkowski',\n",
       "           metric_params=None, n_jobs=1, n_neighbors=5, p=2,\n",
       "           weights='uniform'),\n",
       "       fit_params=None, iid=True, n_jobs=1,\n",
       "       param_grid={'n_neighbors': [1, 2, 3, 4, 5, 6, 7, 8, 9, 10, 11, 12, 13, 14]},\n",
       "       pre_dispatch='2*n_jobs', refit=True, return_train_score='warn',\n",
       "       scoring=None, verbose=0)"
      ]
     },
     "execution_count": 437,
     "metadata": {},
     "output_type": "execute_result"
    }
   ],
   "source": [
    "%time knn_cv.fit(X_train,y_train)"
   ]
  },
  {
   "cell_type": "code",
   "execution_count": 438,
   "metadata": {},
   "outputs": [
    {
     "name": "stdout",
     "output_type": "stream",
     "text": [
      "CPU times: user 2.84 ms, sys: 904 µs, total: 3.74 ms\n",
      "Wall time: 2.54 ms\n",
      "Best Parameters: {'n_neighbors': 7}\n",
      "Best score is 0.7990430622009569\n"
     ]
    }
   ],
   "source": [
    "%time y_pred = knn_cv.predict(X_test)\n",
    "\n",
    "print(\"Best Parameters: {}\".format(knn_cv.best_params_)) \n",
    "print(\"Best score is {}\".format(knn_cv.best_score_))"
   ]
  },
  {
   "cell_type": "markdown",
   "metadata": {},
   "source": [
    "As expected, the best k value is 7. The best score for KNN is **0.7990**."
   ]
  },
  {
   "cell_type": "code",
   "execution_count": 439,
   "metadata": {},
   "outputs": [],
   "source": [
    "def results(X_test,y_test,y_pred,model):\n",
    "    print(\"#####################\")\n",
    "    print(\"Test data\")\n",
    "    print(\"#####################\")\n",
    "    print(\"Model Accuracy: {:.2f}%\".format(100*model.score(X_test, y_test)))\n",
    "    print(\"#####################\")\n",
    "    print(\"F1 Score: \", f1_score(y_test, y_pred))\n",
    "    print(\"#####################\")\n",
    "    print(classification_report(y_test, y_pred))\n",
    "    print(\"#####################\")\n",
    "    conf_matrix = confusion_matrix(y_test, y_pred)\n",
    "    df_cm = pd.DataFrame(conf_matrix, range(2),range(2))\n",
    "    sns.set(font_scale=1.4) #for label size\n",
    "    sns.heatmap(df_cm, cmap='Blues',annot=True,annot_kws={\"size\": 36})"
   ]
  },
  {
   "cell_type": "code",
   "execution_count": 440,
   "metadata": {},
   "outputs": [
    {
     "name": "stdout",
     "output_type": "stream",
     "text": [
      "#####################\n",
      "Test data\n",
      "#####################\n",
      "Model Accuracy: 74.52%\n",
      "#####################\n",
      "F1 Score:  0.775280898876\n",
      "#####################\n",
      "             precision    recall  f1-score   support\n",
      "\n",
      "        0.0       0.79      0.64      0.71        75\n",
      "        1.0       0.72      0.84      0.78        82\n",
      "\n",
      "avg / total       0.75      0.75      0.74       157\n",
      "\n",
      "#####################\n"
     ]
    },
    {
     "data": {
      "image/png": "[encoded data removed]",
      "text/plain": [
       "<Figure size 1260x720 with 2 Axes>"
      ]
     },
     "metadata": {},
     "output_type": "display_data"
    }
   ],
   "source": [
    "results(X_test,y_test,y_pred,knn_cv)"
   ]
  },
  {
   "cell_type": "markdown",
   "metadata": {},
   "source": [
    "The classification report shows that 75 entries of the test data were *severity benign(0) * and 82 entries were *severity malignant(1)*. \n",
    "\n",
    "The diagonal elements of the confusion matrix show the correct classification of the test data. The off-diagonal elements provide the misclassifications. So the model classfied correctly 117 lesions and misclassified 40.\n",
    "\n",
    "As shown in the classification report, the recall which is TP/P for benign lesions equals 48/75 or 0.64. As for malignant lesions, the recall equals 69/82 or 0.84. This means malignant lesions are better indentified.\n",
    "\n",
    "With KNN 13 patients were diagnosed with benign lesion and in fact the lesion was malignant. Also, 27 patients were diagnosed malignant but it was benign. "
   ]
  },
  {
   "cell_type": "markdown",
   "metadata": {},
   "source": [
    "### Logistic Regression <a name= \"logistic\"></a>\n",
    "***\n",
    "In logistic regression, the goal is to predict a probability between 0 and 1. In this case, the model will predict the probability of the lesion being malignant. So as the probability increases, the lesion will be more likely to be malignant. The Sigmoid function helps the model to have values only between 0 and 1. So let's set a cutoff point at 0.5, and anything below it results in class 0(benign), anything above is class 1(malignant). \n",
    "\n",
    "To get better results using logitic regression, let's tune the parameter *C* which is the inverse of the regularization strength. Regularization is a way to select a preferred level of model complexity so that the model is better at predicting. For example, if the model is too complex, it may overfit, and if its too simple, it may underfit. So the predictions of the model are poor. So in this case, if C is higher, there is an increase in the regularization strength which will make the model to underfit. If C is low, the model will have a greater complexity and it will overfit the data.\n",
    "\n",
    "$$ C = \\frac{1}{\\lambda} $$\n",
    "\n",
    "Where:\n",
    "\n",
    "- C: is the inverse regularization\n",
    "- $\\lambda$: regularization"
   ]
  },
  {
   "cell_type": "code",
   "execution_count": 441,
   "metadata": {},
   "outputs": [
    {
     "name": "stdout",
     "output_type": "stream",
     "text": [
      "CPU times: user 93.2 ms, sys: 10 ms, total: 103 ms\n",
      "Wall time: 69 ms\n"
     ]
    },
    {
     "data": {
      "text/plain": [
       "GridSearchCV(cv=3, error_score='raise',\n",
       "       estimator=LogisticRegression(C=1.0, class_weight=None, dual=False, fit_intercept=True,\n",
       "          intercept_scaling=1, max_iter=100, multi_class='ovr', n_jobs=1,\n",
       "          penalty='l2', random_state=None, solver='liblinear', tol=0.0001,\n",
       "          verbose=0, warm_start=False),\n",
       "       fit_params=None, iid=True, n_jobs=1,\n",
       "       param_grid={'C': [0.0001, 0.001, 0.01, 0.1, 1, 10, 100]},\n",
       "       pre_dispatch='2*n_jobs', refit=True, return_train_score='warn',\n",
       "       scoring='accuracy', verbose=0)"
      ]
     },
     "execution_count": 441,
     "metadata": {},
     "output_type": "execute_result"
    }
   ],
   "source": [
    "param = {'C': [0.0001,0.001,0.01,0.1,1,10,100]}\n",
    "\n",
    "log_cv = GridSearchCV(LogisticRegression(),param,cv=3,scoring='accuracy')\n",
    "%time log_cv.fit(X_train,y_train)"
   ]
  },
  {
   "cell_type": "code",
   "execution_count": 442,
   "metadata": {},
   "outputs": [
    {
     "name": "stdout",
     "output_type": "stream",
     "text": [
      "CPU times: user 449 µs, sys: 231 µs, total: 680 µs\n",
      "Wall time: 473 µs\n",
      "Best Parameters: {'C': 0.0001}\n",
      "Best score is 0.8165869218500797\n"
     ]
    }
   ],
   "source": [
    "%time y_pred = log_cv.predict(X_test)\n",
    "\n",
    "print(\"Best Parameters: {}\".format(log_cv.best_params_)) \n",
    "print(\"Best score is {}\".format(log_cv.best_score_))"
   ]
  },
  {
   "cell_type": "code",
   "execution_count": 443,
   "metadata": {},
   "outputs": [
    {
     "name": "stdout",
     "output_type": "stream",
     "text": [
      "#####################\n",
      "Test data\n",
      "#####################\n",
      "Model Accuracy: 77.71%\n",
      "#####################\n",
      "F1 Score:  0.8\n",
      "#####################\n",
      "             precision    recall  f1-score   support\n",
      "\n",
      "        0.0       0.81      0.69      0.75        75\n",
      "        1.0       0.75      0.85      0.80        82\n",
      "\n",
      "avg / total       0.78      0.78      0.78       157\n",
      "\n",
      "#####################\n"
     ]
    },
    {
     "data": {
      "image/png": "[encoded data removed]",
      "text/plain": [
       "<Figure size 1260x720 with 2 Axes>"
      ]
     },
     "metadata": {},
     "output_type": "display_data"
    }
   ],
   "source": [
    "results(X_test,y_test,y_pred,log_cv)"
   ]
  },
  {
   "cell_type": "markdown",
   "metadata": {},
   "source": [
    "The model accuracy(recall) increased to **77.71%**. \n",
    "\n",
    "With Logistic Regression 12 patients were diagnosed with benign lesion and the lesion was malignant, and 23 patients were diagnosed malignant but it was benign."
   ]
  },
  {
   "cell_type": "markdown",
   "metadata": {},
   "source": [
    "### Naive Bayes <a name=\"bayes\"></a>\n",
    "***\n",
    "\n",
    "The Bayes' theorem is basically conditional probability. The Naive Bayes classifier assumes that the presence of a particular feature in a class is unrelated to the presence of any other feature. Even if the features in a class depend on each other or upon the existence of the other features, all of these properties independently contribute to the probability that the lesion is malignant(in this case) and that is why it is known as ‘Naive’.\n",
    "\n",
    "$$ P(A|B) = \\frac{P(A)P(B|A)}{P(B)}$$\n",
    "\n",
    "Where:\n",
    "\n",
    "- P(A|B) is the posterior probability of class (c, target) given predictor (x, attributes).\n",
    "- P(A) is the prior probability of class.\n",
    "- P(B|A) is the likelihood which is the probability of predictor given class.\n",
    "- P(B) is the prior probability of predictor.\n",
    "\n",
    "The model is useful for very large data sets and in this case the data is small so let's check how it performs. Let's use the Multinomial classifier for multi class prediction. \n",
    "\n",
    "The smoothing priors $\\alpha$ $\\ge$ 0 accounts for features not present in the learning samples and prevents zero probabilities in further computations. Setting $\\alpha$ = 1 is called Laplace smoothing, while $\\alpha$ < 1 is called Lidstone smoothing.\n",
    "\n",
    "The features do not need to normalized in this case, but do need to be greater than 0 so let's preprocess the data differently and split it again. "
   ]
  },
  {
   "cell_type": "code",
   "execution_count": 444,
   "metadata": {},
   "outputs": [],
   "source": [
    "scaler = MinMaxScaler()\n",
    "scaled_features = scaler.fit_transform(X)\n",
    "scaled_features\n",
    "\n",
    "X_train_scaled, X_test_scaled, y_train_scaled, y_test_scaled = train_test_split(scaled_features, y, test_size=0.20, random_state=102)"
   ]
  },
  {
   "cell_type": "code",
   "execution_count": 445,
   "metadata": {},
   "outputs": [
    {
     "name": "stdout",
     "output_type": "stream",
     "text": [
      "CPU times: user 50.7 ms, sys: 6.53 ms, total: 57.2 ms\n",
      "Wall time: 39.3 ms\n"
     ]
    },
    {
     "data": {
      "text/plain": [
       "GridSearchCV(cv=3, error_score='raise',\n",
       "       estimator=MultinomialNB(alpha=1.0, class_prior=None, fit_prior=True),\n",
       "       fit_params=None, iid=True, n_jobs=1,\n",
       "       param_grid={'alpha': [0.001, 0.01, 0.1, 1.0]},\n",
       "       pre_dispatch='2*n_jobs', refit=True, return_train_score='warn',\n",
       "       scoring='accuracy', verbose=0)"
      ]
     },
     "execution_count": 445,
     "metadata": {},
     "output_type": "execute_result"
    }
   ],
   "source": [
    "param = {'alpha':[0.001,0.01,0.1,1.0]}\n",
    "\n",
    "nb_cv = GridSearchCV(MultinomialNB(),param,cv=3,scoring='accuracy')\n",
    "%time nb_cv.fit(X_train_scaled,y_train_scaled)"
   ]
  },
  {
   "cell_type": "code",
   "execution_count": 446,
   "metadata": {},
   "outputs": [
    {
     "name": "stdout",
     "output_type": "stream",
     "text": [
      "CPU times: user 323 µs, sys: 59 µs, total: 382 µs\n",
      "Wall time: 326 µs\n",
      "Best Parameters: {'C': 0.0001}\n",
      "Best score is 0.8165869218500797\n"
     ]
    }
   ],
   "source": [
    "%time y_pred_scaled = nb_cv.predict(X_test_scaled)\n",
    "\n",
    "print(\"Best Parameters: {}\".format(log_cv.best_params_)) \n",
    "print(\"Best score is {}\".format(log_cv.best_score_))"
   ]
  },
  {
   "cell_type": "code",
   "execution_count": 447,
   "metadata": {},
   "outputs": [
    {
     "name": "stdout",
     "output_type": "stream",
     "text": [
      "#####################\n",
      "Test data\n",
      "#####################\n",
      "Model Accuracy: 75.80%\n",
      "#####################\n",
      "F1 Score:  0.786516853933\n",
      "#####################\n",
      "             precision    recall  f1-score   support\n",
      "\n",
      "        0.0       0.80      0.65      0.72        75\n",
      "        1.0       0.73      0.85      0.79        82\n",
      "\n",
      "avg / total       0.76      0.76      0.76       157\n",
      "\n",
      "#####################\n"
     ]
    },
    {
     "data": {
      "image/png": "[encoded data removed]",
      "text/plain": [
       "<Figure size 1260x720 with 2 Axes>"
      ]
     },
     "metadata": {},
     "output_type": "display_data"
    }
   ],
   "source": [
    "results(X_test_scaled,y_test_scaled,y_pred_scaled,nb_cv)"
   ]
  },
  {
   "cell_type": "markdown",
   "metadata": {},
   "source": [
    "The model accuracy(recall) slightly decreased to 75.80%.\n",
    "With Naive Bayes 12 patients were diagnosed with benign lesion and the lesion was malignant, and 26 patients were diagnosed malignant but it was benign."
   ]
  },
  {
   "cell_type": "markdown",
   "metadata": {},
   "source": [
    "### Support Vector Machine <a name=\"svm\"></a>\n",
    "***\n",
    "An SVM model is a representation of the data as points in space, mapped so that the examples of the separate categories are divided by a clear gap that is as wide as possible. SVM works well with higher-dimensional data(lots of features). The classifier finds higher-dimensional support vectors accross which to divide the data into groups.\n",
    "\n",
    "Hyperplanes help to separate the groups in the data. To choose the best hyperplane, it needs to maximize the margin between the classes. The vector point that the margin line touch are called *support vectors*. So one outlier can completely change the hyperplane. Use something called the kernel trick to represent data in higher-dimensional spaces to find hyperplanes that might not be apparent in lower dimensions.\n",
    "\n",
    "C and gamma are the parameters that can be tuned. The larger gamma is the more variability the model has in the decision boundary. The larger C means less slack(penalizing slack), the decision boundary is less linear. If the model allows less slack, the SVM is really trying to fit the data. If gamma increases, the movel gives more degrees of freedom to actually do so. Just an [example](https://cs.stanford.edu/people/karpathy/svmjs/demo/) of how changing values of C and gamma afect the model."
   ]
  },
  {
   "cell_type": "code",
   "execution_count": 448,
   "metadata": {},
   "outputs": [
    {
     "name": "stdout",
     "output_type": "stream",
     "text": [
      "CPU times: user 3.34 s, sys: 54.6 ms, total: 3.39 s\n",
      "Wall time: 3.47 s\n"
     ]
    },
    {
     "data": {
      "text/plain": [
       "GridSearchCV(cv=3, error_score='raise',\n",
       "       estimator=SVC(C=1.0, cache_size=200, class_weight=None, coef0=0.0,\n",
       "  decision_function_shape='ovr', degree=3, gamma='auto', kernel='rbf',\n",
       "  max_iter=-1, probability=False, random_state=None, shrinking=True,\n",
       "  tol=0.001, verbose=False),\n",
       "       fit_params=None, iid=True, n_jobs=1,\n",
       "       param_grid=[{'C': [0.01, 0.1, 1, 10, 100, 1000], 'kernel': ['linear']}, {'C': [0.01, 0.1, 1, 10, 100, 1000], 'gamma': [0.1, 0.01, 0.001, 0.0001], 'kernel': ['rbf']}],\n",
       "       pre_dispatch='2*n_jobs', refit=True, return_train_score='warn',\n",
       "       scoring='accuracy', verbose=0)"
      ]
     },
     "execution_count": 448,
     "metadata": {},
     "output_type": "execute_result"
    }
   ],
   "source": [
    "params = [\n",
    "  {'C': [0.01,0.1,1, 10, 100, 1000], 'kernel': ['linear']},\n",
    "  {'C': [0.01,0.1,1, 10, 100, 1000], 'gamma': [0.1,0.01,0.001, 0.0001], 'kernel': ['rbf']}\n",
    " ]\n",
    "\n",
    "svm_cv = GridSearchCV(SVC(),params,cv=3,scoring='accuracy')\n",
    "%time svm_cv.fit(X_train,y_train)"
   ]
  },
  {
   "cell_type": "code",
   "execution_count": 449,
   "metadata": {},
   "outputs": [
    {
     "name": "stdout",
     "output_type": "stream",
     "text": [
      "CPU times: user 3.57 ms, sys: 2.35 ms, total: 5.92 ms\n",
      "Wall time: 3.23 ms\n",
      "Best Parameters: {'C': 1, 'gamma': 0.001, 'kernel': 'rbf'}\n",
      "Best score is 0.8118022328548644\n"
     ]
    }
   ],
   "source": [
    "%time y_pred = svm_cv.predict(X_test)\n",
    "\n",
    "print(\"Best Parameters: {}\".format(svm_cv.best_params_)) \n",
    "print(\"Best score is {}\".format(svm_cv.best_score_))"
   ]
  },
  {
   "cell_type": "code",
   "execution_count": 450,
   "metadata": {},
   "outputs": [
    {
     "name": "stdout",
     "output_type": "stream",
     "text": [
      "#####################\n",
      "Test data\n",
      "#####################\n",
      "Model Accuracy: 77.71%\n",
      "#####################\n",
      "F1 Score:  0.804469273743\n",
      "#####################\n",
      "             precision    recall  f1-score   support\n",
      "\n",
      "        0.0       0.83      0.67      0.74        75\n",
      "        1.0       0.74      0.88      0.80        82\n",
      "\n",
      "avg / total       0.79      0.78      0.77       157\n",
      "\n",
      "#####################\n"
     ]
    },
    {
     "data": {
      "image/png": "[encoded data removed]",
      "text/plain": [
       "<Figure size 1260x720 with 2 Axes>"
      ]
     },
     "metadata": {},
     "output_type": "display_data"
    }
   ],
   "source": [
    "results(X_test,y_test,y_pred,svm_cv)"
   ]
  },
  {
   "cell_type": "markdown",
   "metadata": {},
   "source": [
    "The model accuracy(recall) is similar logistic regression at 77.71%. With SVMs 10 patients were diagnosed with benign lesion and the lesion was malignant, and 25 patients were diagnosed malignant but it was benign. This means FN(False negatives) decreased and less patients will be actually sick and not be sent for more tests. "
   ]
  },
  {
   "cell_type": "markdown",
   "metadata": {},
   "source": [
    "### Random Forest <a name=\"forest\"> </a>\n",
    "***\n",
    "Random Forest generates bootstrap training samples (sample with replacement from the data set), and for each one it creates a tree. However, it doesn't just randomize the training samples, it also randomizes a set of predictors allowed to use each time a split is considered which is called bagging. It is harder to interpret but the predictive accuracy tends to be a lot better than compared to doing it just for one tree and superior to other methods as well.\n",
    "\n",
    "- max_features: the number of features to consider when looking for the best split. Usually the default works so for simplicity let's use only 'auto'.\n",
    "- n_estimators: The number of trees in the forest. Let's use lower number of trees due to the large amount of data."
   ]
  },
  {
   "cell_type": "code",
   "execution_count": 451,
   "metadata": {},
   "outputs": [
    {
     "name": "stdout",
     "output_type": "stream",
     "text": [
      "CPU times: user 820 ms, sys: 18.9 ms, total: 838 ms\n",
      "Wall time: 820 ms\n"
     ]
    },
    {
     "data": {
      "text/plain": [
       "GridSearchCV(cv=3, error_score='raise',\n",
       "       estimator=RandomForestClassifier(bootstrap=True, class_weight=None, criterion='gini',\n",
       "            max_depth=None, max_features='auto', max_leaf_nodes=None,\n",
       "            min_impurity_decrease=0.0, min_impurity_split=None,\n",
       "            min_samples_leaf=1, min_samples_split=2,\n",
       "            min_weight_fraction_leaf=0.0, n_estimators=10, n_jobs=1,\n",
       "            oob_score=False, random_state=None, verbose=0,\n",
       "            warm_start=False),\n",
       "       fit_params=None, iid=True, n_jobs=1,\n",
       "       param_grid={'max_features': ['auto', 'log2', 'sqrt'], 'n_estimators': [5, 10, 15, 20]},\n",
       "       pre_dispatch='2*n_jobs', refit=True, return_train_score='warn',\n",
       "       scoring='accuracy', verbose=0)"
      ]
     },
     "execution_count": 451,
     "metadata": {},
     "output_type": "execute_result"
    }
   ],
   "source": [
    "params = {'max_features': ['auto','log2','sqrt'],\n",
    "          'n_estimators': [5, 10, 15, 20]}\n",
    "\n",
    "forest_cv = GridSearchCV(RandomForestClassifier(),params,cv=3,\n",
    "                         scoring='accuracy')\n",
    "%time forest_cv.fit(X_train,y_train)"
   ]
  },
  {
   "cell_type": "code",
   "execution_count": 452,
   "metadata": {},
   "outputs": [
    {
     "name": "stdout",
     "output_type": "stream",
     "text": [
      "CPU times: user 2.1 ms, sys: 81 µs, total: 2.18 ms\n",
      "Wall time: 2.42 ms\n",
      "Best Parameters: {'max_features': 'sqrt', 'n_estimators': 5}\n",
      "Best score is 0.7639553429027113\n"
     ]
    }
   ],
   "source": [
    "%time y_pred = forest_cv.predict(X_test)\n",
    "\n",
    "print(\"Best Parameters: {}\".format(forest_cv.best_params_)) \n",
    "print(\"Best score is {}\".format(forest_cv.best_score_))"
   ]
  },
  {
   "cell_type": "code",
   "execution_count": 453,
   "metadata": {},
   "outputs": [
    {
     "name": "stdout",
     "output_type": "stream",
     "text": [
      "#####################\n",
      "Test data\n",
      "#####################\n",
      "Model Accuracy: 68.79%\n",
      "#####################\n",
      "F1 Score:  0.70303030303\n",
      "#####################\n",
      "             precision    recall  f1-score   support\n",
      "\n",
      "        0.0       0.68      0.67      0.67        75\n",
      "        1.0       0.70      0.71      0.70        82\n",
      "\n",
      "avg / total       0.69      0.69      0.69       157\n",
      "\n",
      "#####################\n"
     ]
    },
    {
     "data": {
      "image/png": "[encoded data removed]",
      "text/plain": [
       "<Figure size 1260x720 with 2 Axes>"
      ]
     },
     "metadata": {},
     "output_type": "display_data"
    }
   ],
   "source": [
    "results(X_test,y_test,y_pred,forest_cv)"
   ]
  },
  {
   "cell_type": "markdown",
   "metadata": {},
   "source": [
    "The model accuracy(recall) is the lowest so far at 70.06%. With Random Forests 25 patients were diagnosed with benign lesion and the lesion was malignant, and 22 patients were diagnosed malignant but it was benign. "
   ]
  },
  {
   "cell_type": "markdown",
   "metadata": {},
   "source": [
    "### Neural Networks <a name=\"nn\"></a>\n",
    "***\n"
   ]
  },
  {
   "cell_type": "code",
   "execution_count": 454,
   "metadata": {},
   "outputs": [],
   "source": [
    "y_train_matrix = to_categorical(y_train)\n",
    "y_test_matrix = to_categorical(y_test)"
   ]
  },
  {
   "cell_type": "code",
   "execution_count": 455,
   "metadata": {},
   "outputs": [],
   "source": [
    "n_cols = X_train.shape[1]\n",
    "input_shape=(n_cols,)"
   ]
  },
  {
   "cell_type": "code",
   "execution_count": 456,
   "metadata": {},
   "outputs": [],
   "source": [
    "def build_model(optimizer):\n",
    "    model = Sequential()\n",
    "    model.add(Dense(4,activation='relu',input_shape = input_shape))\n",
    "    model.add(Dense(2, activation='softmax'))\n",
    "    model.compile(loss='binary_crossentropy',\n",
    "             optimizer=optimizer,\n",
    "             metrics=['accuracy'])\n",
    "    return model"
   ]
  },
  {
   "cell_type": "code",
   "execution_count": 457,
   "metadata": {},
   "outputs": [],
   "source": [
    "from keras.wrappers.scikit_learn import KerasClassifier"
   ]
  },
  {
   "cell_type": "code",
   "execution_count": 472,
   "metadata": {},
   "outputs": [],
   "source": [
    "estimator = KerasClassifier(build_model)"
   ]
  },
  {
   "cell_type": "code",
   "execution_count": 473,
   "metadata": {},
   "outputs": [],
   "source": [
    "params = {'epochs': [10,20,30],\n",
    "          'optimizer': ['adam', 'rmsprop']}\n",
    "\n",
    "keras_cv = GridSearchCV(estimator,params,cv=3)"
   ]
  },
  {
   "cell_type": "code",
   "execution_count": 474,
   "metadata": {
    "collapsed": true
   },
   "outputs": [
    {
     "name": "stdout",
     "output_type": "stream",
     "text": [
      "Epoch 1/10\n",
      "418/418 [==============================] - 1s 3ms/step - loss: 0.7868 - acc: 0.4713\n",
      "Epoch 2/10\n",
      "418/418 [==============================] - 0s 122us/step - loss: 0.7633 - acc: 0.4689\n",
      "Epoch 3/10\n",
      "418/418 [==============================] - 0s 118us/step - loss: 0.7428 - acc: 0.4713\n",
      "Epoch 4/10\n",
      "418/418 [==============================] - 0s 124us/step - loss: 0.7263 - acc: 0.4880\n",
      "Epoch 5/10\n",
      "418/418 [==============================] - 0s 122us/step - loss: 0.7116 - acc: 0.5120\n",
      "Epoch 6/10\n",
      "418/418 [==============================] - 0s 120us/step - loss: 0.6991 - acc: 0.5311\n",
      "Epoch 7/10\n",
      "418/418 [==============================] - 0s 116us/step - loss: 0.6873 - acc: 0.5550\n",
      "Epoch 8/10\n",
      "418/418 [==============================] - 0s 107us/step - loss: 0.6764 - acc: 0.5766\n",
      "Epoch 9/10\n",
      "418/418 [==============================] - 0s 125us/step - loss: 0.6671 - acc: 0.5933\n",
      "Epoch 10/10\n",
      "418/418 [==============================] - 0s 119us/step - loss: 0.6577 - acc: 0.6196\n",
      "209/209 [==============================] - 0s 2ms/step\n",
      "418/418 [==============================] - 0s 59us/step\n",
      "Epoch 1/10\n",
      "418/418 [==============================] - 1s 3ms/step - loss: 1.1112 - acc: 0.4785\n",
      "Epoch 2/10\n",
      "418/418 [==============================] - 0s 119us/step - loss: 1.0629 - acc: 0.4785\n",
      "Epoch 3/10\n",
      "418/418 [==============================] - 0s 121us/step - loss: 1.0179 - acc: 0.4785\n",
      "Epoch 4/10\n",
      "418/418 [==============================] - 0s 115us/step - loss: 0.9789 - acc: 0.4785\n",
      "Epoch 5/10\n",
      "418/418 [==============================] - 0s 122us/step - loss: 0.9442 - acc: 0.4785\n",
      "Epoch 6/10\n",
      "418/418 [==============================] - 0s 118us/step - loss: 0.9113 - acc: 0.4761\n",
      "Epoch 7/10\n",
      "418/418 [==============================] - 0s 122us/step - loss: 0.8796 - acc: 0.4761\n",
      "Epoch 8/10\n",
      "418/418 [==============================] - 0s 116us/step - loss: 0.8508 - acc: 0.4761\n",
      "Epoch 9/10\n",
      "418/418 [==============================] - 0s 118us/step - loss: 0.8246 - acc: 0.4833\n",
      "Epoch 10/10\n",
      "418/418 [==============================] - 0s 124us/step - loss: 0.7996 - acc: 0.4952\n",
      "209/209 [==============================] - 1s 2ms/step\n",
      "418/418 [==============================] - 0s 56us/step\n",
      "Epoch 1/10\n",
      "418/418 [==============================] - 1s 3ms/step - loss: 1.2950 - acc: 0.2476\n",
      "Epoch 2/10\n",
      "418/418 [==============================] - 0s 117us/step - loss: 1.2403 - acc: 0.2632\n",
      "Epoch 3/10\n",
      "418/418 [==============================] - 0s 120us/step - loss: 1.1891 - acc: 0.2847\n",
      "Epoch 4/10\n",
      "418/418 [==============================] - 0s 122us/step - loss: 1.1416 - acc: 0.2967\n",
      "Epoch 5/10\n",
      "418/418 [==============================] - 0s 128us/step - loss: 1.0967 - acc: 0.3062\n",
      "Epoch 6/10\n",
      "418/418 [==============================] - 0s 158us/step - loss: 1.0540 - acc: 0.3254\n",
      "Epoch 7/10\n",
      "418/418 [==============================] - 0s 129us/step - loss: 1.0125 - acc: 0.3780\n",
      "Epoch 8/10\n",
      "418/418 [==============================] - 0s 141us/step - loss: 0.9705 - acc: 0.3852\n",
      "Epoch 9/10\n",
      "418/418 [==============================] - 0s 126us/step - loss: 0.9310 - acc: 0.4115\n",
      "Epoch 10/10\n",
      "418/418 [==============================] - 0s 132us/step - loss: 0.8914 - acc: 0.4091\n",
      "209/209 [==============================] - 1s 3ms/step\n",
      "418/418 [==============================] - 0s 63us/step\n",
      "Epoch 1/10\n",
      "418/418 [==============================] - 1s 3ms/step - loss: 0.8281 - acc: 0.5156\n",
      "Epoch 2/10\n",
      "418/418 [==============================] - 0s 119us/step - loss: 0.8027 - acc: 0.5478\n",
      "Epoch 3/10\n",
      "418/418 [==============================] - 0s 116us/step - loss: 0.7823 - acc: 0.5742\n",
      "Epoch 4/10\n",
      "418/418 [==============================] - 0s 124us/step - loss: 0.7636 - acc: 0.5885\n",
      "Epoch 5/10\n",
      "418/418 [==============================] - 0s 123us/step - loss: 0.7461 - acc: 0.6244\n",
      "Epoch 6/10\n",
      "418/418 [==============================] - 0s 123us/step - loss: 0.7296 - acc: 0.6507\n",
      "Epoch 7/10\n",
      "418/418 [==============================] - 0s 116us/step - loss: 0.7128 - acc: 0.6842\n",
      "Epoch 8/10\n",
      "418/418 [==============================] - 0s 123us/step - loss: 0.6965 - acc: 0.7201\n",
      "Epoch 9/10\n",
      "418/418 [==============================] - 0s 111us/step - loss: 0.6810 - acc: 0.7416\n",
      "Epoch 10/10\n",
      "418/418 [==============================] - 0s 103us/step - loss: 0.6683 - acc: 0.7488\n",
      "209/209 [==============================] - 1s 3ms/step\n",
      "418/418 [==============================] - 0s 61us/step\n",
      "Epoch 1/10\n",
      "418/418 [==============================] - 1s 3ms/step - loss: 1.2906 - acc: 0.2955\n",
      "Epoch 2/10\n",
      "418/418 [==============================] - 0s 124us/step - loss: 1.1971 - acc: 0.2751\n",
      "Epoch 3/10\n",
      "418/418 [==============================] - 0s 124us/step - loss: 1.1318 - acc: 0.2727\n",
      "Epoch 4/10\n",
      "418/418 [==============================] - 0s 124us/step - loss: 1.0644 - acc: 0.2919\n",
      "Epoch 5/10\n",
      "418/418 [==============================] - 0s 112us/step - loss: 1.0044 - acc: 0.2967\n",
      "Epoch 6/10\n",
      "418/418 [==============================] - 0s 110us/step - loss: 0.9579 - acc: 0.3086\n",
      "Epoch 7/10\n",
      "418/418 [==============================] - 0s 107us/step - loss: 0.9091 - acc: 0.3254\n",
      "Epoch 8/10\n",
      "418/418 [==============================] - 0s 103us/step - loss: 0.8660 - acc: 0.3349\n",
      "Epoch 9/10\n",
      "418/418 [==============================] - 0s 109us/step - loss: 0.8233 - acc: 0.3756\n",
      "Epoch 10/10\n",
      "418/418 [==============================] - 0s 113us/step - loss: 0.7862 - acc: 0.4330\n",
      "209/209 [==============================] - 1s 3ms/step\n",
      "418/418 [==============================] - 0s 62us/step\n",
      "Epoch 1/10\n",
      "418/418 [==============================] - 1s 3ms/step - loss: 0.7907 - acc: 0.5502\n",
      "Epoch 2/10\n",
      "418/418 [==============================] - 0s 107us/step - loss: 0.7630 - acc: 0.5933\n",
      "Epoch 3/10\n",
      "418/418 [==============================] - 0s 108us/step - loss: 0.7468 - acc: 0.6029\n",
      "Epoch 4/10\n",
      "418/418 [==============================] - 0s 116us/step - loss: 0.7297 - acc: 0.6196\n",
      "Epoch 5/10\n",
      "418/418 [==============================] - 0s 112us/step - loss: 0.7133 - acc: 0.6388\n",
      "Epoch 6/10\n",
      "418/418 [==============================] - 0s 113us/step - loss: 0.7009 - acc: 0.6555\n",
      "Epoch 7/10\n",
      "418/418 [==============================] - 0s 114us/step - loss: 0.6863 - acc: 0.6746\n",
      "Epoch 8/10\n",
      "418/418 [==============================] - 0s 113us/step - loss: 0.6718 - acc: 0.6890\n",
      "Epoch 9/10\n",
      "418/418 [==============================] - 0s 128us/step - loss: 0.6600 - acc: 0.7033\n",
      "Epoch 10/10\n",
      "418/418 [==============================] - 0s 110us/step - loss: 0.6480 - acc: 0.7081\n",
      "209/209 [==============================] - 1s 3ms/step\n",
      "418/418 [==============================] - 0s 64us/step\n",
      "Epoch 1/20\n",
      "418/418 [==============================] - 1s 3ms/step - loss: 0.6729 - acc: 0.5574\n",
      "Epoch 2/20\n",
      "418/418 [==============================] - 0s 134us/step - loss: 0.6494 - acc: 0.5742\n",
      "Epoch 3/20\n",
      "418/418 [==============================] - 0s 131us/step - loss: 0.6304 - acc: 0.6148\n",
      "Epoch 4/20\n",
      "418/418 [==============================] - 0s 126us/step - loss: 0.6146 - acc: 0.6675\n",
      "Epoch 5/20\n",
      "418/418 [==============================] - 0s 124us/step - loss: 0.6008 - acc: 0.7057\n",
      "Epoch 6/20\n",
      "418/418 [==============================] - 0s 130us/step - loss: 0.5893 - acc: 0.7416\n",
      "Epoch 7/20\n",
      "418/418 [==============================] - 0s 137us/step - loss: 0.5786 - acc: 0.7536\n",
      "Epoch 8/20\n",
      "418/418 [==============================] - 0s 125us/step - loss: 0.5699 - acc: 0.7584\n",
      "Epoch 9/20\n",
      "418/418 [==============================] - 0s 121us/step - loss: 0.5628 - acc: 0.7608\n",
      "Epoch 10/20\n",
      "418/418 [==============================] - 0s 117us/step - loss: 0.5564 - acc: 0.7656\n",
      "Epoch 11/20\n",
      "418/418 [==============================] - 0s 124us/step - loss: 0.5503 - acc: 0.7727\n",
      "Epoch 12/20\n",
      "418/418 [==============================] - 0s 121us/step - loss: 0.5435 - acc: 0.7679\n",
      "Epoch 13/20\n",
      "418/418 [==============================] - 0s 122us/step - loss: 0.5372 - acc: 0.7608\n",
      "Epoch 14/20\n",
      "418/418 [==============================] - 0s 123us/step - loss: 0.5319 - acc: 0.7608\n",
      "Epoch 15/20\n",
      "418/418 [==============================] - 0s 122us/step - loss: 0.5279 - acc: 0.7608\n",
      "Epoch 16/20\n",
      "418/418 [==============================] - 0s 114us/step - loss: 0.5241 - acc: 0.7632\n",
      "Epoch 17/20\n",
      "418/418 [==============================] - 0s 125us/step - loss: 0.5202 - acc: 0.7656\n",
      "Epoch 18/20\n"
     ]
    },
    {
     "name": "stdout",
     "output_type": "stream",
     "text": [
      "418/418 [==============================] - 0s 116us/step - loss: 0.5172 - acc: 0.7632\n",
      "Epoch 19/20\n",
      "418/418 [==============================] - 0s 115us/step - loss: 0.5141 - acc: 0.7608\n",
      "Epoch 20/20\n",
      "418/418 [==============================] - 0s 114us/step - loss: 0.5119 - acc: 0.7727\n",
      "209/209 [==============================] - 1s 3ms/step\n",
      "418/418 [==============================] - 0s 56us/step\n",
      "Epoch 1/20\n",
      "418/418 [==============================] - 1s 3ms/step - loss: 0.6105 - acc: 0.6304\n",
      "Epoch 2/20\n",
      "418/418 [==============================] - 0s 128us/step - loss: 0.5960 - acc: 0.7775\n",
      "Epoch 3/20\n",
      "418/418 [==============================] - 0s 124us/step - loss: 0.5838 - acc: 0.7895\n",
      "Epoch 4/20\n",
      "418/418 [==============================] - 0s 124us/step - loss: 0.5722 - acc: 0.8014\n",
      "Epoch 5/20\n",
      "418/418 [==============================] - 0s 125us/step - loss: 0.5623 - acc: 0.8038\n",
      "Epoch 6/20\n",
      "418/418 [==============================] - 0s 129us/step - loss: 0.5532 - acc: 0.7990\n",
      "Epoch 7/20\n",
      "418/418 [==============================] - 0s 116us/step - loss: 0.5458 - acc: 0.7990\n",
      "Epoch 8/20\n",
      "418/418 [==============================] - 0s 115us/step - loss: 0.5392 - acc: 0.8014\n",
      "Epoch 9/20\n",
      "418/418 [==============================] - 0s 117us/step - loss: 0.5333 - acc: 0.8086\n",
      "Epoch 10/20\n",
      "418/418 [==============================] - 0s 126us/step - loss: 0.5281 - acc: 0.8086\n",
      "Epoch 11/20\n",
      "418/418 [==============================] - 0s 141us/step - loss: 0.5224 - acc: 0.8062\n",
      "Epoch 12/20\n",
      "418/418 [==============================] - 0s 133us/step - loss: 0.5176 - acc: 0.8086\n",
      "Epoch 13/20\n",
      "418/418 [==============================] - 0s 134us/step - loss: 0.5134 - acc: 0.8086\n",
      "Epoch 14/20\n",
      "418/418 [==============================] - 0s 133us/step - loss: 0.5090 - acc: 0.8086\n",
      "Epoch 15/20\n",
      "418/418 [==============================] - 0s 132us/step - loss: 0.5055 - acc: 0.8086\n",
      "Epoch 16/20\n",
      "418/418 [==============================] - 0s 144us/step - loss: 0.5017 - acc: 0.8086\n",
      "Epoch 17/20\n",
      "418/418 [==============================] - 0s 122us/step - loss: 0.4980 - acc: 0.8134\n",
      "Epoch 18/20\n",
      "418/418 [==============================] - 0s 112us/step - loss: 0.4950 - acc: 0.8110\n",
      "Epoch 19/20\n",
      "418/418 [==============================] - 0s 112us/step - loss: 0.4915 - acc: 0.8086\n",
      "Epoch 20/20\n",
      "418/418 [==============================] - 0s 116us/step - loss: 0.4879 - acc: 0.8086\n",
      "209/209 [==============================] - 1s 3ms/step\n",
      "418/418 [==============================] - 0s 55us/step\n",
      "Epoch 1/20\n",
      "418/418 [==============================] - 2s 4ms/step - loss: 0.7178 - acc: 0.5395\n",
      "Epoch 2/20\n",
      "418/418 [==============================] - 0s 129us/step - loss: 0.6917 - acc: 0.5478\n",
      "Epoch 3/20\n",
      "418/418 [==============================] - 0s 124us/step - loss: 0.6680 - acc: 0.5885\n",
      "Epoch 4/20\n",
      "418/418 [==============================] - 0s 127us/step - loss: 0.6477 - acc: 0.5861\n",
      "Epoch 5/20\n",
      "418/418 [==============================] - 0s 118us/step - loss: 0.6293 - acc: 0.5885\n",
      "Epoch 6/20\n",
      "418/418 [==============================] - 0s 114us/step - loss: 0.6130 - acc: 0.5837\n",
      "Epoch 7/20\n",
      "418/418 [==============================] - 0s 109us/step - loss: 0.5987 - acc: 0.6148\n",
      "Epoch 8/20\n",
      "418/418 [==============================] - 0s 112us/step - loss: 0.5875 - acc: 0.6651\n",
      "Epoch 9/20\n",
      "418/418 [==============================] - 0s 110us/step - loss: 0.5765 - acc: 0.7081\n",
      "Epoch 10/20\n",
      "418/418 [==============================] - 0s 116us/step - loss: 0.5672 - acc: 0.8062\n",
      "Epoch 11/20\n",
      "418/418 [==============================] - 0s 125us/step - loss: 0.5590 - acc: 0.8062\n",
      "Epoch 12/20\n",
      "418/418 [==============================] - 0s 156us/step - loss: 0.5506 - acc: 0.8086\n",
      "Epoch 13/20\n",
      "418/418 [==============================] - 0s 138us/step - loss: 0.5424 - acc: 0.8062\n",
      "Epoch 14/20\n",
      "418/418 [==============================] - 0s 135us/step - loss: 0.5350 - acc: 0.8062\n",
      "Epoch 15/20\n",
      "418/418 [==============================] - 0s 130us/step - loss: 0.5275 - acc: 0.8062\n",
      "Epoch 16/20\n",
      "418/418 [==============================] - 0s 138us/step - loss: 0.5204 - acc: 0.8062\n",
      "Epoch 17/20\n",
      "418/418 [==============================] - 0s 125us/step - loss: 0.5136 - acc: 0.8062\n",
      "Epoch 18/20\n",
      "418/418 [==============================] - 0s 126us/step - loss: 0.5077 - acc: 0.8062\n",
      "Epoch 19/20\n",
      "418/418 [==============================] - 0s 133us/step - loss: 0.5014 - acc: 0.8062\n",
      "Epoch 20/20\n",
      "418/418 [==============================] - 0s 131us/step - loss: 0.4949 - acc: 0.8062\n",
      "209/209 [==============================] - 1s 3ms/step\n",
      "418/418 [==============================] - 0s 64us/step\n",
      "Epoch 1/20\n",
      "418/418 [==============================] - 2s 4ms/step - loss: 1.0049 - acc: 0.4641\n",
      "Epoch 2/20\n",
      "418/418 [==============================] - 0s 115us/step - loss: 0.9529 - acc: 0.4689\n",
      "Epoch 3/20\n",
      "418/418 [==============================] - 0s 142us/step - loss: 0.9137 - acc: 0.4713\n",
      "Epoch 4/20\n",
      "418/418 [==============================] - 0s 123us/step - loss: 0.8775 - acc: 0.4665\n",
      "Epoch 5/20\n",
      "418/418 [==============================] - 0s 117us/step - loss: 0.8442 - acc: 0.4641\n",
      "Epoch 6/20\n",
      "418/418 [==============================] - 0s 122us/step - loss: 0.8131 - acc: 0.4665\n",
      "Epoch 7/20\n",
      "418/418 [==============================] - 0s 119us/step - loss: 0.7834 - acc: 0.4665\n",
      "Epoch 8/20\n",
      "418/418 [==============================] - 0s 121us/step - loss: 0.7563 - acc: 0.4665\n",
      "Epoch 9/20\n",
      "418/418 [==============================] - 0s 124us/step - loss: 0.7339 - acc: 0.4737\n",
      "Epoch 10/20\n",
      "418/418 [==============================] - 0s 112us/step - loss: 0.7125 - acc: 0.4809\n",
      "Epoch 11/20\n",
      "418/418 [==============================] - 0s 113us/step - loss: 0.6923 - acc: 0.5431\n",
      "Epoch 12/20\n",
      "418/418 [==============================] - 0s 117us/step - loss: 0.6742 - acc: 0.5766\n",
      "Epoch 13/20\n",
      "418/418 [==============================] - 0s 127us/step - loss: 0.6571 - acc: 0.6340\n",
      "Epoch 14/20\n",
      "418/418 [==============================] - 0s 123us/step - loss: 0.6409 - acc: 0.6722\n",
      "Epoch 15/20\n",
      "418/418 [==============================] - 0s 106us/step - loss: 0.6280 - acc: 0.6962\n",
      "Epoch 16/20\n",
      "418/418 [==============================] - 0s 108us/step - loss: 0.6156 - acc: 0.7057\n",
      "Epoch 17/20\n",
      "418/418 [==============================] - 0s 120us/step - loss: 0.6026 - acc: 0.7297\n",
      "Epoch 18/20\n",
      "418/418 [==============================] - 0s 124us/step - loss: 0.5912 - acc: 0.7488\n",
      "Epoch 19/20\n",
      "418/418 [==============================] - 0s 119us/step - loss: 0.5804 - acc: 0.7536\n",
      "Epoch 20/20\n",
      "418/418 [==============================] - 0s 125us/step - loss: 0.5713 - acc: 0.7703\n",
      "209/209 [==============================] - 1s 3ms/step\n",
      "418/418 [==============================] - 0s 77us/step\n",
      "Epoch 1/20\n",
      "418/418 [==============================] - 2s 4ms/step - loss: 0.7537 - acc: 0.4617\n",
      "Epoch 2/20\n",
      "418/418 [==============================] - 0s 114us/step - loss: 0.7233 - acc: 0.4665\n",
      "Epoch 3/20\n",
      "418/418 [==============================] - 0s 113us/step - loss: 0.7012 - acc: 0.4737\n",
      "Epoch 4/20\n",
      "418/418 [==============================] - 0s 124us/step - loss: 0.6821 - acc: 0.4952\n",
      "Epoch 5/20\n",
      "418/418 [==============================] - 0s 128us/step - loss: 0.6640 - acc: 0.5287\n",
      "Epoch 6/20\n",
      "418/418 [==============================] - 0s 129us/step - loss: 0.6482 - acc: 0.6268\n",
      "Epoch 7/20\n",
      "418/418 [==============================] - 0s 125us/step - loss: 0.6340 - acc: 0.7225\n",
      "Epoch 8/20\n",
      "418/418 [==============================] - 0s 123us/step - loss: 0.6237 - acc: 0.7656\n",
      "Epoch 9/20\n",
      "418/418 [==============================] - 0s 120us/step - loss: 0.6124 - acc: 0.7703\n",
      "Epoch 10/20\n",
      "418/418 [==============================] - 0s 126us/step - loss: 0.6017 - acc: 0.7727\n",
      "Epoch 11/20\n",
      "418/418 [==============================] - 0s 114us/step - loss: 0.5906 - acc: 0.7727\n",
      "Epoch 12/20\n",
      "418/418 [==============================] - 0s 122us/step - loss: 0.5821 - acc: 0.7799\n",
      "Epoch 13/20\n",
      "418/418 [==============================] - 0s 125us/step - loss: 0.5725 - acc: 0.7799\n",
      "Epoch 14/20\n",
      "418/418 [==============================] - 0s 141us/step - loss: 0.5640 - acc: 0.7751\n",
      "Epoch 15/20\n",
      "418/418 [==============================] - 0s 109us/step - loss: 0.5543 - acc: 0.7775\n",
      "Epoch 16/20\n",
      "418/418 [==============================] - 0s 112us/step - loss: 0.5448 - acc: 0.7823\n",
      "Epoch 17/20\n"
     ]
    },
    {
     "name": "stdout",
     "output_type": "stream",
     "text": [
      "418/418 [==============================] - 0s 126us/step - loss: 0.5360 - acc: 0.7871\n",
      "Epoch 18/20\n",
      "418/418 [==============================] - 0s 121us/step - loss: 0.5277 - acc: 0.7919\n",
      "Epoch 19/20\n",
      "418/418 [==============================] - 0s 118us/step - loss: 0.5196 - acc: 0.7919\n",
      "Epoch 20/20\n",
      "418/418 [==============================] - 0s 112us/step - loss: 0.5118 - acc: 0.7919\n",
      "209/209 [==============================] - 1s 3ms/step\n",
      "418/418 [==============================] - 0s 61us/step\n",
      "Epoch 1/20\n",
      "418/418 [==============================] - 2s 4ms/step - loss: 0.6800 - acc: 0.4976\n",
      "Epoch 2/20\n",
      "418/418 [==============================] - 0s 102us/step - loss: 0.6621 - acc: 0.5215\n",
      "Epoch 3/20\n",
      "418/418 [==============================] - 0s 109us/step - loss: 0.6482 - acc: 0.5478\n",
      "Epoch 4/20\n",
      "418/418 [==============================] - 0s 104us/step - loss: 0.6345 - acc: 0.5933\n",
      "Epoch 5/20\n",
      "418/418 [==============================] - 0s 95us/step - loss: 0.6228 - acc: 0.6364\n",
      "Epoch 6/20\n",
      "418/418 [==============================] - 0s 107us/step - loss: 0.6110 - acc: 0.7081\n",
      "Epoch 7/20\n",
      "418/418 [==============================] - 0s 106us/step - loss: 0.5996 - acc: 0.7344\n",
      "Epoch 8/20\n",
      "418/418 [==============================] - 0s 102us/step - loss: 0.5892 - acc: 0.7488\n",
      "Epoch 9/20\n",
      "418/418 [==============================] - 0s 109us/step - loss: 0.5784 - acc: 0.7608\n",
      "Epoch 10/20\n",
      "418/418 [==============================] - 0s 113us/step - loss: 0.5682 - acc: 0.7632\n",
      "Epoch 11/20\n",
      "418/418 [==============================] - 0s 112us/step - loss: 0.5582 - acc: 0.7632\n",
      "Epoch 12/20\n",
      "418/418 [==============================] - 0s 115us/step - loss: 0.5483 - acc: 0.7703\n",
      "Epoch 13/20\n",
      "418/418 [==============================] - 0s 116us/step - loss: 0.5408 - acc: 0.7751\n",
      "Epoch 14/20\n",
      "418/418 [==============================] - 0s 124us/step - loss: 0.5339 - acc: 0.7919\n",
      "Epoch 15/20\n",
      "418/418 [==============================] - 0s 126us/step - loss: 0.5269 - acc: 0.7919\n",
      "Epoch 16/20\n",
      "418/418 [==============================] - 0s 120us/step - loss: 0.5201 - acc: 0.7895\n",
      "Epoch 17/20\n",
      "418/418 [==============================] - 0s 176us/step - loss: 0.5137 - acc: 0.7967\n",
      "Epoch 18/20\n",
      "418/418 [==============================] - 0s 125us/step - loss: 0.5082 - acc: 0.7990\n",
      "Epoch 19/20\n",
      "418/418 [==============================] - 0s 128us/step - loss: 0.5026 - acc: 0.7990\n",
      "Epoch 20/20\n",
      "418/418 [==============================] - 0s 112us/step - loss: 0.4971 - acc: 0.7990\n",
      "209/209 [==============================] - 1s 4ms/step\n",
      "418/418 [==============================] - 0s 67us/step\n",
      "Epoch 1/30\n",
      "418/418 [==============================] - 2s 4ms/step - loss: 0.8245 - acc: 0.5000\n",
      "Epoch 2/30\n",
      "418/418 [==============================] - 0s 139us/step - loss: 0.7937 - acc: 0.5144\n",
      "Epoch 3/30\n",
      "418/418 [==============================] - 0s 129us/step - loss: 0.7695 - acc: 0.5383\n",
      "Epoch 4/30\n",
      "418/418 [==============================] - 0s 145us/step - loss: 0.7471 - acc: 0.5431\n",
      "Epoch 5/30\n",
      "418/418 [==============================] - 0s 131us/step - loss: 0.7261 - acc: 0.5670\n",
      "Epoch 6/30\n",
      "418/418 [==============================] - 0s 135us/step - loss: 0.7076 - acc: 0.5885\n",
      "Epoch 7/30\n",
      "418/418 [==============================] - 0s 137us/step - loss: 0.6903 - acc: 0.6005\n",
      "Epoch 8/30\n",
      "418/418 [==============================] - 0s 142us/step - loss: 0.6751 - acc: 0.6124\n",
      "Epoch 9/30\n",
      "418/418 [==============================] - 0s 131us/step - loss: 0.6596 - acc: 0.6220\n",
      "Epoch 10/30\n",
      "418/418 [==============================] - 0s 121us/step - loss: 0.6467 - acc: 0.6411\n",
      "Epoch 11/30\n",
      "418/418 [==============================] - 0s 126us/step - loss: 0.6352 - acc: 0.6483\n",
      "Epoch 12/30\n",
      "418/418 [==============================] - 0s 111us/step - loss: 0.6246 - acc: 0.6651\n",
      "Epoch 13/30\n",
      "418/418 [==============================] - 0s 126us/step - loss: 0.6144 - acc: 0.6746\n",
      "Epoch 14/30\n",
      "418/418 [==============================] - 0s 131us/step - loss: 0.6061 - acc: 0.6866\n",
      "Epoch 15/30\n",
      "418/418 [==============================] - 0s 147us/step - loss: 0.5983 - acc: 0.7010\n",
      "Epoch 16/30\n",
      "418/418 [==============================] - 0s 129us/step - loss: 0.5909 - acc: 0.7129\n",
      "Epoch 17/30\n",
      "418/418 [==============================] - 0s 128us/step - loss: 0.5843 - acc: 0.7249\n",
      "Epoch 18/30\n",
      "418/418 [==============================] - 0s 136us/step - loss: 0.5770 - acc: 0.7273\n",
      "Epoch 19/30\n",
      "418/418 [==============================] - 0s 132us/step - loss: 0.5703 - acc: 0.7321\n",
      "Epoch 20/30\n",
      "418/418 [==============================] - 0s 138us/step - loss: 0.5645 - acc: 0.7560\n",
      "Epoch 21/30\n",
      "418/418 [==============================] - 0s 137us/step - loss: 0.5587 - acc: 0.7584\n",
      "Epoch 22/30\n",
      "418/418 [==============================] - 0s 124us/step - loss: 0.5534 - acc: 0.7536\n",
      "Epoch 23/30\n",
      "418/418 [==============================] - 0s 121us/step - loss: 0.5482 - acc: 0.7560\n",
      "Epoch 24/30\n",
      "418/418 [==============================] - 0s 119us/step - loss: 0.5440 - acc: 0.7536\n",
      "Epoch 25/30\n",
      "418/418 [==============================] - 0s 124us/step - loss: 0.5405 - acc: 0.7536\n",
      "Epoch 26/30\n",
      "418/418 [==============================] - 0s 119us/step - loss: 0.5374 - acc: 0.7584\n",
      "Epoch 27/30\n",
      "418/418 [==============================] - 0s 126us/step - loss: 0.5338 - acc: 0.7703\n",
      "Epoch 28/30\n",
      "418/418 [==============================] - 0s 131us/step - loss: 0.5304 - acc: 0.7751\n",
      "Epoch 29/30\n",
      "418/418 [==============================] - 0s 143us/step - loss: 0.5272 - acc: 0.7775\n",
      "Epoch 30/30\n",
      "418/418 [==============================] - 0s 144us/step - loss: 0.5241 - acc: 0.7775\n",
      "209/209 [==============================] - 1s 3ms/step\n",
      "418/418 [==============================] - 0s 87us/step\n",
      "Epoch 1/30\n",
      "418/418 [==============================] - 2s 4ms/step - loss: 1.2171 - acc: 0.4211\n",
      "Epoch 2/30\n",
      "418/418 [==============================] - 0s 129us/step - loss: 1.1593 - acc: 0.4330\n",
      "Epoch 3/30\n",
      "418/418 [==============================] - 0s 146us/step - loss: 1.1079 - acc: 0.4450\n",
      "Epoch 4/30\n",
      "418/418 [==============================] - 0s 139us/step - loss: 1.0609 - acc: 0.4474\n",
      "Epoch 5/30\n",
      "418/418 [==============================] - 0s 115us/step - loss: 1.0153 - acc: 0.4569\n",
      "Epoch 6/30\n",
      "418/418 [==============================] - 0s 122us/step - loss: 0.9725 - acc: 0.4545\n",
      "Epoch 7/30\n",
      "418/418 [==============================] - 0s 122us/step - loss: 0.9314 - acc: 0.4569\n",
      "Epoch 8/30\n",
      "418/418 [==============================] - 0s 121us/step - loss: 0.8993 - acc: 0.4785\n",
      "Epoch 9/30\n",
      "418/418 [==============================] - 0s 116us/step - loss: 0.8660 - acc: 0.4928\n",
      "Epoch 10/30\n",
      "418/418 [==============================] - 0s 123us/step - loss: 0.8367 - acc: 0.5000\n",
      "Epoch 11/30\n",
      "418/418 [==============================] - 0s 121us/step - loss: 0.8105 - acc: 0.5024\n",
      "Epoch 12/30\n",
      "418/418 [==============================] - 0s 121us/step - loss: 0.7842 - acc: 0.5048\n",
      "Epoch 13/30\n",
      "418/418 [==============================] - 0s 131us/step - loss: 0.7578 - acc: 0.5144\n",
      "Epoch 14/30\n",
      "418/418 [==============================] - 0s 124us/step - loss: 0.7354 - acc: 0.5287\n",
      "Epoch 15/30\n",
      "418/418 [==============================] - 0s 128us/step - loss: 0.7136 - acc: 0.5455\n",
      "Epoch 16/30\n",
      "418/418 [==============================] - 0s 148us/step - loss: 0.6923 - acc: 0.5526\n",
      "Epoch 17/30\n",
      "418/418 [==============================] - 0s 133us/step - loss: 0.6725 - acc: 0.5574\n",
      "Epoch 18/30\n",
      "418/418 [==============================] - 0s 133us/step - loss: 0.6546 - acc: 0.5742\n",
      "Epoch 19/30\n",
      "418/418 [==============================] - 0s 145us/step - loss: 0.6378 - acc: 0.5861\n",
      "Epoch 20/30\n",
      "418/418 [==============================] - 0s 117us/step - loss: 0.6208 - acc: 0.6172\n",
      "Epoch 21/30\n",
      "418/418 [==============================] - 0s 126us/step - loss: 0.6068 - acc: 0.6435\n",
      "Epoch 22/30\n",
      "418/418 [==============================] - 0s 122us/step - loss: 0.5937 - acc: 0.6818\n",
      "Epoch 23/30\n",
      "418/418 [==============================] - 0s 109us/step - loss: 0.5815 - acc: 0.6986\n",
      "Epoch 24/30\n",
      "418/418 [==============================] - 0s 122us/step - loss: 0.5706 - acc: 0.7249\n",
      "Epoch 25/30\n",
      "418/418 [==============================] - 0s 121us/step - loss: 0.5609 - acc: 0.7392\n",
      "Epoch 26/30\n",
      "418/418 [==============================] - 0s 121us/step - loss: 0.5510 - acc: 0.7727\n",
      "Epoch 27/30\n"
     ]
    },
    {
     "name": "stdout",
     "output_type": "stream",
     "text": [
      "418/418 [==============================] - 0s 120us/step - loss: 0.5418 - acc: 0.7751\n",
      "Epoch 28/30\n",
      "418/418 [==============================] - 0s 124us/step - loss: 0.5338 - acc: 0.7751\n",
      "Epoch 29/30\n",
      "418/418 [==============================] - 0s 113us/step - loss: 0.5265 - acc: 0.7751\n",
      "Epoch 30/30\n",
      "418/418 [==============================] - 0s 124us/step - loss: 0.5195 - acc: 0.7751\n",
      "209/209 [==============================] - 1s 3ms/step\n",
      "418/418 [==============================] - 0s 57us/step\n",
      "Epoch 1/30\n",
      "418/418 [==============================] - 2s 4ms/step - loss: 0.6646 - acc: 0.5909\n",
      "Epoch 2/30\n",
      "418/418 [==============================] - 0s 118us/step - loss: 0.6480 - acc: 0.6411\n",
      "Epoch 3/30\n",
      "418/418 [==============================] - 0s 119us/step - loss: 0.6331 - acc: 0.6603\n",
      "Epoch 4/30\n",
      "418/418 [==============================] - 0s 116us/step - loss: 0.6205 - acc: 0.6675\n",
      "Epoch 5/30\n",
      "418/418 [==============================] - 0s 118us/step - loss: 0.6093 - acc: 0.6746\n",
      "Epoch 6/30\n",
      "418/418 [==============================] - 0s 123us/step - loss: 0.5975 - acc: 0.6699\n",
      "Epoch 7/30\n",
      "418/418 [==============================] - 0s 115us/step - loss: 0.5873 - acc: 0.6770\n",
      "Epoch 8/30\n",
      "418/418 [==============================] - 0s 117us/step - loss: 0.5784 - acc: 0.6962\n",
      "Epoch 9/30\n",
      "418/418 [==============================] - 0s 121us/step - loss: 0.5703 - acc: 0.7057\n",
      "Epoch 10/30\n",
      "418/418 [==============================] - 0s 114us/step - loss: 0.5630 - acc: 0.7057\n",
      "Epoch 11/30\n",
      "418/418 [==============================] - 0s 113us/step - loss: 0.5566 - acc: 0.7081\n",
      "Epoch 12/30\n",
      "418/418 [==============================] - 0s 118us/step - loss: 0.5494 - acc: 0.7153\n",
      "Epoch 13/30\n",
      "418/418 [==============================] - 0s 114us/step - loss: 0.5424 - acc: 0.7177\n",
      "Epoch 14/30\n",
      "418/418 [==============================] - 0s 114us/step - loss: 0.5357 - acc: 0.7225\n",
      "Epoch 15/30\n",
      "418/418 [==============================] - 0s 120us/step - loss: 0.5298 - acc: 0.7249\n",
      "Epoch 16/30\n",
      "418/418 [==============================] - 0s 119us/step - loss: 0.5252 - acc: 0.7225\n",
      "Epoch 17/30\n",
      "418/418 [==============================] - 0s 119us/step - loss: 0.5207 - acc: 0.7201\n",
      "Epoch 18/30\n",
      "418/418 [==============================] - 0s 112us/step - loss: 0.5163 - acc: 0.7201\n",
      "Epoch 19/30\n",
      "418/418 [==============================] - 0s 122us/step - loss: 0.5124 - acc: 0.7225\n",
      "Epoch 20/30\n",
      "418/418 [==============================] - 0s 105us/step - loss: 0.5089 - acc: 0.7201\n",
      "Epoch 21/30\n",
      "418/418 [==============================] - 0s 118us/step - loss: 0.5052 - acc: 0.7249\n",
      "Epoch 22/30\n",
      "418/418 [==============================] - 0s 116us/step - loss: 0.5015 - acc: 0.7273\n",
      "Epoch 23/30\n",
      "418/418 [==============================] - 0s 115us/step - loss: 0.4986 - acc: 0.7297\n",
      "Epoch 24/30\n",
      "418/418 [==============================] - 0s 119us/step - loss: 0.4962 - acc: 0.7321\n",
      "Epoch 25/30\n",
      "418/418 [==============================] - 0s 117us/step - loss: 0.4943 - acc: 0.7416\n",
      "Epoch 26/30\n",
      "418/418 [==============================] - 0s 114us/step - loss: 0.4915 - acc: 0.7416\n",
      "Epoch 27/30\n",
      "418/418 [==============================] - 0s 116us/step - loss: 0.4891 - acc: 0.7416\n",
      "Epoch 28/30\n",
      "418/418 [==============================] - 0s 114us/step - loss: 0.4874 - acc: 0.7440\n",
      "Epoch 29/30\n",
      "418/418 [==============================] - 0s 117us/step - loss: 0.4847 - acc: 0.7464\n",
      "Epoch 30/30\n",
      "418/418 [==============================] - 0s 113us/step - loss: 0.4818 - acc: 0.7512\n",
      "209/209 [==============================] - 1s 3ms/step\n",
      "418/418 [==============================] - 0s 53us/step\n",
      "Epoch 1/30\n",
      "418/418 [==============================] - 1s 3ms/step - loss: 0.6093 - acc: 0.6794\n",
      "Epoch 2/30\n",
      "418/418 [==============================] - 0s 107us/step - loss: 0.5919 - acc: 0.6914\n",
      "Epoch 3/30\n",
      "418/418 [==============================] - 0s 104us/step - loss: 0.5790 - acc: 0.7010\n",
      "Epoch 4/30\n",
      "418/418 [==============================] - 0s 101us/step - loss: 0.5678 - acc: 0.7177\n",
      "Epoch 5/30\n",
      "418/418 [==============================] - 0s 108us/step - loss: 0.5571 - acc: 0.7249\n",
      "Epoch 6/30\n",
      "418/418 [==============================] - 0s 107us/step - loss: 0.5490 - acc: 0.7344\n",
      "Epoch 7/30\n",
      "418/418 [==============================] - 0s 106us/step - loss: 0.5405 - acc: 0.7368\n",
      "Epoch 8/30\n",
      "418/418 [==============================] - 0s 118us/step - loss: 0.5330 - acc: 0.7368\n",
      "Epoch 9/30\n",
      "418/418 [==============================] - 0s 101us/step - loss: 0.5279 - acc: 0.7392\n",
      "Epoch 10/30\n",
      "418/418 [==============================] - 0s 110us/step - loss: 0.5221 - acc: 0.7560\n",
      "Epoch 11/30\n",
      "418/418 [==============================] - 0s 110us/step - loss: 0.5170 - acc: 0.7632\n",
      "Epoch 12/30\n",
      "418/418 [==============================] - 0s 100us/step - loss: 0.5122 - acc: 0.7656\n",
      "Epoch 13/30\n",
      "418/418 [==============================] - 0s 110us/step - loss: 0.5079 - acc: 0.7656\n",
      "Epoch 14/30\n",
      "418/418 [==============================] - 0s 111us/step - loss: 0.5051 - acc: 0.7632\n",
      "Epoch 15/30\n",
      "418/418 [==============================] - 0s 112us/step - loss: 0.5023 - acc: 0.7751\n",
      "Epoch 16/30\n",
      "418/418 [==============================] - 0s 105us/step - loss: 0.4993 - acc: 0.7727\n",
      "Epoch 17/30\n",
      "418/418 [==============================] - 0s 106us/step - loss: 0.4963 - acc: 0.7751\n",
      "Epoch 18/30\n",
      "418/418 [==============================] - 0s 111us/step - loss: 0.4937 - acc: 0.7775\n",
      "Epoch 19/30\n",
      "418/418 [==============================] - 0s 109us/step - loss: 0.4916 - acc: 0.7751\n",
      "Epoch 20/30\n",
      "418/418 [==============================] - 0s 106us/step - loss: 0.4895 - acc: 0.7775\n",
      "Epoch 21/30\n",
      "418/418 [==============================] - 0s 100us/step - loss: 0.4876 - acc: 0.7799\n",
      "Epoch 22/30\n",
      "418/418 [==============================] - 0s 106us/step - loss: 0.4862 - acc: 0.7823\n",
      "Epoch 23/30\n",
      "418/418 [==============================] - 0s 108us/step - loss: 0.4847 - acc: 0.7823\n",
      "Epoch 24/30\n",
      "418/418 [==============================] - 0s 103us/step - loss: 0.4836 - acc: 0.7871\n",
      "Epoch 25/30\n",
      "418/418 [==============================] - 0s 125us/step - loss: 0.4825 - acc: 0.7847\n",
      "Epoch 26/30\n",
      "418/418 [==============================] - 0s 103us/step - loss: 0.4812 - acc: 0.7943\n",
      "Epoch 27/30\n",
      "418/418 [==============================] - 0s 111us/step - loss: 0.4802 - acc: 0.7943\n",
      "Epoch 28/30\n",
      "418/418 [==============================] - 0s 105us/step - loss: 0.4793 - acc: 0.7919\n",
      "Epoch 29/30\n",
      "418/418 [==============================] - 0s 104us/step - loss: 0.4781 - acc: 0.7943\n",
      "Epoch 30/30\n",
      "418/418 [==============================] - 0s 110us/step - loss: 0.4775 - acc: 0.7919\n",
      "209/209 [==============================] - 1s 3ms/step\n",
      "418/418 [==============================] - 0s 60us/step\n",
      "Epoch 1/30\n",
      "418/418 [==============================] - 2s 4ms/step - loss: 0.6051 - acc: 0.6902\n",
      "Epoch 2/30\n",
      "418/418 [==============================] - 0s 124us/step - loss: 0.5833 - acc: 0.7560\n",
      "Epoch 3/30\n",
      "418/418 [==============================] - 0s 118us/step - loss: 0.5683 - acc: 0.7943\n",
      "Epoch 4/30\n",
      "418/418 [==============================] - 0s 108us/step - loss: 0.5581 - acc: 0.7967\n",
      "Epoch 5/30\n",
      "418/418 [==============================] - 0s 111us/step - loss: 0.5468 - acc: 0.7967\n",
      "Epoch 6/30\n",
      "418/418 [==============================] - 0s 109us/step - loss: 0.5352 - acc: 0.8086\n",
      "Epoch 7/30\n",
      "418/418 [==============================] - 0s 106us/step - loss: 0.5246 - acc: 0.8086\n",
      "Epoch 8/30\n",
      "418/418 [==============================] - 0s 96us/step - loss: 0.5146 - acc: 0.8086\n",
      "Epoch 9/30\n",
      "418/418 [==============================] - 0s 107us/step - loss: 0.5076 - acc: 0.8062\n",
      "Epoch 10/30\n",
      "418/418 [==============================] - 0s 102us/step - loss: 0.4994 - acc: 0.8062\n",
      "Epoch 11/30\n",
      "418/418 [==============================] - 0s 108us/step - loss: 0.4932 - acc: 0.8086\n",
      "Epoch 12/30\n",
      "418/418 [==============================] - 0s 110us/step - loss: 0.4874 - acc: 0.8014\n",
      "Epoch 13/30\n",
      "418/418 [==============================] - 0s 107us/step - loss: 0.4816 - acc: 0.8014\n",
      "Epoch 14/30\n",
      "418/418 [==============================] - 0s 109us/step - loss: 0.4766 - acc: 0.8014\n",
      "Epoch 15/30\n",
      "418/418 [==============================] - 0s 117us/step - loss: 0.4725 - acc: 0.8014\n",
      "Epoch 16/30\n",
      "418/418 [==============================] - 0s 111us/step - loss: 0.4697 - acc: 0.8038\n",
      "Epoch 17/30\n"
     ]
    },
    {
     "name": "stdout",
     "output_type": "stream",
     "text": [
      "418/418 [==============================] - 0s 107us/step - loss: 0.4666 - acc: 0.7990\n",
      "Epoch 18/30\n",
      "418/418 [==============================] - 0s 110us/step - loss: 0.4637 - acc: 0.8038\n",
      "Epoch 19/30\n",
      "418/418 [==============================] - 0s 111us/step - loss: 0.4616 - acc: 0.8038\n",
      "Epoch 20/30\n",
      "418/418 [==============================] - 0s 98us/step - loss: 0.4596 - acc: 0.8062\n",
      "Epoch 21/30\n",
      "418/418 [==============================] - 0s 108us/step - loss: 0.4583 - acc: 0.8062\n",
      "Epoch 22/30\n",
      "418/418 [==============================] - 0s 106us/step - loss: 0.4569 - acc: 0.8062\n",
      "Epoch 23/30\n",
      "418/418 [==============================] - 0s 107us/step - loss: 0.4550 - acc: 0.8086\n",
      "Epoch 24/30\n",
      "418/418 [==============================] - 0s 103us/step - loss: 0.4533 - acc: 0.8086\n",
      "Epoch 25/30\n",
      "418/418 [==============================] - 0s 111us/step - loss: 0.4520 - acc: 0.8110\n",
      "Epoch 26/30\n",
      "418/418 [==============================] - 0s 104us/step - loss: 0.4506 - acc: 0.8110\n",
      "Epoch 27/30\n",
      "418/418 [==============================] - 0s 96us/step - loss: 0.4496 - acc: 0.8110\n",
      "Epoch 28/30\n",
      "418/418 [==============================] - 0s 109us/step - loss: 0.4490 - acc: 0.8134\n",
      "Epoch 29/30\n",
      "418/418 [==============================] - 0s 105us/step - loss: 0.4484 - acc: 0.8134\n",
      "Epoch 30/30\n",
      "418/418 [==============================] - 0s 103us/step - loss: 0.4477 - acc: 0.8134\n",
      "209/209 [==============================] - 1s 3ms/step\n",
      "418/418 [==============================] - 0s 47us/step\n",
      "Epoch 1/30\n",
      "418/418 [==============================] - 2s 4ms/step - loss: 0.5216 - acc: 0.7847\n",
      "Epoch 2/30\n",
      "418/418 [==============================] - 0s 120us/step - loss: 0.5129 - acc: 0.7943\n",
      "Epoch 3/30\n",
      "418/418 [==============================] - 0s 119us/step - loss: 0.5060 - acc: 0.7919\n",
      "Epoch 4/30\n",
      "418/418 [==============================] - 0s 116us/step - loss: 0.5021 - acc: 0.7967\n",
      "Epoch 5/30\n",
      "418/418 [==============================] - 0s 125us/step - loss: 0.4975 - acc: 0.7990\n",
      "Epoch 6/30\n",
      "418/418 [==============================] - 0s 119us/step - loss: 0.4935 - acc: 0.8062\n",
      "Epoch 7/30\n",
      "418/418 [==============================] - 0s 107us/step - loss: 0.4902 - acc: 0.8062\n",
      "Epoch 8/30\n",
      "418/418 [==============================] - 0s 112us/step - loss: 0.4864 - acc: 0.8110\n",
      "Epoch 9/30\n",
      "418/418 [==============================] - 0s 117us/step - loss: 0.4827 - acc: 0.8086\n",
      "Epoch 10/30\n",
      "418/418 [==============================] - 0s 125us/step - loss: 0.4790 - acc: 0.8110\n",
      "Epoch 11/30\n",
      "418/418 [==============================] - 0s 127us/step - loss: 0.4770 - acc: 0.8110\n",
      "Epoch 12/30\n",
      "418/418 [==============================] - 0s 123us/step - loss: 0.4751 - acc: 0.8110\n",
      "Epoch 13/30\n",
      "418/418 [==============================] - 0s 118us/step - loss: 0.4726 - acc: 0.8110\n",
      "Epoch 14/30\n",
      "418/418 [==============================] - 0s 102us/step - loss: 0.4700 - acc: 0.8134\n",
      "Epoch 15/30\n",
      "418/418 [==============================] - 0s 105us/step - loss: 0.4680 - acc: 0.8134\n",
      "Epoch 16/30\n",
      "418/418 [==============================] - 0s 107us/step - loss: 0.4656 - acc: 0.8110\n",
      "Epoch 17/30\n",
      "418/418 [==============================] - 0s 113us/step - loss: 0.4643 - acc: 0.8110\n",
      "Epoch 18/30\n",
      "418/418 [==============================] - 0s 106us/step - loss: 0.4630 - acc: 0.8110\n",
      "Epoch 19/30\n",
      "418/418 [==============================] - 0s 103us/step - loss: 0.4612 - acc: 0.8110\n",
      "Epoch 20/30\n",
      "418/418 [==============================] - 0s 102us/step - loss: 0.4597 - acc: 0.8086\n",
      "Epoch 21/30\n",
      "418/418 [==============================] - 0s 100us/step - loss: 0.4587 - acc: 0.8062\n",
      "Epoch 22/30\n",
      "418/418 [==============================] - 0s 101us/step - loss: 0.4574 - acc: 0.8062\n",
      "Epoch 23/30\n",
      "418/418 [==============================] - 0s 112us/step - loss: 0.4567 - acc: 0.8038\n",
      "Epoch 24/30\n",
      "418/418 [==============================] - 0s 114us/step - loss: 0.4553 - acc: 0.8062\n",
      "Epoch 25/30\n",
      "418/418 [==============================] - 0s 111us/step - loss: 0.4542 - acc: 0.8062\n",
      "Epoch 26/30\n",
      "418/418 [==============================] - 0s 112us/step - loss: 0.4528 - acc: 0.8086\n",
      "Epoch 27/30\n",
      "418/418 [==============================] - 0s 114us/step - loss: 0.4516 - acc: 0.8086\n",
      "Epoch 28/30\n",
      "418/418 [==============================] - 0s 115us/step - loss: 0.4504 - acc: 0.8062\n",
      "Epoch 29/30\n",
      "418/418 [==============================] - 0s 103us/step - loss: 0.4497 - acc: 0.8086\n",
      "Epoch 30/30\n",
      "418/418 [==============================] - 0s 114us/step - loss: 0.4490 - acc: 0.8086\n",
      "209/209 [==============================] - 1s 3ms/step\n",
      "418/418 [==============================] - 0s 55us/step\n",
      "Epoch 1/20\n",
      "627/627 [==============================] - 2s 3ms/step - loss: 0.7432 - acc: 0.4163\n",
      "Epoch 2/20\n",
      "627/627 [==============================] - 0s 134us/step - loss: 0.6847 - acc: 0.4944\n",
      "Epoch 3/20\n",
      "627/627 [==============================] - 0s 129us/step - loss: 0.6419 - acc: 0.5343\n",
      "Epoch 4/20\n",
      "627/627 [==============================] - 0s 131us/step - loss: 0.6099 - acc: 0.6013\n",
      "Epoch 5/20\n",
      "627/627 [==============================] - 0s 117us/step - loss: 0.5889 - acc: 0.7528\n",
      "Epoch 6/20\n",
      "627/627 [==============================] - 0s 120us/step - loss: 0.5737 - acc: 0.7751\n",
      "Epoch 7/20\n",
      "627/627 [==============================] - 0s 118us/step - loss: 0.5618 - acc: 0.7815\n",
      "Epoch 8/20\n",
      "627/627 [==============================] - 0s 119us/step - loss: 0.5521 - acc: 0.7815\n",
      "Epoch 9/20\n",
      "627/627 [==============================] - 0s 116us/step - loss: 0.5445 - acc: 0.7863\n",
      "Epoch 10/20\n",
      "627/627 [==============================] - 0s 121us/step - loss: 0.5379 - acc: 0.7831\n",
      "Epoch 11/20\n",
      "627/627 [==============================] - 0s 118us/step - loss: 0.5322 - acc: 0.7863\n",
      "Epoch 12/20\n",
      "627/627 [==============================] - 0s 125us/step - loss: 0.5273 - acc: 0.7911\n",
      "Epoch 13/20\n",
      "627/627 [==============================] - 0s 130us/step - loss: 0.5229 - acc: 0.7895\n",
      "Epoch 14/20\n",
      "627/627 [==============================] - 0s 124us/step - loss: 0.5187 - acc: 0.7863\n",
      "Epoch 15/20\n",
      "627/627 [==============================] - 0s 118us/step - loss: 0.5153 - acc: 0.7863\n",
      "Epoch 16/20\n",
      "627/627 [==============================] - 0s 118us/step - loss: 0.5117 - acc: 0.7879\n",
      "Epoch 17/20\n",
      "627/627 [==============================] - 0s 122us/step - loss: 0.5093 - acc: 0.7863\n",
      "Epoch 18/20\n",
      "627/627 [==============================] - 0s 114us/step - loss: 0.5061 - acc: 0.7863\n",
      "Epoch 19/20\n",
      "627/627 [==============================] - 0s 109us/step - loss: 0.5037 - acc: 0.7847\n",
      "Epoch 20/20\n",
      "627/627 [==============================] - 0s 116us/step - loss: 0.5015 - acc: 0.7863\n",
      "CPU times: user 1min 2s, sys: 11.2 s, total: 1min 13s\n",
      "Wall time: 1min 4s\n"
     ]
    },
    {
     "data": {
      "text/plain": [
       "GridSearchCV(cv=3, error_score='raise',\n",
       "       estimator=<keras.wrappers.scikit_learn.KerasClassifier object at 0x142a04358>,\n",
       "       fit_params=None, iid=True, n_jobs=1,\n",
       "       param_grid={'epochs': [10, 20, 30], 'optimizer': ['adam', 'rmsprop']},\n",
       "       pre_dispatch='2*n_jobs', refit=True, return_train_score='warn',\n",
       "       scoring=None, verbose=0)"
      ]
     },
     "execution_count": 474,
     "metadata": {},
     "output_type": "execute_result"
    }
   ],
   "source": [
    "%time keras_cv.fit(X_train,y_train_matrix)"
   ]
  },
  {
   "cell_type": "code",
   "execution_count": 475,
   "metadata": {},
   "outputs": [
    {
     "name": "stdout",
     "output_type": "stream",
     "text": [
      "CPU times: user 672 ms, sys: 21.1 ms, total: 693 ms\n",
      "Wall time: 696 ms\n",
      "Best Parameters: {'epochs': 20, 'optimizer': 'adam'}\n",
      "Best score is 0.7942583739662474\n"
     ]
    }
   ],
   "source": [
    "%time y_pred = keras_cv.predict(X_test)\n",
    "\n",
    "print(\"Best Parameters: {}\".format(keras_cv.best_params_)) \n",
    "print(\"Best score is {}\".format(keras_cv.best_score_))"
   ]
  },
  {
   "cell_type": "code",
   "execution_count": 476,
   "metadata": {},
   "outputs": [],
   "source": [
    "def neural_network_results(y_test,y_pred):\n",
    "    print(\"#####################\")\n",
    "    print(\"Test data\")\n",
    "    print(\"#####################\")\n",
    "    print(classification_report(y_test, y_pred))\n",
    "    print(\"#####################\")\n",
    "    conf_matrix = confusion_matrix(y_test, y_pred)\n",
    "    df_cm = pd.DataFrame(conf_matrix, range(2),range(2))\n",
    "    sns.set(font_scale=1.4) #for label size\n",
    "    sns.heatmap(df_cm, cmap='Blues',annot=True,annot_kws={\"size\": 36})"
   ]
  },
  {
   "cell_type": "code",
   "execution_count": 477,
   "metadata": {},
   "outputs": [
    {
     "name": "stdout",
     "output_type": "stream",
     "text": [
      "#####################\n",
      "Test data\n",
      "#####################\n",
      "             precision    recall  f1-score   support\n",
      "\n",
      "        0.0       0.85      0.69      0.76        75\n",
      "        1.0       0.76      0.89      0.82        82\n",
      "\n",
      "avg / total       0.80      0.80      0.79       157\n",
      "\n",
      "#####################\n"
     ]
    },
    {
     "data": {
      "image/png": "[encoded data removed]",
      "text/plain": [
       "<Figure size 1260x720 with 2 Axes>"
      ]
     },
     "metadata": {},
     "output_type": "display_data"
    }
   ],
   "source": [
    "neural_network_results(y_test,y_pred)"
   ]
  },
  {
   "cell_type": "markdown",
   "metadata": {},
   "source": [
    "A neural network with one hidden layer with 4 nodes had an accuracy of **79.61%**. The best parameters for the NN were 20 epochs with the optimizer 'adam'. Let's try adding more nodes to the hidden layer and see if the results improve."
   ]
  },
  {
   "cell_type": "code",
   "execution_count": 478,
   "metadata": {},
   "outputs": [],
   "source": [
    "def build_model(optimizer):\n",
    "    model = Sequential()\n",
    "    model.add(Dense(8,activation='relu',input_shape = input_shape))\n",
    "    model.add(Dense(2, activation='softmax'))\n",
    "    model.compile(loss='binary_crossentropy',\n",
    "             optimizer=optimizer,\n",
    "             metrics=['accuracy'])\n",
    "    return model"
   ]
  },
  {
   "cell_type": "code",
   "execution_count": 479,
   "metadata": {},
   "outputs": [],
   "source": [
    "estimator = KerasClassifier(build_model)"
   ]
  },
  {
   "cell_type": "code",
   "execution_count": 480,
   "metadata": {},
   "outputs": [],
   "source": [
    "params = {'epochs': [10,20,30],\n",
    "          'optimizer': ['adam', 'rmsprop']}\n",
    "\n",
    "keras_cv = GridSearchCV(estimator,params,cv=3)"
   ]
  },
  {
   "cell_type": "code",
   "execution_count": 481,
   "metadata": {
    "collapsed": true
   },
   "outputs": [
    {
     "name": "stdout",
     "output_type": "stream",
     "text": [
      "Epoch 1/10\n",
      "418/418 [==============================] - 2s 4ms/step - loss: 0.7241 - acc: 0.5622\n",
      "Epoch 2/10\n",
      "418/418 [==============================] - 0s 131us/step - loss: 0.6901 - acc: 0.6005\n",
      "Epoch 3/10\n",
      "418/418 [==============================] - 0s 134us/step - loss: 0.6635 - acc: 0.6866\n",
      "Epoch 4/10\n",
      "418/418 [==============================] - 0s 140us/step - loss: 0.6388 - acc: 0.6938\n",
      "Epoch 5/10\n",
      "418/418 [==============================] - 0s 158us/step - loss: 0.6169 - acc: 0.7105\n",
      "Epoch 6/10\n",
      "418/418 [==============================] - 0s 135us/step - loss: 0.5972 - acc: 0.7177\n",
      "Epoch 7/10\n",
      "418/418 [==============================] - 0s 125us/step - loss: 0.5797 - acc: 0.7201\n",
      "Epoch 8/10\n",
      "418/418 [==============================] - 0s 126us/step - loss: 0.5656 - acc: 0.7297\n",
      "Epoch 9/10\n",
      "418/418 [==============================] - 0s 117us/step - loss: 0.5525 - acc: 0.7249\n",
      "Epoch 10/10\n",
      "418/418 [==============================] - 0s 127us/step - loss: 0.5402 - acc: 0.7416\n",
      "209/209 [==============================] - 1s 4ms/step\n",
      "418/418 [==============================] - 0s 59us/step\n",
      "Epoch 1/10\n",
      "418/418 [==============================] - 2s 4ms/step - loss: 0.5922 - acc: 0.6770\n",
      "Epoch 2/10\n",
      "418/418 [==============================] - 0s 133us/step - loss: 0.5778 - acc: 0.7033\n",
      "Epoch 3/10\n",
      "418/418 [==============================] - 0s 138us/step - loss: 0.5652 - acc: 0.7153\n",
      "Epoch 4/10\n",
      "418/418 [==============================] - 0s 132us/step - loss: 0.5556 - acc: 0.7416\n",
      "Epoch 5/10\n",
      "418/418 [==============================] - 0s 138us/step - loss: 0.5471 - acc: 0.7608\n",
      "Epoch 6/10\n",
      "418/418 [==============================] - 0s 133us/step - loss: 0.5386 - acc: 0.7679\n",
      "Epoch 7/10\n",
      "418/418 [==============================] - 0s 144us/step - loss: 0.5297 - acc: 0.7751\n",
      "Epoch 8/10\n",
      "418/418 [==============================] - 0s 131us/step - loss: 0.5216 - acc: 0.7847\n",
      "Epoch 9/10\n",
      "418/418 [==============================] - 0s 132us/step - loss: 0.5137 - acc: 0.7919\n",
      "Epoch 10/10\n",
      "418/418 [==============================] - 0s 117us/step - loss: 0.5060 - acc: 0.7990\n",
      "209/209 [==============================] - 1s 4ms/step\n",
      "418/418 [==============================] - 0s 70us/step\n",
      "Epoch 1/10\n",
      "418/418 [==============================] - 2s 4ms/step - loss: 0.5626 - acc: 0.7787\n",
      "Epoch 2/10\n",
      "418/418 [==============================] - 0s 157us/step - loss: 0.5479 - acc: 0.7871\n",
      "Epoch 3/10\n",
      "418/418 [==============================] - 0s 146us/step - loss: 0.5373 - acc: 0.7895\n",
      "Epoch 4/10\n",
      "418/418 [==============================] - 0s 134us/step - loss: 0.5267 - acc: 0.7919\n",
      "Epoch 5/10\n",
      "418/418 [==============================] - 0s 138us/step - loss: 0.5176 - acc: 0.7943\n",
      "Epoch 6/10\n",
      "418/418 [==============================] - 0s 129us/step - loss: 0.5108 - acc: 0.7990\n",
      "Epoch 7/10\n",
      "418/418 [==============================] - 0s 128us/step - loss: 0.5030 - acc: 0.8038\n",
      "Epoch 8/10\n",
      "418/418 [==============================] - 0s 124us/step - loss: 0.4949 - acc: 0.8110\n",
      "Epoch 9/10\n",
      "418/418 [==============================] - 0s 125us/step - loss: 0.4885 - acc: 0.8086\n",
      "Epoch 10/10\n",
      "418/418 [==============================] - 0s 125us/step - loss: 0.4820 - acc: 0.8062\n",
      "209/209 [==============================] - 1s 4ms/step\n",
      "418/418 [==============================] - 0s 67us/step\n",
      "Epoch 1/10\n",
      "418/418 [==============================] - 2s 5ms/step - loss: 0.6227 - acc: 0.7751\n",
      "Epoch 2/10\n",
      "418/418 [==============================] - 0s 115us/step - loss: 0.6066 - acc: 0.7823\n",
      "Epoch 3/10\n",
      "418/418 [==============================] - 0s 126us/step - loss: 0.5927 - acc: 0.7823\n",
      "Epoch 4/10\n",
      "418/418 [==============================] - 0s 111us/step - loss: 0.5827 - acc: 0.7823\n",
      "Epoch 5/10\n",
      "418/418 [==============================] - 0s 115us/step - loss: 0.5726 - acc: 0.7823\n",
      "Epoch 6/10\n",
      "418/418 [==============================] - 0s 108us/step - loss: 0.5633 - acc: 0.7799\n",
      "Epoch 7/10\n",
      "418/418 [==============================] - 0s 108us/step - loss: 0.5546 - acc: 0.7823\n",
      "Epoch 8/10\n",
      "418/418 [==============================] - 0s 111us/step - loss: 0.5467 - acc: 0.7799\n",
      "Epoch 9/10\n",
      "418/418 [==============================] - 0s 115us/step - loss: 0.5402 - acc: 0.7847\n",
      "Epoch 10/10\n",
      "418/418 [==============================] - 0s 95us/step - loss: 0.5334 - acc: 0.7847\n",
      "209/209 [==============================] - 1s 4ms/step\n",
      "418/418 [==============================] - 0s 60us/step\n",
      "Epoch 1/10\n",
      "418/418 [==============================] - 2s 4ms/step - loss: 0.5916 - acc: 0.7584\n",
      "Epoch 2/10\n",
      "418/418 [==============================] - 0s 113us/step - loss: 0.5635 - acc: 0.7943\n",
      "Epoch 3/10\n",
      "418/418 [==============================] - 0s 108us/step - loss: 0.5453 - acc: 0.7967\n",
      "Epoch 4/10\n",
      "418/418 [==============================] - 0s 114us/step - loss: 0.5299 - acc: 0.7943\n",
      "Epoch 5/10\n",
      "418/418 [==============================] - 0s 118us/step - loss: 0.5188 - acc: 0.7943\n",
      "Epoch 6/10\n",
      "418/418 [==============================] - 0s 114us/step - loss: 0.5065 - acc: 0.7967\n",
      "Epoch 7/10\n",
      "418/418 [==============================] - 0s 114us/step - loss: 0.4943 - acc: 0.7943\n",
      "Epoch 8/10\n",
      "418/418 [==============================] - 0s 118us/step - loss: 0.4857 - acc: 0.7990\n",
      "Epoch 9/10\n",
      "418/418 [==============================] - 0s 104us/step - loss: 0.4773 - acc: 0.7990\n",
      "Epoch 10/10\n",
      "418/418 [==============================] - 0s 119us/step - loss: 0.4717 - acc: 0.7990\n",
      "209/209 [==============================] - 1s 4ms/step\n",
      "418/418 [==============================] - 0s 59us/step\n",
      "Epoch 1/10\n",
      "418/418 [==============================] - 2s 5ms/step - loss: 0.8558 - acc: 0.3254\n",
      "Epoch 2/10\n",
      "418/418 [==============================] - 0s 130us/step - loss: 0.8026 - acc: 0.3541\n",
      "Epoch 3/10\n",
      "418/418 [==============================] - 0s 122us/step - loss: 0.7647 - acc: 0.3852\n",
      "Epoch 4/10\n",
      "418/418 [==============================] - 0s 124us/step - loss: 0.7320 - acc: 0.4593\n",
      "Epoch 5/10\n",
      "418/418 [==============================] - 0s 123us/step - loss: 0.7052 - acc: 0.5598\n",
      "Epoch 6/10\n",
      "418/418 [==============================] - 0s 119us/step - loss: 0.6833 - acc: 0.5885\n",
      "Epoch 7/10\n",
      "418/418 [==============================] - 0s 113us/step - loss: 0.6631 - acc: 0.6316\n",
      "Epoch 8/10\n",
      "418/418 [==============================] - 0s 122us/step - loss: 0.6445 - acc: 0.6555\n",
      "Epoch 9/10\n",
      "418/418 [==============================] - 0s 108us/step - loss: 0.6274 - acc: 0.6890\n",
      "Epoch 10/10\n",
      "418/418 [==============================] - 0s 121us/step - loss: 0.6126 - acc: 0.7105\n",
      "209/209 [==============================] - 1s 4ms/step\n",
      "418/418 [==============================] - 0s 72us/step\n",
      "Epoch 1/20\n",
      "418/418 [==============================] - 2s 4ms/step - loss: 0.5907 - acc: 0.6172\n",
      "Epoch 2/20\n",
      "418/418 [==============================] - 0s 139us/step - loss: 0.5749 - acc: 0.6794\n",
      "Epoch 3/20\n",
      "418/418 [==============================] - 0s 129us/step - loss: 0.5627 - acc: 0.7129\n",
      "Epoch 4/20\n",
      "418/418 [==============================] - 0s 125us/step - loss: 0.5532 - acc: 0.7464\n",
      "Epoch 5/20\n",
      "418/418 [==============================] - 0s 126us/step - loss: 0.5441 - acc: 0.7536\n",
      "Epoch 6/20\n",
      "418/418 [==============================] - 0s 129us/step - loss: 0.5360 - acc: 0.7608\n",
      "Epoch 7/20\n",
      "418/418 [==============================] - 0s 124us/step - loss: 0.5309 - acc: 0.7656\n",
      "Epoch 8/20\n",
      "418/418 [==============================] - 0s 126us/step - loss: 0.5255 - acc: 0.7751\n",
      "Epoch 9/20\n",
      "418/418 [==============================] - 0s 126us/step - loss: 0.5205 - acc: 0.7775\n",
      "Epoch 10/20\n",
      "418/418 [==============================] - 0s 128us/step - loss: 0.5165 - acc: 0.7775\n",
      "Epoch 11/20\n",
      "418/418 [==============================] - 0s 129us/step - loss: 0.5129 - acc: 0.7799\n",
      "Epoch 12/20\n",
      "418/418 [==============================] - 0s 126us/step - loss: 0.5087 - acc: 0.7847\n",
      "Epoch 13/20\n",
      "418/418 [==============================] - 0s 137us/step - loss: 0.5056 - acc: 0.7823\n",
      "Epoch 14/20\n",
      "418/418 [==============================] - 0s 135us/step - loss: 0.5027 - acc: 0.7847\n",
      "Epoch 15/20\n",
      "418/418 [==============================] - 0s 121us/step - loss: 0.5001 - acc: 0.7871\n",
      "Epoch 16/20\n",
      "418/418 [==============================] - 0s 127us/step - loss: 0.4977 - acc: 0.7871\n",
      "Epoch 17/20\n",
      "418/418 [==============================] - 0s 137us/step - loss: 0.4958 - acc: 0.7847\n",
      "Epoch 18/20\n"
     ]
    },
    {
     "name": "stdout",
     "output_type": "stream",
     "text": [
      "418/418 [==============================] - 0s 176us/step - loss: 0.4942 - acc: 0.7847\n",
      "Epoch 19/20\n",
      "418/418 [==============================] - 0s 151us/step - loss: 0.4922 - acc: 0.7847\n",
      "Epoch 20/20\n",
      "418/418 [==============================] - 0s 140us/step - loss: 0.4905 - acc: 0.7847\n",
      "209/209 [==============================] - 1s 4ms/step\n",
      "418/418 [==============================] - 0s 62us/step\n",
      "Epoch 1/20\n",
      "418/418 [==============================] - 2s 5ms/step - loss: 0.7005 - acc: 0.5598\n",
      "Epoch 2/20\n",
      "418/418 [==============================] - 0s 109us/step - loss: 0.6599 - acc: 0.6196\n",
      "Epoch 3/20\n",
      "418/418 [==============================] - 0s 113us/step - loss: 0.6279 - acc: 0.6603\n",
      "Epoch 4/20\n",
      "418/418 [==============================] - 0s 134us/step - loss: 0.5984 - acc: 0.7105\n",
      "Epoch 5/20\n",
      "418/418 [==============================] - 0s 161us/step - loss: 0.5747 - acc: 0.7249\n",
      "Epoch 6/20\n",
      "418/418 [==============================] - 0s 151us/step - loss: 0.5569 - acc: 0.7464\n",
      "Epoch 7/20\n",
      "418/418 [==============================] - 0s 135us/step - loss: 0.5412 - acc: 0.7560\n",
      "Epoch 8/20\n",
      "418/418 [==============================] - 0s 136us/step - loss: 0.5271 - acc: 0.7703\n",
      "Epoch 9/20\n",
      "418/418 [==============================] - 0s 146us/step - loss: 0.5153 - acc: 0.7751\n",
      "Epoch 10/20\n",
      "418/418 [==============================] - 0s 132us/step - loss: 0.5055 - acc: 0.7823\n",
      "Epoch 11/20\n",
      "418/418 [==============================] - 0s 134us/step - loss: 0.4973 - acc: 0.7823\n",
      "Epoch 12/20\n",
      "418/418 [==============================] - 0s 140us/step - loss: 0.4894 - acc: 0.7799\n",
      "Epoch 13/20\n",
      "418/418 [==============================] - 0s 129us/step - loss: 0.4835 - acc: 0.7799\n",
      "Epoch 14/20\n",
      "418/418 [==============================] - 0s 146us/step - loss: 0.4785 - acc: 0.7895\n",
      "Epoch 15/20\n",
      "418/418 [==============================] - 0s 134us/step - loss: 0.4745 - acc: 0.7871\n",
      "Epoch 16/20\n",
      "418/418 [==============================] - 0s 159us/step - loss: 0.4712 - acc: 0.7871\n",
      "Epoch 17/20\n",
      "418/418 [==============================] - 0s 130us/step - loss: 0.4688 - acc: 0.7871\n",
      "Epoch 18/20\n",
      "418/418 [==============================] - 0s 139us/step - loss: 0.4656 - acc: 0.7871\n",
      "Epoch 19/20\n",
      "418/418 [==============================] - 0s 137us/step - loss: 0.4626 - acc: 0.7847\n",
      "Epoch 20/20\n",
      "418/418 [==============================] - 0s 136us/step - loss: 0.4594 - acc: 0.7895\n",
      "209/209 [==============================] - 1s 4ms/step\n",
      "418/418 [==============================] - 0s 66us/step\n",
      "Epoch 1/20\n",
      "418/418 [==============================] - 2s 4ms/step - loss: 1.2177 - acc: 0.3254\n",
      "Epoch 2/20\n",
      "418/418 [==============================] - 0s 127us/step - loss: 1.1332 - acc: 0.3278\n",
      "Epoch 3/20\n",
      "418/418 [==============================] - 0s 130us/step - loss: 1.0612 - acc: 0.3254\n",
      "Epoch 4/20\n",
      "418/418 [==============================] - 0s 140us/step - loss: 1.0013 - acc: 0.3397\n",
      "Epoch 5/20\n",
      "418/418 [==============================] - 0s 143us/step - loss: 0.9496 - acc: 0.3493\n",
      "Epoch 6/20\n",
      "418/418 [==============================] - 0s 155us/step - loss: 0.9067 - acc: 0.3684\n",
      "Epoch 7/20\n",
      "418/418 [==============================] - 0s 144us/step - loss: 0.8704 - acc: 0.3804\n",
      "Epoch 8/20\n",
      "418/418 [==============================] - 0s 131us/step - loss: 0.8397 - acc: 0.3876\n",
      "Epoch 9/20\n",
      "418/418 [==============================] - 0s 139us/step - loss: 0.8126 - acc: 0.3995\n",
      "Epoch 10/20\n",
      "418/418 [==============================] - 0s 133us/step - loss: 0.7870 - acc: 0.4019\n",
      "Epoch 11/20\n",
      "418/418 [==============================] - 0s 131us/step - loss: 0.7661 - acc: 0.4115\n",
      "Epoch 12/20\n",
      "418/418 [==============================] - 0s 128us/step - loss: 0.7467 - acc: 0.4474\n",
      "Epoch 13/20\n",
      "418/418 [==============================] - 0s 135us/step - loss: 0.7296 - acc: 0.4833\n",
      "Epoch 14/20\n",
      "418/418 [==============================] - 0s 147us/step - loss: 0.7135 - acc: 0.4952\n",
      "Epoch 15/20\n",
      "418/418 [==============================] - 0s 131us/step - loss: 0.6988 - acc: 0.5263\n",
      "Epoch 16/20\n",
      "418/418 [==============================] - 0s 130us/step - loss: 0.6847 - acc: 0.5670\n",
      "Epoch 17/20\n",
      "418/418 [==============================] - 0s 144us/step - loss: 0.6707 - acc: 0.5981\n",
      "Epoch 18/20\n",
      "418/418 [==============================] - 0s 134us/step - loss: 0.6561 - acc: 0.6172\n",
      "Epoch 19/20\n",
      "418/418 [==============================] - 0s 122us/step - loss: 0.6441 - acc: 0.6531\n",
      "Epoch 20/20\n",
      "418/418 [==============================] - 0s 136us/step - loss: 0.6316 - acc: 0.6914\n",
      "209/209 [==============================] - 1s 4ms/step\n",
      "418/418 [==============================] - 0s 66us/step\n",
      "Epoch 1/20\n",
      "418/418 [==============================] - 2s 4ms/step - loss: 0.7462 - acc: 0.6220\n",
      "Epoch 2/20\n",
      "418/418 [==============================] - 0s 119us/step - loss: 0.6971 - acc: 0.6268\n",
      "Epoch 3/20\n",
      "418/418 [==============================] - 0s 121us/step - loss: 0.6553 - acc: 0.6459\n",
      "Epoch 4/20\n",
      "418/418 [==============================] - 0s 117us/step - loss: 0.6234 - acc: 0.6722\n",
      "Epoch 5/20\n",
      "418/418 [==============================] - 0s 119us/step - loss: 0.5954 - acc: 0.6842\n",
      "Epoch 6/20\n",
      "418/418 [==============================] - 0s 118us/step - loss: 0.5703 - acc: 0.7033\n",
      "Epoch 7/20\n",
      "418/418 [==============================] - 0s 124us/step - loss: 0.5504 - acc: 0.7201\n",
      "Epoch 8/20\n",
      "418/418 [==============================] - 0s 122us/step - loss: 0.5364 - acc: 0.7201\n",
      "Epoch 9/20\n",
      "418/418 [==============================] - 0s 120us/step - loss: 0.5238 - acc: 0.7368\n",
      "Epoch 10/20\n",
      "418/418 [==============================] - 0s 123us/step - loss: 0.5109 - acc: 0.7440\n",
      "Epoch 11/20\n",
      "418/418 [==============================] - 0s 122us/step - loss: 0.5003 - acc: 0.7584\n",
      "Epoch 12/20\n",
      "418/418 [==============================] - 0s 121us/step - loss: 0.4914 - acc: 0.7632\n",
      "Epoch 13/20\n",
      "418/418 [==============================] - 0s 123us/step - loss: 0.4834 - acc: 0.7656\n",
      "Epoch 14/20\n",
      "418/418 [==============================] - 0s 123us/step - loss: 0.4763 - acc: 0.7608\n",
      "Epoch 15/20\n",
      "418/418 [==============================] - 0s 131us/step - loss: 0.4712 - acc: 0.7632\n",
      "Epoch 16/20\n",
      "418/418 [==============================] - 0s 122us/step - loss: 0.4687 - acc: 0.7584\n",
      "Epoch 17/20\n",
      "418/418 [==============================] - 0s 130us/step - loss: 0.4655 - acc: 0.7560\n",
      "Epoch 18/20\n",
      "418/418 [==============================] - 0s 128us/step - loss: 0.4632 - acc: 0.7632\n",
      "Epoch 19/20\n",
      "418/418 [==============================] - 0s 134us/step - loss: 0.4615 - acc: 0.7656\n",
      "Epoch 20/20\n",
      "418/418 [==============================] - 0s 123us/step - loss: 0.4602 - acc: 0.7656\n",
      "209/209 [==============================] - 1s 4ms/step\n",
      "418/418 [==============================] - 0s 73us/step\n",
      "Epoch 1/20\n",
      "418/418 [==============================] - 2s 5ms/step - loss: 0.7017 - acc: 0.5885\n",
      "Epoch 2/20\n",
      "418/418 [==============================] - 0s 149us/step - loss: 0.6638 - acc: 0.6818\n",
      "Epoch 3/20\n",
      "418/418 [==============================] - 0s 134us/step - loss: 0.6413 - acc: 0.7488\n",
      "Epoch 4/20\n",
      "418/418 [==============================] - 0s 150us/step - loss: 0.6190 - acc: 0.7656\n",
      "Epoch 5/20\n",
      "418/418 [==============================] - 0s 127us/step - loss: 0.5977 - acc: 0.7632\n",
      "Epoch 6/20\n",
      "418/418 [==============================] - 0s 121us/step - loss: 0.5815 - acc: 0.7679\n",
      "Epoch 7/20\n",
      "418/418 [==============================] - 0s 118us/step - loss: 0.5683 - acc: 0.7751\n",
      "Epoch 8/20\n",
      "418/418 [==============================] - 0s 128us/step - loss: 0.5570 - acc: 0.7775\n",
      "Epoch 9/20\n",
      "418/418 [==============================] - 0s 125us/step - loss: 0.5432 - acc: 0.7847\n",
      "Epoch 10/20\n",
      "418/418 [==============================] - 0s 119us/step - loss: 0.5305 - acc: 0.7799\n",
      "Epoch 11/20\n",
      "418/418 [==============================] - 0s 123us/step - loss: 0.5190 - acc: 0.7799\n",
      "Epoch 12/20\n",
      "418/418 [==============================] - 0s 121us/step - loss: 0.5078 - acc: 0.7823\n",
      "Epoch 13/20\n",
      "418/418 [==============================] - 0s 121us/step - loss: 0.4998 - acc: 0.7847\n",
      "Epoch 14/20\n",
      "418/418 [==============================] - 0s 123us/step - loss: 0.4912 - acc: 0.7847\n",
      "Epoch 15/20\n",
      "418/418 [==============================] - 0s 118us/step - loss: 0.4838 - acc: 0.7919\n",
      "Epoch 16/20\n",
      "418/418 [==============================] - 0s 121us/step - loss: 0.4767 - acc: 0.7919\n",
      "Epoch 17/20\n"
     ]
    },
    {
     "name": "stdout",
     "output_type": "stream",
     "text": [
      "418/418 [==============================] - 0s 116us/step - loss: 0.4720 - acc: 0.7919\n",
      "Epoch 18/20\n",
      "418/418 [==============================] - 0s 123us/step - loss: 0.4670 - acc: 0.7895\n",
      "Epoch 19/20\n",
      "418/418 [==============================] - 0s 110us/step - loss: 0.4625 - acc: 0.7895\n",
      "Epoch 20/20\n",
      "418/418 [==============================] - 0s 109us/step - loss: 0.4581 - acc: 0.7943\n",
      "209/209 [==============================] - 1s 4ms/step\n",
      "418/418 [==============================] - 0s 56us/step\n",
      "Epoch 1/20\n",
      "418/418 [==============================] - 2s 4ms/step - loss: 0.9791 - acc: 0.5263\n",
      "Epoch 2/20\n",
      "418/418 [==============================] - 0s 108us/step - loss: 0.8788 - acc: 0.5431\n",
      "Epoch 3/20\n",
      "418/418 [==============================] - 0s 109us/step - loss: 0.8126 - acc: 0.5526\n",
      "Epoch 4/20\n",
      "418/418 [==============================] - 0s 112us/step - loss: 0.7517 - acc: 0.5574\n",
      "Epoch 5/20\n",
      "418/418 [==============================] - 0s 115us/step - loss: 0.6999 - acc: 0.5598\n",
      "Epoch 6/20\n",
      "418/418 [==============================] - 0s 116us/step - loss: 0.6533 - acc: 0.5885\n",
      "Epoch 7/20\n",
      "418/418 [==============================] - 0s 124us/step - loss: 0.6190 - acc: 0.6746\n",
      "Epoch 8/20\n",
      "418/418 [==============================] - 0s 136us/step - loss: 0.5897 - acc: 0.7392\n",
      "Epoch 9/20\n",
      "418/418 [==============================] - 0s 116us/step - loss: 0.5637 - acc: 0.7632\n",
      "Epoch 10/20\n",
      "418/418 [==============================] - 0s 112us/step - loss: 0.5406 - acc: 0.7775\n",
      "Epoch 11/20\n",
      "418/418 [==============================] - 0s 113us/step - loss: 0.5223 - acc: 0.8014\n",
      "Epoch 12/20\n",
      "418/418 [==============================] - 0s 111us/step - loss: 0.5086 - acc: 0.8038\n",
      "Epoch 13/20\n",
      "418/418 [==============================] - 0s 116us/step - loss: 0.4950 - acc: 0.7990\n",
      "Epoch 14/20\n",
      "418/418 [==============================] - 0s 131us/step - loss: 0.4834 - acc: 0.7967\n",
      "Epoch 15/20\n",
      "418/418 [==============================] - 0s 132us/step - loss: 0.4731 - acc: 0.7990\n",
      "Epoch 16/20\n",
      "418/418 [==============================] - 0s 129us/step - loss: 0.4648 - acc: 0.8062\n",
      "Epoch 17/20\n",
      "418/418 [==============================] - 0s 132us/step - loss: 0.4590 - acc: 0.8110\n",
      "Epoch 18/20\n",
      "418/418 [==============================] - 0s 134us/step - loss: 0.4550 - acc: 0.8110\n",
      "Epoch 19/20\n",
      "418/418 [==============================] - 0s 114us/step - loss: 0.4514 - acc: 0.8110\n",
      "Epoch 20/20\n",
      "418/418 [==============================] - 0s 114us/step - loss: 0.4479 - acc: 0.8110\n",
      "209/209 [==============================] - 1s 4ms/step\n",
      "418/418 [==============================] - 0s 71us/step\n",
      "Epoch 1/30\n",
      "418/418 [==============================] - 2s 5ms/step - loss: 0.7975 - acc: 0.5359\n",
      "Epoch 2/30\n",
      "418/418 [==============================] - 0s 127us/step - loss: 0.7506 - acc: 0.5359\n",
      "Epoch 3/30\n",
      "418/418 [==============================] - 0s 134us/step - loss: 0.7126 - acc: 0.5359\n",
      "Epoch 4/30\n",
      "418/418 [==============================] - 0s 126us/step - loss: 0.6776 - acc: 0.5144\n",
      "Epoch 5/30\n",
      "418/418 [==============================] - 0s 124us/step - loss: 0.6483 - acc: 0.5455\n",
      "Epoch 6/30\n",
      "418/418 [==============================] - 0s 129us/step - loss: 0.6225 - acc: 0.5550\n",
      "Epoch 7/30\n",
      "418/418 [==============================] - 0s 134us/step - loss: 0.6003 - acc: 0.5502\n",
      "Epoch 8/30\n",
      "418/418 [==============================] - 0s 129us/step - loss: 0.5802 - acc: 0.6124\n",
      "Epoch 9/30\n",
      "418/418 [==============================] - 0s 147us/step - loss: 0.5633 - acc: 0.7081\n",
      "Epoch 10/30\n",
      "418/418 [==============================] - 0s 134us/step - loss: 0.5497 - acc: 0.7153\n",
      "Epoch 11/30\n",
      "418/418 [==============================] - 0s 135us/step - loss: 0.5375 - acc: 0.7344\n",
      "Epoch 12/30\n",
      "418/418 [==============================] - 0s 126us/step - loss: 0.5264 - acc: 0.7488\n",
      "Epoch 13/30\n",
      "418/418 [==============================] - 0s 133us/step - loss: 0.5179 - acc: 0.7656\n",
      "Epoch 14/30\n",
      "418/418 [==============================] - 0s 131us/step - loss: 0.5099 - acc: 0.7703\n",
      "Epoch 15/30\n",
      "418/418 [==============================] - 0s 132us/step - loss: 0.5032 - acc: 0.7751\n",
      "Epoch 16/30\n",
      "418/418 [==============================] - 0s 124us/step - loss: 0.4971 - acc: 0.7775\n",
      "Epoch 17/30\n",
      "418/418 [==============================] - 0s 132us/step - loss: 0.4920 - acc: 0.7775\n",
      "Epoch 18/30\n",
      "418/418 [==============================] - 0s 127us/step - loss: 0.4867 - acc: 0.7823\n",
      "Epoch 19/30\n",
      "418/418 [==============================] - 0s 131us/step - loss: 0.4830 - acc: 0.7823\n",
      "Epoch 20/30\n",
      "418/418 [==============================] - 0s 131us/step - loss: 0.4801 - acc: 0.7895\n",
      "Epoch 21/30\n",
      "418/418 [==============================] - 0s 122us/step - loss: 0.4784 - acc: 0.7895\n",
      "Epoch 22/30\n",
      "418/418 [==============================] - 0s 132us/step - loss: 0.4769 - acc: 0.7895\n",
      "Epoch 23/30\n",
      "418/418 [==============================] - 0s 142us/step - loss: 0.4752 - acc: 0.7919\n",
      "Epoch 24/30\n",
      "418/418 [==============================] - 0s 128us/step - loss: 0.4737 - acc: 0.7895\n",
      "Epoch 25/30\n",
      "418/418 [==============================] - 0s 130us/step - loss: 0.4719 - acc: 0.7895\n",
      "Epoch 26/30\n",
      "418/418 [==============================] - 0s 159us/step - loss: 0.4705 - acc: 0.7895\n",
      "Epoch 27/30\n",
      "418/418 [==============================] - 0s 133us/step - loss: 0.4697 - acc: 0.7895\n",
      "Epoch 28/30\n",
      "418/418 [==============================] - 0s 141us/step - loss: 0.4685 - acc: 0.7919\n",
      "Epoch 29/30\n",
      "418/418 [==============================] - 0s 154us/step - loss: 0.4675 - acc: 0.7919\n",
      "Epoch 30/30\n",
      "418/418 [==============================] - 0s 137us/step - loss: 0.4665 - acc: 0.7919\n",
      "209/209 [==============================] - 1s 4ms/step\n",
      "418/418 [==============================] - 0s 68us/step\n",
      "Epoch 1/30\n",
      "418/418 [==============================] - 2s 5ms/step - loss: 0.9614 - acc: 0.5263\n",
      "Epoch 2/30\n",
      "418/418 [==============================] - 0s 140us/step - loss: 0.9046 - acc: 0.5239\n",
      "Epoch 3/30\n",
      "418/418 [==============================] - 0s 146us/step - loss: 0.8532 - acc: 0.5239\n",
      "Epoch 4/30\n",
      "418/418 [==============================] - 0s 137us/step - loss: 0.8088 - acc: 0.5215\n",
      "Epoch 5/30\n",
      "418/418 [==============================] - 0s 156us/step - loss: 0.7677 - acc: 0.5263\n",
      "Epoch 6/30\n",
      "418/418 [==============================] - 0s 139us/step - loss: 0.7308 - acc: 0.5742\n",
      "Epoch 7/30\n",
      "418/418 [==============================] - 0s 145us/step - loss: 0.6986 - acc: 0.6364\n",
      "Epoch 8/30\n",
      "418/418 [==============================] - 0s 139us/step - loss: 0.6700 - acc: 0.7081\n",
      "Epoch 9/30\n",
      "418/418 [==============================] - 0s 136us/step - loss: 0.6427 - acc: 0.7488\n",
      "Epoch 10/30\n",
      "418/418 [==============================] - 0s 137us/step - loss: 0.6208 - acc: 0.7656\n",
      "Epoch 11/30\n",
      "418/418 [==============================] - 0s 159us/step - loss: 0.5995 - acc: 0.7679\n",
      "Epoch 12/30\n",
      "418/418 [==============================] - 0s 153us/step - loss: 0.5799 - acc: 0.7703\n",
      "Epoch 13/30\n",
      "418/418 [==============================] - 0s 139us/step - loss: 0.5631 - acc: 0.7679\n",
      "Epoch 14/30\n",
      "418/418 [==============================] - 0s 118us/step - loss: 0.5482 - acc: 0.7727\n",
      "Epoch 15/30\n",
      "418/418 [==============================] - 0s 125us/step - loss: 0.5351 - acc: 0.7751\n",
      "Epoch 16/30\n",
      "418/418 [==============================] - 0s 125us/step - loss: 0.5237 - acc: 0.7775\n",
      "Epoch 17/30\n",
      "418/418 [==============================] - 0s 133us/step - loss: 0.5129 - acc: 0.7775\n",
      "Epoch 18/30\n",
      "418/418 [==============================] - 0s 131us/step - loss: 0.5031 - acc: 0.7799\n",
      "Epoch 19/30\n",
      "418/418 [==============================] - 0s 126us/step - loss: 0.4943 - acc: 0.7799\n",
      "Epoch 20/30\n",
      "418/418 [==============================] - 0s 124us/step - loss: 0.4865 - acc: 0.7823\n",
      "Epoch 21/30\n",
      "418/418 [==============================] - 0s 133us/step - loss: 0.4800 - acc: 0.7823\n",
      "Epoch 22/30\n",
      "418/418 [==============================] - 0s 132us/step - loss: 0.4739 - acc: 0.7823\n",
      "Epoch 23/30\n",
      "418/418 [==============================] - 0s 149us/step - loss: 0.4685 - acc: 0.7823\n",
      "Epoch 24/30\n",
      "418/418 [==============================] - 0s 135us/step - loss: 0.4635 - acc: 0.7871\n",
      "Epoch 25/30\n",
      "418/418 [==============================] - 0s 148us/step - loss: 0.4588 - acc: 0.7871\n",
      "Epoch 26/30\n",
      "418/418 [==============================] - 0s 156us/step - loss: 0.4548 - acc: 0.7919\n",
      "Epoch 27/30\n"
     ]
    },
    {
     "name": "stdout",
     "output_type": "stream",
     "text": [
      "418/418 [==============================] - 0s 155us/step - loss: 0.4510 - acc: 0.7919\n",
      "Epoch 28/30\n",
      "418/418 [==============================] - 0s 157us/step - loss: 0.4480 - acc: 0.7990\n",
      "Epoch 29/30\n",
      "418/418 [==============================] - 0s 131us/step - loss: 0.4453 - acc: 0.8014\n",
      "Epoch 30/30\n",
      "418/418 [==============================] - 0s 137us/step - loss: 0.4426 - acc: 0.8014\n",
      "209/209 [==============================] - 1s 5ms/step\n",
      "418/418 [==============================] - 0s 87us/step\n",
      "Epoch 1/30\n",
      "418/418 [==============================] - 2s 5ms/step - loss: 0.9121 - acc: 0.4211\n",
      "Epoch 2/30\n",
      "418/418 [==============================] - 0s 125us/step - loss: 0.8571 - acc: 0.4330\n",
      "Epoch 3/30\n",
      "418/418 [==============================] - 0s 125us/step - loss: 0.8127 - acc: 0.4856\n",
      "Epoch 4/30\n",
      "418/418 [==============================] - 0s 125us/step - loss: 0.7701 - acc: 0.5191\n",
      "Epoch 5/30\n",
      "418/418 [==============================] - 0s 122us/step - loss: 0.7336 - acc: 0.5383\n",
      "Epoch 6/30\n",
      "418/418 [==============================] - 0s 121us/step - loss: 0.7045 - acc: 0.5550\n",
      "Epoch 7/30\n",
      "418/418 [==============================] - 0s 121us/step - loss: 0.6779 - acc: 0.5742\n",
      "Epoch 8/30\n",
      "418/418 [==============================] - 0s 124us/step - loss: 0.6539 - acc: 0.6124\n",
      "Epoch 9/30\n",
      "418/418 [==============================] - 0s 130us/step - loss: 0.6324 - acc: 0.6435\n",
      "Epoch 10/30\n",
      "418/418 [==============================] - 0s 120us/step - loss: 0.6136 - acc: 0.6675\n",
      "Epoch 11/30\n",
      "418/418 [==============================] - 0s 130us/step - loss: 0.5983 - acc: 0.6770\n",
      "Epoch 12/30\n",
      "418/418 [==============================] - 0s 126us/step - loss: 0.5837 - acc: 0.7033\n",
      "Epoch 13/30\n",
      "418/418 [==============================] - 0s 125us/step - loss: 0.5718 - acc: 0.7273\n",
      "Epoch 14/30\n",
      "418/418 [==============================] - 0s 126us/step - loss: 0.5622 - acc: 0.7392\n",
      "Epoch 15/30\n",
      "418/418 [==============================] - 0s 124us/step - loss: 0.5534 - acc: 0.7679\n",
      "Epoch 16/30\n",
      "418/418 [==============================] - 0s 130us/step - loss: 0.5455 - acc: 0.7703\n",
      "Epoch 17/30\n",
      "418/418 [==============================] - 0s 126us/step - loss: 0.5385 - acc: 0.7751\n",
      "Epoch 18/30\n",
      "418/418 [==============================] - 0s 123us/step - loss: 0.5330 - acc: 0.7751\n",
      "Epoch 19/30\n",
      "418/418 [==============================] - 0s 122us/step - loss: 0.5276 - acc: 0.7751\n",
      "Epoch 20/30\n",
      "418/418 [==============================] - 0s 124us/step - loss: 0.5220 - acc: 0.7775\n",
      "Epoch 21/30\n",
      "418/418 [==============================] - 0s 121us/step - loss: 0.5166 - acc: 0.7799\n",
      "Epoch 22/30\n",
      "418/418 [==============================] - 0s 122us/step - loss: 0.5123 - acc: 0.7847\n",
      "Epoch 23/30\n",
      "418/418 [==============================] - 0s 125us/step - loss: 0.5078 - acc: 0.7847\n",
      "Epoch 24/30\n",
      "418/418 [==============================] - 0s 126us/step - loss: 0.5036 - acc: 0.7847\n",
      "Epoch 25/30\n",
      "418/418 [==============================] - 0s 120us/step - loss: 0.4992 - acc: 0.7895\n",
      "Epoch 26/30\n",
      "418/418 [==============================] - 0s 120us/step - loss: 0.4959 - acc: 0.7895\n",
      "Epoch 27/30\n",
      "418/418 [==============================] - 0s 112us/step - loss: 0.4924 - acc: 0.7895\n",
      "Epoch 28/30\n",
      "418/418 [==============================] - 0s 122us/step - loss: 0.4894 - acc: 0.7919\n",
      "Epoch 29/30\n",
      "418/418 [==============================] - 0s 126us/step - loss: 0.4864 - acc: 0.7919\n",
      "Epoch 30/30\n",
      "418/418 [==============================] - 0s 131us/step - loss: 0.4836 - acc: 0.7919\n",
      "209/209 [==============================] - 1s 4ms/step\n",
      "418/418 [==============================] - 0s 71us/step\n",
      "Epoch 1/30\n",
      "418/418 [==============================] - 2s 5ms/step - loss: 0.7962 - acc: 0.4665\n",
      "Epoch 2/30\n",
      "418/418 [==============================] - 0s 132us/step - loss: 0.7598 - acc: 0.4689\n",
      "Epoch 3/30\n",
      "418/418 [==============================] - 0s 134us/step - loss: 0.7382 - acc: 0.4689\n",
      "Epoch 4/30\n",
      "418/418 [==============================] - 0s 134us/step - loss: 0.7193 - acc: 0.4689\n",
      "Epoch 5/30\n",
      "418/418 [==============================] - 0s 129us/step - loss: 0.7004 - acc: 0.5120\n",
      "Epoch 6/30\n",
      "418/418 [==============================] - 0s 133us/step - loss: 0.6838 - acc: 0.5646\n",
      "Epoch 7/30\n",
      "418/418 [==============================] - 0s 131us/step - loss: 0.6677 - acc: 0.5861\n",
      "Epoch 8/30\n",
      "418/418 [==============================] - 0s 134us/step - loss: 0.6529 - acc: 0.6866\n",
      "Epoch 9/30\n",
      "418/418 [==============================] - 0s 127us/step - loss: 0.6401 - acc: 0.7584\n",
      "Epoch 10/30\n",
      "418/418 [==============================] - 0s 132us/step - loss: 0.6282 - acc: 0.7632\n",
      "Epoch 11/30\n",
      "418/418 [==============================] - 0s 121us/step - loss: 0.6174 - acc: 0.7608\n",
      "Epoch 12/30\n",
      "418/418 [==============================] - 0s 118us/step - loss: 0.6081 - acc: 0.7656\n",
      "Epoch 13/30\n",
      "418/418 [==============================] - 0s 135us/step - loss: 0.6004 - acc: 0.7703\n",
      "Epoch 14/30\n",
      "418/418 [==============================] - 0s 139us/step - loss: 0.5922 - acc: 0.7703\n",
      "Epoch 15/30\n",
      "418/418 [==============================] - 0s 128us/step - loss: 0.5846 - acc: 0.7727\n",
      "Epoch 16/30\n",
      "418/418 [==============================] - 0s 128us/step - loss: 0.5788 - acc: 0.7751\n",
      "Epoch 17/30\n",
      "418/418 [==============================] - 0s 124us/step - loss: 0.5725 - acc: 0.7775\n",
      "Epoch 18/30\n",
      "418/418 [==============================] - 0s 123us/step - loss: 0.5669 - acc: 0.7727\n",
      "Epoch 19/30\n",
      "418/418 [==============================] - 0s 129us/step - loss: 0.5622 - acc: 0.7703\n",
      "Epoch 20/30\n",
      "418/418 [==============================] - 0s 119us/step - loss: 0.5573 - acc: 0.7703\n",
      "Epoch 21/30\n",
      "418/418 [==============================] - 0s 118us/step - loss: 0.5531 - acc: 0.7751\n",
      "Epoch 22/30\n",
      "418/418 [==============================] - 0s 117us/step - loss: 0.5499 - acc: 0.7823\n",
      "Epoch 23/30\n",
      "418/418 [==============================] - 0s 111us/step - loss: 0.5460 - acc: 0.7919\n",
      "Epoch 24/30\n",
      "418/418 [==============================] - 0s 112us/step - loss: 0.5436 - acc: 0.7919\n",
      "Epoch 25/30\n",
      "418/418 [==============================] - 0s 107us/step - loss: 0.5406 - acc: 0.7967\n",
      "Epoch 26/30\n",
      "418/418 [==============================] - 0s 111us/step - loss: 0.5381 - acc: 0.7967\n",
      "Epoch 27/30\n",
      "418/418 [==============================] - 0s 111us/step - loss: 0.5355 - acc: 0.7990\n",
      "Epoch 28/30\n",
      "418/418 [==============================] - 0s 110us/step - loss: 0.5325 - acc: 0.7967\n",
      "Epoch 29/30\n",
      "418/418 [==============================] - 0s 117us/step - loss: 0.5303 - acc: 0.7990\n",
      "Epoch 30/30\n",
      "418/418 [==============================] - 0s 115us/step - loss: 0.5272 - acc: 0.8062\n",
      "209/209 [==============================] - 1s 5ms/step\n",
      "418/418 [==============================] - 0s 71us/step\n",
      "Epoch 1/30\n",
      "418/418 [==============================] - 2s 5ms/step - loss: 0.7733 - acc: 0.5215\n",
      "Epoch 2/30\n",
      "418/418 [==============================] - 0s 119us/step - loss: 0.7306 - acc: 0.5215\n",
      "Epoch 3/30\n",
      "418/418 [==============================] - 0s 126us/step - loss: 0.7066 - acc: 0.5215\n",
      "Epoch 4/30\n",
      "418/418 [==============================] - 0s 128us/step - loss: 0.6821 - acc: 0.5311\n",
      "Epoch 5/30\n",
      "418/418 [==============================] - 0s 127us/step - loss: 0.6592 - acc: 0.5478\n",
      "Epoch 6/30\n",
      "418/418 [==============================] - 0s 122us/step - loss: 0.6365 - acc: 0.5933\n",
      "Epoch 7/30\n",
      "418/418 [==============================] - 0s 120us/step - loss: 0.6201 - acc: 0.6364\n",
      "Epoch 8/30\n",
      "418/418 [==============================] - 0s 126us/step - loss: 0.6021 - acc: 0.6699\n",
      "Epoch 9/30\n",
      "418/418 [==============================] - 0s 127us/step - loss: 0.5876 - acc: 0.7081\n",
      "Epoch 10/30\n",
      "418/418 [==============================] - 0s 134us/step - loss: 0.5725 - acc: 0.7416\n",
      "Epoch 11/30\n",
      "418/418 [==============================] - 0s 128us/step - loss: 0.5579 - acc: 0.7679\n",
      "Epoch 12/30\n",
      "418/418 [==============================] - 0s 124us/step - loss: 0.5447 - acc: 0.7799\n",
      "Epoch 13/30\n",
      "418/418 [==============================] - 0s 124us/step - loss: 0.5321 - acc: 0.7943\n",
      "Epoch 14/30\n",
      "418/418 [==============================] - 0s 123us/step - loss: 0.5213 - acc: 0.8038\n",
      "Epoch 15/30\n",
      "418/418 [==============================] - 0s 123us/step - loss: 0.5104 - acc: 0.8110\n",
      "Epoch 16/30\n",
      "418/418 [==============================] - 0s 122us/step - loss: 0.5008 - acc: 0.8182\n",
      "Epoch 17/30\n"
     ]
    },
    {
     "name": "stdout",
     "output_type": "stream",
     "text": [
      "418/418 [==============================] - 0s 129us/step - loss: 0.4932 - acc: 0.8230\n",
      "Epoch 18/30\n",
      "418/418 [==============================] - 0s 132us/step - loss: 0.4859 - acc: 0.8278\n",
      "Epoch 19/30\n",
      "418/418 [==============================] - 0s 133us/step - loss: 0.4791 - acc: 0.8325\n",
      "Epoch 20/30\n",
      "418/418 [==============================] - 0s 139us/step - loss: 0.4730 - acc: 0.8325\n",
      "Epoch 21/30\n",
      "418/418 [==============================] - 0s 122us/step - loss: 0.4682 - acc: 0.8278\n",
      "Epoch 22/30\n",
      "418/418 [==============================] - 0s 118us/step - loss: 0.4631 - acc: 0.8349\n",
      "Epoch 23/30\n",
      "418/418 [==============================] - 0s 121us/step - loss: 0.4583 - acc: 0.8301\n",
      "Epoch 24/30\n",
      "418/418 [==============================] - 0s 126us/step - loss: 0.4550 - acc: 0.8301\n",
      "Epoch 25/30\n",
      "418/418 [==============================] - 0s 133us/step - loss: 0.4515 - acc: 0.8325\n",
      "Epoch 26/30\n",
      "418/418 [==============================] - 0s 125us/step - loss: 0.4486 - acc: 0.8349\n",
      "Epoch 27/30\n",
      "418/418 [==============================] - 0s 139us/step - loss: 0.4462 - acc: 0.8349\n",
      "Epoch 28/30\n",
      "418/418 [==============================] - 0s 138us/step - loss: 0.4442 - acc: 0.8349\n",
      "Epoch 29/30\n",
      "418/418 [==============================] - 0s 136us/step - loss: 0.4424 - acc: 0.8349\n",
      "Epoch 30/30\n",
      "418/418 [==============================] - 0s 189us/step - loss: 0.4408 - acc: 0.8349\n",
      "209/209 [==============================] - 1s 5ms/step\n",
      "418/418 [==============================] - 0s 80us/step\n",
      "Epoch 1/30\n",
      "418/418 [==============================] - 2s 5ms/step - loss: 0.8497 - acc: 0.3660\n",
      "Epoch 2/30\n",
      "418/418 [==============================] - 0s 120us/step - loss: 0.7904 - acc: 0.4139\n",
      "Epoch 3/30\n",
      "418/418 [==============================] - 0s 129us/step - loss: 0.7483 - acc: 0.4593\n",
      "Epoch 4/30\n",
      "418/418 [==============================] - 0s 121us/step - loss: 0.7141 - acc: 0.4904\n",
      "Epoch 5/30\n",
      "418/418 [==============================] - 0s 127us/step - loss: 0.6810 - acc: 0.5239\n",
      "Epoch 6/30\n",
      "418/418 [==============================] - 0s 127us/step - loss: 0.6506 - acc: 0.5407\n",
      "Epoch 7/30\n",
      "418/418 [==============================] - 0s 129us/step - loss: 0.6250 - acc: 0.5981\n",
      "Epoch 8/30\n",
      "418/418 [==============================] - 0s 118us/step - loss: 0.6003 - acc: 0.6435\n",
      "Epoch 9/30\n",
      "418/418 [==============================] - 0s 126us/step - loss: 0.5785 - acc: 0.6770\n",
      "Epoch 10/30\n",
      "418/418 [==============================] - 0s 127us/step - loss: 0.5591 - acc: 0.7129\n",
      "Epoch 11/30\n",
      "418/418 [==============================] - 0s 122us/step - loss: 0.5445 - acc: 0.7249\n",
      "Epoch 12/30\n",
      "418/418 [==============================] - 0s 121us/step - loss: 0.5292 - acc: 0.7584\n",
      "Epoch 13/30\n",
      "418/418 [==============================] - 0s 130us/step - loss: 0.5171 - acc: 0.7656\n",
      "Epoch 14/30\n",
      "418/418 [==============================] - 0s 124us/step - loss: 0.5094 - acc: 0.7608\n",
      "Epoch 15/30\n",
      "418/418 [==============================] - 0s 127us/step - loss: 0.5002 - acc: 0.7656\n",
      "Epoch 16/30\n",
      "418/418 [==============================] - 0s 122us/step - loss: 0.4920 - acc: 0.7703\n",
      "Epoch 17/30\n",
      "418/418 [==============================] - 0s 112us/step - loss: 0.4833 - acc: 0.7847\n",
      "Epoch 18/30\n",
      "418/418 [==============================] - 0s 128us/step - loss: 0.4761 - acc: 0.7919\n",
      "Epoch 19/30\n",
      "418/418 [==============================] - 0s 119us/step - loss: 0.4695 - acc: 0.7847\n",
      "Epoch 20/30\n",
      "418/418 [==============================] - 0s 125us/step - loss: 0.4645 - acc: 0.7895\n",
      "Epoch 21/30\n",
      "418/418 [==============================] - 0s 127us/step - loss: 0.4595 - acc: 0.7871\n",
      "Epoch 22/30\n",
      "418/418 [==============================] - 0s 127us/step - loss: 0.4560 - acc: 0.7895\n",
      "Epoch 23/30\n",
      "418/418 [==============================] - 0s 124us/step - loss: 0.4524 - acc: 0.7967\n",
      "Epoch 24/30\n",
      "418/418 [==============================] - 0s 121us/step - loss: 0.4499 - acc: 0.7967\n",
      "Epoch 25/30\n",
      "418/418 [==============================] - 0s 122us/step - loss: 0.4471 - acc: 0.7943\n",
      "Epoch 26/30\n",
      "418/418 [==============================] - 0s 125us/step - loss: 0.4456 - acc: 0.7967\n",
      "Epoch 27/30\n",
      "418/418 [==============================] - 0s 125us/step - loss: 0.4440 - acc: 0.8014\n",
      "Epoch 28/30\n",
      "418/418 [==============================] - 0s 121us/step - loss: 0.4418 - acc: 0.8038\n",
      "Epoch 29/30\n",
      "418/418 [==============================] - 0s 130us/step - loss: 0.4405 - acc: 0.8014\n",
      "Epoch 30/30\n",
      "418/418 [==============================] - 0s 126us/step - loss: 0.4390 - acc: 0.8062\n",
      "209/209 [==============================] - 1s 4ms/step\n",
      "418/418 [==============================] - 0s 74us/step\n",
      "Epoch 1/30\n",
      "627/627 [==============================] - 2s 3ms/step - loss: 0.8060 - acc: 0.4083\n",
      "Epoch 2/30\n",
      "627/627 [==============================] - 0s 117us/step - loss: 0.7505 - acc: 0.4290\n",
      "Epoch 3/30\n",
      "627/627 [==============================] - 0s 127us/step - loss: 0.7038 - acc: 0.4545\n",
      "Epoch 4/30\n",
      "627/627 [==============================] - 0s 120us/step - loss: 0.6603 - acc: 0.5662\n",
      "Epoch 5/30\n",
      "627/627 [==============================] - 0s 124us/step - loss: 0.6224 - acc: 0.7416\n",
      "Epoch 6/30\n",
      "627/627 [==============================] - 0s 126us/step - loss: 0.5900 - acc: 0.7719\n",
      "Epoch 7/30\n",
      "627/627 [==============================] - 0s 128us/step - loss: 0.5627 - acc: 0.7783\n",
      "Epoch 8/30\n",
      "627/627 [==============================] - 0s 122us/step - loss: 0.5391 - acc: 0.7863\n",
      "Epoch 9/30\n",
      "627/627 [==============================] - 0s 114us/step - loss: 0.5190 - acc: 0.7943\n",
      "Epoch 10/30\n",
      "627/627 [==============================] - 0s 112us/step - loss: 0.5028 - acc: 0.7974\n",
      "Epoch 11/30\n",
      "627/627 [==============================] - 0s 123us/step - loss: 0.4899 - acc: 0.7990\n",
      "Epoch 12/30\n",
      "627/627 [==============================] - 0s 136us/step - loss: 0.4800 - acc: 0.8006\n",
      "Epoch 13/30\n",
      "627/627 [==============================] - 0s 128us/step - loss: 0.4726 - acc: 0.8038\n",
      "Epoch 14/30\n",
      "627/627 [==============================] - 0s 117us/step - loss: 0.4668 - acc: 0.7990\n",
      "Epoch 15/30\n",
      "627/627 [==============================] - 0s 118us/step - loss: 0.4622 - acc: 0.8038\n",
      "Epoch 16/30\n",
      "627/627 [==============================] - 0s 125us/step - loss: 0.4585 - acc: 0.8038\n",
      "Epoch 17/30\n",
      "627/627 [==============================] - 0s 128us/step - loss: 0.4556 - acc: 0.8038\n",
      "Epoch 18/30\n",
      "627/627 [==============================] - 0s 122us/step - loss: 0.4528 - acc: 0.8054\n",
      "Epoch 19/30\n",
      "627/627 [==============================] - 0s 121us/step - loss: 0.4504 - acc: 0.8054\n",
      "Epoch 20/30\n",
      "627/627 [==============================] - 0s 121us/step - loss: 0.4482 - acc: 0.8102\n",
      "Epoch 21/30\n",
      "627/627 [==============================] - 0s 119us/step - loss: 0.4463 - acc: 0.8134\n",
      "Epoch 22/30\n",
      "627/627 [==============================] - 0s 126us/step - loss: 0.4448 - acc: 0.8150\n",
      "Epoch 23/30\n",
      "627/627 [==============================] - 0s 124us/step - loss: 0.4433 - acc: 0.8118\n",
      "Epoch 24/30\n",
      "627/627 [==============================] - 0s 127us/step - loss: 0.4422 - acc: 0.8134\n",
      "Epoch 25/30\n",
      "627/627 [==============================] - 0s 120us/step - loss: 0.4411 - acc: 0.8118\n",
      "Epoch 26/30\n",
      "627/627 [==============================] - 0s 148us/step - loss: 0.4400 - acc: 0.8102\n",
      "Epoch 27/30\n",
      "627/627 [==============================] - 0s 122us/step - loss: 0.4394 - acc: 0.8086\n",
      "Epoch 28/30\n",
      "627/627 [==============================] - 0s 117us/step - loss: 0.4384 - acc: 0.8086\n",
      "Epoch 29/30\n",
      "627/627 [==============================] - 0s 107us/step - loss: 0.4379 - acc: 0.8070\n",
      "Epoch 30/30\n",
      "627/627 [==============================] - 0s 107us/step - loss: 0.4375 - acc: 0.8070\n",
      "CPU times: user 1min 17s, sys: 11.8 s, total: 1min 29s\n",
      "Wall time: 1min 20s\n"
     ]
    },
    {
     "data": {
      "text/plain": [
       "GridSearchCV(cv=3, error_score='raise',\n",
       "       estimator=<keras.wrappers.scikit_learn.KerasClassifier object at 0x14d8db5c0>,\n",
       "       fit_params=None, iid=True, n_jobs=1,\n",
       "       param_grid={'epochs': [10, 20, 30], 'optimizer': ['adam', 'rmsprop']},\n",
       "       pre_dispatch='2*n_jobs', refit=True, return_train_score='warn',\n",
       "       scoring=None, verbose=0)"
      ]
     },
     "execution_count": 481,
     "metadata": {},
     "output_type": "execute_result"
    }
   ],
   "source": [
    "%time keras_cv.fit(X_train,y_train_matrix)"
   ]
  },
  {
   "cell_type": "code",
   "execution_count": 482,
   "metadata": {},
   "outputs": [
    {
     "name": "stdout",
     "output_type": "stream",
     "text": [
      "CPU times: user 902 ms, sys: 30.3 ms, total: 932 ms\n",
      "Wall time: 938 ms\n",
      "Best Parameters: {'epochs': 30, 'optimizer': 'rmsprop'}\n",
      "Best score is 0.7974481666297243\n"
     ]
    }
   ],
   "source": [
    "%time y_pred = keras_cv.predict(X_test)\n",
    "\n",
    "print(\"Best Parameters: {}\".format(keras_cv.best_params_)) \n",
    "print(\"Best score is {}\".format(keras_cv.best_score_))"
   ]
  },
  {
   "cell_type": "code",
   "execution_count": 483,
   "metadata": {},
   "outputs": [
    {
     "name": "stdout",
     "output_type": "stream",
     "text": [
      "#####################\n",
      "Test data\n",
      "#####################\n",
      "             precision    recall  f1-score   support\n",
      "\n",
      "        0.0       0.79      0.71      0.75        75\n",
      "        1.0       0.76      0.83      0.79        82\n",
      "\n",
      "avg / total       0.77      0.77      0.77       157\n",
      "\n",
      "#####################\n"
     ]
    },
    {
     "data": {
      "image/png": "[encoded data removed]",
      "text/plain": [
       "<Figure size 1260x720 with 2 Axes>"
      ]
     },
     "metadata": {},
     "output_type": "display_data"
    }
   ],
   "source": [
    "neural_network_results(y_test,y_pred)"
   ]
  },
  {
   "cell_type": "markdown",
   "metadata": {},
   "source": [
    "By increasing the number of nodes of the hidden layer to 8, the accuracy dropped to **77.07%**. In this case the best parameters were 30 epochs and the rmsprop optimizer."
   ]
  },
  {
   "cell_type": "code",
   "execution_count": null,
   "metadata": {},
   "outputs": [],
   "source": []
  }
 ],
 "metadata": {
  "kernelspec": {
   "display_name": "Python 3",
   "language": "python",
   "name": "python3"
  },
  "language_info": {
   "codemirror_mode": {
    "name": "ipython",
    "version": 3
   },
   "file_extension": ".py",
   "mimetype": "text/x-python",
   "name": "python",
   "nbconvert_exporter": "python",
   "pygments_lexer": "ipython3",
   "version": "3.6.4"
  }
 },
 "nbformat": 4,
 "nbformat_minor": 2
}
