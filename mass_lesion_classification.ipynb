{
 "cells": [
  {
   "cell_type": "markdown",
   "metadata": {},
   "source": [
    "# Mass Lesion Classification\n",
    "\n",
    "# Predicting whether a mammogram mass is benign or malignant\n",
    "***"
   ]
  },
  {
   "cell_type": "markdown",
   "metadata": {},
   "source": [
    "## Table of contents\n",
    "1. [Introduction](#introduction)\n",
    "    1. [Loading Libraries](#libraries)\n",
    "    2. [Acquiring Data](#acquire)\n",
    "    3. [Data Content](#content)\n",
    "    4. [Missing Values](#missing)\n",
    "    5. [Changing Data Types](#datatypes)\n",
    "2. [Exploratory Data Analysis](#EDA)\n",
    "    1. [Feature Visualization](#features)\n",
    "3. [Data Cleaning](#dataclean)\n",
    "    1. [BI-RADS](#bi-rads)\n",
    "    2. [High Confidence](#confidence)\n",
    "    3. [Non-Predictive](#nonpredictive)\n",
    "4. [Modeling](#modeling)\n",
    "    1. [Loading Libraries](#libs)\n",
    "    2. [Save Data](#save)\n",
    "    3. [Scale and Split Data](#scalesplit)\n",
    "    4. [KNN](#knn)\n",
    "    5. [Logistic Regression](#logistic)\n",
    "    6. [Naive Bayes](#bayes)\n",
    "    7. [Support Vector Machine](#svm)\n",
    "    8. [Random Forest](#forest)\n",
    "    9. [Neural Network](#nn)\n",
    "5. [Conclusion](#conclusion)\n",
    "    1. [Results](#results)\n",
    "    2. [Recommendations](#recommendations)"
   ]
  },
  {
   "cell_type": "markdown",
   "metadata": {},
   "source": [
    "## 1. Introduction <a name=\"introduction\"></a>\n",
    "***\n",
    "\n",
    "Breast cancer is the most common cancer diagnosed in women worldwide accounting for [25% of all cases](https://en.wikipedia.org/wiki/Breast_cancer). It is more than 100 times more common in women than in men. Breast cancer screening attempts to achieve an early diagnosis of the disease so that the outcomes are better for the patient. There are several types of breast cancer screening such as mammography, genetic screening, ultrasound, and magnetic resonance imaging.\n",
    "\n",
    "In this case, the project will focus on mammography which is considered the most effective method for detecting breast cancer. The problem is that the low positive predictive value of breast \n",
    "biopsy resulting from mammogram interpretation leads to approximately \n",
    "70% unnecessary biopsies with benign outcomes. So the goal is to reduce the high number of unnecessary breast biopsies\n",
    "\n",
    "Physicians and hospitals around the world can use such a model to predict whether a mammogram mass is benign or malignant. Patients can have a better diagnosis and avoid unnecessary biopsies. Better predictions can help both the physician and patient to reduce costs in case of negligence due to unnecessary expenses or lawsuits due to wrong diagnosis.\n",
    "\n",
    "The [Mammographic Mass Data Set](https://archive.ics.uci.edu/ml/datasets/Mammographic+Mass) has been acquired from the UCI repository. This data contains 961 instances of masses detected in mammograms, and contains the following attributes:\n",
    "\n",
    "1.\tBI-RADS assessment: 1 to 5 (ordinal)\n",
    "2.\tAge: patient's age in years (integer)\n",
    "3.\tShape: mass shape: round=1 oval=2 lobular=3 irregular=4 (nominal)\n",
    "4.\tMargin: mass margin: circumscribed=1 microlobulated=2 obscured=3 ill-defined=4 spiculated=5 (nominal)\n",
    "5.\tDensity: mass density high=1 iso=2 low=3 fat-containing=4 (ordinal)\n",
    "6.\tSeverity: benign=0 or malignant=1 (binominal)\n",
    "\n",
    "A supervised classification algorithm is a good choice to build a predictive model of a set of categories, in this case, benign or malignant. The dataset contains missing values so the first step will be to take care of them. Exploratory data analysis will help understand the data and find some patterns. Finally, the following algorithmic models will be:\n",
    "\n",
    "* KNN\n",
    "* Logistic Regression\n",
    "* Naive Bayes\n",
    "* SVM\n",
    "* Random forest\n",
    "* A neural network using Keras."
   ]
  },
  {
   "cell_type": "markdown",
   "metadata": {},
   "source": [
    "### Loading libraries <a name= \"libraries\"></a>\n",
    "***\n",
    "These are some of the libraries used for data wrangling and EDA."
   ]
  },
  {
   "cell_type": "code",
   "execution_count": 7,
   "metadata": {},
   "outputs": [
    {
     "name": "stdout",
     "output_type": "stream",
     "text": [
      "Populating the interactive namespace from numpy and matplotlib\n"
     ]
    }
   ],
   "source": [
    "import os\n",
    "import pandas as pd\n",
    "import numpy as np\n",
    "import matplotlib.pyplot as plt\n",
    "from matplotlib import rcParams\n",
    "import seaborn as sns\n",
    "\n",
    "%matplotlib inline\n",
    "%pylab inline\n",
    "\n",
    "params = {'legend.fontsize': 'x-large',\n",
    "          'figure.figsize': (17.5, 10),\n",
    "         'axes.labelsize': 'x-large',\n",
    "         'axes.titlesize':'x-large',\n",
    "         'xtick.labelsize':'x-large',\n",
    "         'ytick.labelsize':'x-large'}\n",
    "\n",
    "pylab.rcParams.update(params)\n",
    "plt.style.use(['seaborn-white'])"
   ]
  },
  {
   "cell_type": "markdown",
   "metadata": {},
   "source": [
    "### Acquiring data <a name= \"acquire\"></a>\n",
    "***\n",
    "The data was acquired from the UCI repository called [Mammographic Mass Data Set](https://archive.ics.uci.edu/ml/datasets/Mammographic+Mass). Let's look at the data."
   ]
  },
  {
   "cell_type": "code",
   "execution_count": 8,
   "metadata": {},
   "outputs": [
    {
     "data": {
      "text/html": [
       "<div>\n",
       "<style scoped>\n",
       "    .dataframe tbody tr th:only-of-type {\n",
       "        vertical-align: middle;\n",
       "    }\n",
       "\n",
       "    .dataframe tbody tr th {\n",
       "        vertical-align: top;\n",
       "    }\n",
       "\n",
       "    .dataframe thead th {\n",
       "        text-align: right;\n",
       "    }\n",
       "</style>\n",
       "<table border=\"1\" class=\"dataframe\">\n",
       "  <thead>\n",
       "    <tr style=\"text-align: right;\">\n",
       "      <th></th>\n",
       "      <th>bi-rads</th>\n",
       "      <th>age</th>\n",
       "      <th>shape</th>\n",
       "      <th>margin</th>\n",
       "      <th>density</th>\n",
       "      <th>severity</th>\n",
       "    </tr>\n",
       "  </thead>\n",
       "  <tbody>\n",
       "    <tr>\n",
       "      <th>0</th>\n",
       "      <td>5.0</td>\n",
       "      <td>67.0</td>\n",
       "      <td>3.0</td>\n",
       "      <td>5.0</td>\n",
       "      <td>3.0</td>\n",
       "      <td>1</td>\n",
       "    </tr>\n",
       "    <tr>\n",
       "      <th>1</th>\n",
       "      <td>4.0</td>\n",
       "      <td>43.0</td>\n",
       "      <td>1.0</td>\n",
       "      <td>1.0</td>\n",
       "      <td>NaN</td>\n",
       "      <td>1</td>\n",
       "    </tr>\n",
       "    <tr>\n",
       "      <th>2</th>\n",
       "      <td>5.0</td>\n",
       "      <td>58.0</td>\n",
       "      <td>4.0</td>\n",
       "      <td>5.0</td>\n",
       "      <td>3.0</td>\n",
       "      <td>1</td>\n",
       "    </tr>\n",
       "    <tr>\n",
       "      <th>3</th>\n",
       "      <td>4.0</td>\n",
       "      <td>28.0</td>\n",
       "      <td>1.0</td>\n",
       "      <td>1.0</td>\n",
       "      <td>3.0</td>\n",
       "      <td>0</td>\n",
       "    </tr>\n",
       "    <tr>\n",
       "      <th>4</th>\n",
       "      <td>5.0</td>\n",
       "      <td>74.0</td>\n",
       "      <td>1.0</td>\n",
       "      <td>5.0</td>\n",
       "      <td>NaN</td>\n",
       "      <td>1</td>\n",
       "    </tr>\n",
       "  </tbody>\n",
       "</table>\n",
       "</div>"
      ],
      "text/plain": [
       "   bi-rads   age  shape  margin  density  severity\n",
       "0      5.0  67.0    3.0     5.0      3.0         1\n",
       "1      4.0  43.0    1.0     1.0      NaN         1\n",
       "2      5.0  58.0    4.0     5.0      3.0         1\n",
       "3      4.0  28.0    1.0     1.0      3.0         0\n",
       "4      5.0  74.0    1.0     5.0      NaN         1"
      ]
     },
     "execution_count": 8,
     "metadata": {},
     "output_type": "execute_result"
    }
   ],
   "source": [
    "data = pd.read_csv('mammographic_masses.data.txt',\n",
    "                   na_values=['?'],\n",
    "                   names=['bi-rads','age','shape','margin','density','severity'])\n",
    "data.head()"
   ]
  },
  {
   "cell_type": "markdown",
   "metadata": {},
   "source": [
    "It was neccessary to deal with the '?' in the data and set them as NaN values. As well, the names of the columns were missing so they were added for better understanding of the data."
   ]
  },
  {
   "cell_type": "markdown",
   "metadata": {},
   "source": [
    "### Data content <a name=\"content\"></a>\n",
    "***\n",
    "Let's look at the content of the data such as shape, columns, and summary statistics. "
   ]
  },
  {
   "cell_type": "code",
   "execution_count": 9,
   "metadata": {},
   "outputs": [
    {
     "name": "stdout",
     "output_type": "stream",
     "text": [
      "<class 'pandas.core.frame.DataFrame'>\n",
      "RangeIndex: 961 entries, 0 to 960\n",
      "Data columns (total 6 columns):\n",
      "bi-rads     959 non-null float64\n",
      "age         956 non-null float64\n",
      "shape       930 non-null float64\n",
      "margin      913 non-null float64\n",
      "density     885 non-null float64\n",
      "severity    961 non-null int64\n",
      "dtypes: float64(5), int64(1)\n",
      "memory usage: 45.1 KB\n"
     ]
    }
   ],
   "source": [
    "data.info()"
   ]
  },
  {
   "cell_type": "code",
   "execution_count": 10,
   "metadata": {},
   "outputs": [
    {
     "data": {
      "text/plain": [
       "(961, 6)"
      ]
     },
     "execution_count": 10,
     "metadata": {},
     "output_type": "execute_result"
    }
   ],
   "source": [
    "data.shape"
   ]
  },
  {
   "cell_type": "code",
   "execution_count": 11,
   "metadata": {},
   "outputs": [
    {
     "data": {
      "text/plain": [
       "Index(['bi-rads', 'age', 'shape', 'margin', 'density', 'severity'], dtype='object')"
      ]
     },
     "execution_count": 11,
     "metadata": {},
     "output_type": "execute_result"
    }
   ],
   "source": [
    "data.columns"
   ]
  },
  {
   "cell_type": "markdown",
   "metadata": {},
   "source": [
    "The data has 961 entries and 6 different columns. As mentioned before, it does have some missing values so let's looking at them."
   ]
  },
  {
   "cell_type": "markdown",
   "metadata": {},
   "source": [
    "### Missing Values <a name=\"missing\"></a>\n",
    "***\n",
    "Let's calculate the fraction of missing values per column. This will give us an idea if there is a need to drop columns or rows."
   ]
  },
  {
   "cell_type": "code",
   "execution_count": 12,
   "metadata": {},
   "outputs": [
    {
     "data": {
      "text/plain": [
       "bi-rads     0.208117\n",
       "age         0.520291\n",
       "shape       3.225806\n",
       "margin      4.994797\n",
       "density     7.908429\n",
       "severity    0.000000\n",
       "dtype: float64"
      ]
     },
     "execution_count": 12,
     "metadata": {},
     "output_type": "execute_result"
    }
   ],
   "source": [
    "data.isnull().sum()/len(data)*100"
   ]
  },
  {
   "cell_type": "markdown",
   "metadata": {},
   "source": [
    "The density column is the one missing the most values at 7.9%. Only severity column has all the complete data. The question lies in if the entries with missing data should be immediately dropped. Before dropping let's analyze the data and see if no biased is added due to dropping the columns. If it is, then filling in the missing data would be a better solution."
   ]
  },
  {
   "cell_type": "code",
   "execution_count": 13,
   "metadata": {},
   "outputs": [
    {
     "name": "stdout",
     "output_type": "stream",
     "text": [
      "<class 'pandas.core.frame.DataFrame'>\n",
      "Int64Index: 130 entries, 1 to 923\n",
      "Data columns (total 6 columns):\n",
      "bi-rads     129 non-null float64\n",
      "age         125 non-null float64\n",
      "shape       99 non-null float64\n",
      "margin      82 non-null float64\n",
      "density     54 non-null float64\n",
      "severity    130 non-null int64\n",
      "dtypes: float64(5), int64(1)\n",
      "memory usage: 7.1 KB\n"
     ]
    }
   ],
   "source": [
    "missing = data.loc[(data['age'].isnull()) | (data['shape'].isnull()) |\n",
    "        (data['margin'].isnull()) | (data['density'].isnull())]\n",
    "missing.info()"
   ]
  },
  {
   "cell_type": "markdown",
   "metadata": {},
   "source": [
    "The data is already only 961 entries and if missing values are dropped, 13.5% of the data will be gone. However, since in this case the problem is one with a person at risk, the decision is to drop the value and use accurate data for the modeling. "
   ]
  },
  {
   "cell_type": "code",
   "execution_count": 14,
   "metadata": {},
   "outputs": [],
   "source": [
    "data.dropna(inplace=True)"
   ]
  },
  {
   "cell_type": "code",
   "execution_count": 15,
   "metadata": {},
   "outputs": [
    {
     "name": "stdout",
     "output_type": "stream",
     "text": [
      "<class 'pandas.core.frame.DataFrame'>\n",
      "Int64Index: 830 entries, 0 to 960\n",
      "Data columns (total 6 columns):\n",
      "bi-rads     830 non-null float64\n",
      "age         830 non-null float64\n",
      "shape       830 non-null float64\n",
      "margin      830 non-null float64\n",
      "density     830 non-null float64\n",
      "severity    830 non-null int64\n",
      "dtypes: float64(5), int64(1)\n",
      "memory usage: 45.4 KB\n"
     ]
    }
   ],
   "source": [
    "data.info()"
   ]
  },
  {
   "cell_type": "code",
   "execution_count": 16,
   "metadata": {},
   "outputs": [
    {
     "data": {
      "text/html": [
       "<div>\n",
       "<style scoped>\n",
       "    .dataframe tbody tr th:only-of-type {\n",
       "        vertical-align: middle;\n",
       "    }\n",
       "\n",
       "    .dataframe tbody tr th {\n",
       "        vertical-align: top;\n",
       "    }\n",
       "\n",
       "    .dataframe thead th {\n",
       "        text-align: right;\n",
       "    }\n",
       "</style>\n",
       "<table border=\"1\" class=\"dataframe\">\n",
       "  <thead>\n",
       "    <tr style=\"text-align: right;\">\n",
       "      <th></th>\n",
       "      <th>bi-rads</th>\n",
       "      <th>age</th>\n",
       "      <th>shape</th>\n",
       "      <th>margin</th>\n",
       "      <th>density</th>\n",
       "      <th>severity</th>\n",
       "    </tr>\n",
       "  </thead>\n",
       "  <tbody>\n",
       "    <tr>\n",
       "      <th>count</th>\n",
       "      <td>830.000000</td>\n",
       "      <td>830.000000</td>\n",
       "      <td>830.000000</td>\n",
       "      <td>830.000000</td>\n",
       "      <td>830.000000</td>\n",
       "      <td>830.000000</td>\n",
       "    </tr>\n",
       "    <tr>\n",
       "      <th>mean</th>\n",
       "      <td>4.393976</td>\n",
       "      <td>55.781928</td>\n",
       "      <td>2.781928</td>\n",
       "      <td>2.813253</td>\n",
       "      <td>2.915663</td>\n",
       "      <td>0.485542</td>\n",
       "    </tr>\n",
       "    <tr>\n",
       "      <th>std</th>\n",
       "      <td>1.888371</td>\n",
       "      <td>14.671782</td>\n",
       "      <td>1.242361</td>\n",
       "      <td>1.567175</td>\n",
       "      <td>0.350936</td>\n",
       "      <td>0.500092</td>\n",
       "    </tr>\n",
       "    <tr>\n",
       "      <th>min</th>\n",
       "      <td>0.000000</td>\n",
       "      <td>18.000000</td>\n",
       "      <td>1.000000</td>\n",
       "      <td>1.000000</td>\n",
       "      <td>1.000000</td>\n",
       "      <td>0.000000</td>\n",
       "    </tr>\n",
       "    <tr>\n",
       "      <th>25%</th>\n",
       "      <td>4.000000</td>\n",
       "      <td>46.000000</td>\n",
       "      <td>2.000000</td>\n",
       "      <td>1.000000</td>\n",
       "      <td>3.000000</td>\n",
       "      <td>0.000000</td>\n",
       "    </tr>\n",
       "    <tr>\n",
       "      <th>50%</th>\n",
       "      <td>4.000000</td>\n",
       "      <td>57.000000</td>\n",
       "      <td>3.000000</td>\n",
       "      <td>3.000000</td>\n",
       "      <td>3.000000</td>\n",
       "      <td>0.000000</td>\n",
       "    </tr>\n",
       "    <tr>\n",
       "      <th>75%</th>\n",
       "      <td>5.000000</td>\n",
       "      <td>66.000000</td>\n",
       "      <td>4.000000</td>\n",
       "      <td>4.000000</td>\n",
       "      <td>3.000000</td>\n",
       "      <td>1.000000</td>\n",
       "    </tr>\n",
       "    <tr>\n",
       "      <th>max</th>\n",
       "      <td>55.000000</td>\n",
       "      <td>96.000000</td>\n",
       "      <td>4.000000</td>\n",
       "      <td>5.000000</td>\n",
       "      <td>4.000000</td>\n",
       "      <td>1.000000</td>\n",
       "    </tr>\n",
       "  </tbody>\n",
       "</table>\n",
       "</div>"
      ],
      "text/plain": [
       "          bi-rads         age       shape      margin     density    severity\n",
       "count  830.000000  830.000000  830.000000  830.000000  830.000000  830.000000\n",
       "mean     4.393976   55.781928    2.781928    2.813253    2.915663    0.485542\n",
       "std      1.888371   14.671782    1.242361    1.567175    0.350936    0.500092\n",
       "min      0.000000   18.000000    1.000000    1.000000    1.000000    0.000000\n",
       "25%      4.000000   46.000000    2.000000    1.000000    3.000000    0.000000\n",
       "50%      4.000000   57.000000    3.000000    3.000000    3.000000    0.000000\n",
       "75%      5.000000   66.000000    4.000000    4.000000    3.000000    1.000000\n",
       "max     55.000000   96.000000    4.000000    5.000000    4.000000    1.000000"
      ]
     },
     "execution_count": 16,
     "metadata": {},
     "output_type": "execute_result"
    }
   ],
   "source": [
    "data.describe()"
   ]
  },
  {
   "cell_type": "markdown",
   "metadata": {},
   "source": [
    "Now the data has 830 entries with no missing values. Most of the data types are floats so let's make sure all the data has the same data type. "
   ]
  },
  {
   "cell_type": "markdown",
   "metadata": {},
   "source": [
    "### Changing data types <a name=\"datatypes\"></a>\n",
    "***\n",
    "The only column that is integer type is *severity* so let's change its data type to float."
   ]
  },
  {
   "cell_type": "code",
   "execution_count": 17,
   "metadata": {},
   "outputs": [],
   "source": [
    "data['severity'] = data['severity'].astype(float)"
   ]
  },
  {
   "cell_type": "code",
   "execution_count": 18,
   "metadata": {},
   "outputs": [
    {
     "name": "stdout",
     "output_type": "stream",
     "text": [
      "<class 'pandas.core.frame.DataFrame'>\n",
      "Int64Index: 830 entries, 0 to 960\n",
      "Data columns (total 6 columns):\n",
      "bi-rads     830 non-null float64\n",
      "age         830 non-null float64\n",
      "shape       830 non-null float64\n",
      "margin      830 non-null float64\n",
      "density     830 non-null float64\n",
      "severity    830 non-null float64\n",
      "dtypes: float64(6)\n",
      "memory usage: 45.4 KB\n"
     ]
    }
   ],
   "source": [
    "data.info()"
   ]
  },
  {
   "cell_type": "markdown",
   "metadata": {},
   "source": [
    "Now all the data is one data type and will be easier to work with."
   ]
  },
  {
   "cell_type": "markdown",
   "metadata": {},
   "source": [
    "# 2. Exploratory Data Analysis <a name=\"EDA\"></a>\n",
    "***\n",
    "Let's do EDA to find patterns and understand the data."
   ]
  },
  {
   "cell_type": "markdown",
   "metadata": {},
   "source": [
    "### Feature Visualization <a name=\"features\"></a>\n",
    "***\n",
    "First, let's look at the target column *severity*."
   ]
  },
  {
   "cell_type": "code",
   "execution_count": 19,
   "metadata": {},
   "outputs": [
    {
     "data": {
      "text/plain": [
       "0.0    427\n",
       "1.0    403\n",
       "Name: severity, dtype: int64"
      ]
     },
     "execution_count": 19,
     "metadata": {},
     "output_type": "execute_result"
    }
   ],
   "source": [
    "data['severity'].value_counts()"
   ]
  },
  {
   "cell_type": "code",
   "execution_count": 20,
   "metadata": {},
   "outputs": [
    {
     "data": {
      "text/plain": [
       "Text(0.5,1,'Severity Count Plot')"
      ]
     },
     "execution_count": 20,
     "metadata": {},
     "output_type": "execute_result"
    },
    {
     "data": {
      "image/png": "[encoded data removed]",
      "text/plain": [
       "<Figure size 1260x720 with 1 Axes>"
      ]
     },
     "metadata": {},
     "output_type": "display_data"
    }
   ],
   "source": [
    "sns.countplot(x='severity',data=data)\n",
    "plt.title('Severity Count Plot')"
   ]
  },
  {
   "cell_type": "markdown",
   "metadata": {},
   "source": [
    "Slightly more mammographic mass lesions were diagnosed as benign. To be more specific, the data contains 427 patients with benign lesions and 403 with malignant.\n",
    "\n",
    "Now let's look at the distribution of patients' age."
   ]
  },
  {
   "cell_type": "code",
   "execution_count": 21,
   "metadata": {},
   "outputs": [
    {
     "data": {
      "text/plain": [
       "Text(0,0.5,'Count')"
      ]
     },
     "execution_count": 21,
     "metadata": {},
     "output_type": "execute_result"
    },
    {
     "data": {
      "image/png": "[encoded data removed]",
      "text/plain": [
       "<Figure size 1260x720 with 1 Axes>"
      ]
     },
     "metadata": {},
     "output_type": "display_data"
    }
   ],
   "source": [
    "_ = plt.hist(data['age'],bins=30)\n",
    "plt.title('Patients\\' Age')\n",
    "plt.xlabel('Age')\n",
    "plt.ylabel('Count')"
   ]
  },
  {
   "cell_type": "markdown",
   "metadata": {},
   "source": [
    "The histogram looks like the age of patients is normally distributed. Some important takeaways from the graph are: \n",
    "\n",
    "- Most of the patients tend to be between 40 and 80 years old.\n",
    "- Some of the patients are getting screened at an early age.\n",
    "\n",
    "Now let's look how the difference between bening  and malignant by age and compare them."
   ]
  },
  {
   "cell_type": "code",
   "execution_count": 22,
   "metadata": {},
   "outputs": [
    {
     "data": {
      "text/plain": [
       "Text(0,0.5,'Count')"
      ]
     },
     "execution_count": 22,
     "metadata": {},
     "output_type": "execute_result"
    },
    {
     "data": {
      "image/png": "[encoded data removed]",
      "text/plain": [
       "<Figure size 1260x720 with 2 Axes>"
      ]
     },
     "metadata": {},
     "output_type": "display_data"
    }
   ],
   "source": [
    "plt.subplot(1,2,1)\n",
    "benign = data[data['severity']==0]\n",
    "_ = plt.hist(benign['age'])\n",
    "plt.title('Benign lesion')\n",
    "plt.xlabel('Age')\n",
    "plt.ylabel('Count')\n",
    "\n",
    "plt.subplot(1,2,2)\n",
    "malignant = data[data['severity']==1]\n",
    "_ = plt.hist(malignant['age'])\n",
    "plt.title('Malignant lesion')\n",
    "plt.xlabel('Age')\n",
    "plt.ylabel('Count')"
   ]
  },
  {
   "cell_type": "markdown",
   "metadata": {},
   "source": [
    "The benign lesions looks right-skewed and malignant lesion looks symmetrical. \n",
    "\n",
    "- Most malignant lesions were diagnosed between 60 and 70 years old. \n",
    "- According to the data, some patients were diagnosed with malignant lesions in there 30's.  \n",
    "\n",
    "Now it is time to look at the shape of the lesions. The shape of the lesion can be the following: \n",
    "\n",
    "- mass shape: round=1 oval=2 lobular=3 irregular=4 \n",
    "\n",
    "So let's look what the shape data tells."
   ]
  },
  {
   "cell_type": "code",
   "execution_count": 23,
   "metadata": {},
   "outputs": [
    {
     "data": {
      "text/plain": [
       "Text(0.5,0,'Shape')"
      ]
     },
     "execution_count": 23,
     "metadata": {},
     "output_type": "execute_result"
    },
    {
     "data": {
      "image/png": "[encoded data removed]",
      "text/plain": [
       "<Figure size 1260x720 with 1 Axes>"
      ]
     },
     "metadata": {},
     "output_type": "display_data"
    }
   ],
   "source": [
    "g = sns.countplot(x='shape',data=data)\n",
    "g.set_xticklabels(['round','oval','lobular','irregular'])\n",
    "plt.title('Mass shape of lesion')\n",
    "plt.xlabel('Shape')"
   ]
  },
  {
   "cell_type": "markdown",
   "metadata": {},
   "source": [
    "The graph shows that most of the lesions had an irregular shape. The least amount of them had a lobular shape. \n",
    "\n",
    "Let's see how severity is related to the shape of each lession. "
   ]
  },
  {
   "cell_type": "code",
   "execution_count": 24,
   "metadata": {},
   "outputs": [
    {
     "data": {
      "image/png": "[encoded data removed]",
      "text/plain": [
       "<Figure size 1080x1080 with 4 Axes>"
      ]
     },
     "metadata": {},
     "output_type": "display_data"
    }
   ],
   "source": [
    "shapes = ['round','oval','lobular','irregular']\n",
    "plt.figure(figsize=(15,15))\n",
    "for i in range(1,5):\n",
    "    plt.subplot(2,2,i)\n",
    "    g = sns.countplot(x='severity',data=data[data['shape']==i])\n",
    "    g.set_xticklabels(['benign','malignant'])\n",
    "    plt.title('Severity for ' + shapes[i-1] + ' shape')\n",
    "    plt.ylim(0,320)"
   ]
  },
  {
   "cell_type": "markdown",
   "metadata": {},
   "source": [
    "The 4 graphs show a better relationship between the severity of the lesion and the shape that the lesion has. The following are some of the takeaways:\n",
    "\n",
    "- Most of malignant lesions tend to be of irregular shape. However, there is still some of irregular shape lesions that can be benign.\n",
    "- Round and oval lesions tend to be benign.\n",
    "- There are not many lobular shape lesions; however, it looks like there is 50% chance of beign malignant or benign.\n",
    "\n",
    "Now let's take a look at the mass margin of the lesion. "
   ]
  },
  {
   "cell_type": "code",
   "execution_count": 25,
   "metadata": {},
   "outputs": [
    {
     "data": {
      "text/plain": [
       "Text(0.5,0,'Margin')"
      ]
     },
     "execution_count": 25,
     "metadata": {},
     "output_type": "execute_result"
    },
    {
     "data": {
      "image/png": "[encoded data removed]",
      "text/plain": [
       "<Figure size 1260x720 with 1 Axes>"
      ]
     },
     "metadata": {},
     "output_type": "display_data"
    }
   ],
   "source": [
    "margin = ['circumscribed','microlobulated','obscured',\n",
    "                   'ill-defined', 'spiculated']\n",
    "g = sns.countplot(x='margin',data=data)\n",
    "g.set_xticklabels(margin)\n",
    "plt.title('Mass margin of lesion')\n",
    "plt.xlabel('Margin')"
   ]
  },
  {
   "cell_type": "markdown",
   "metadata": {},
   "source": [
    "- Most of the lesions are circumscribed or ill-defined.\n",
    "- There is only a few lesions that are microlobulated.\n",
    "\n",
    "Let's see how the mass margin is related to the severity of the lesion."
   ]
  },
  {
   "cell_type": "code",
   "execution_count": 26,
   "metadata": {},
   "outputs": [
    {
     "data": {
      "image/png": "[encoded data removed]",
      "text/plain": [
       "<Figure size 1080x1080 with 5 Axes>"
      ]
     },
     "metadata": {},
     "output_type": "display_data"
    }
   ],
   "source": [
    "plt.figure(figsize=(15,15))\n",
    "for i in range(1,6):\n",
    "    plt.subplot(2,3,i)\n",
    "    g = sns.countplot(x='severity',data=data[data['margin']==i])\n",
    "    g.set_xticklabels(['benign','malignant'])\n",
    "    plt.title('Severity for ' + margin[i-1] + ' mass margin')\n",
    "    plt.ylim(0,320)"
   ]
  },
  {
   "cell_type": "markdown",
   "metadata": {},
   "source": [
    "- Even though most of the lesions are circumscribed, they tend to be benign.\n",
    "- If the mass margin is ill-defined or spiculated, it tends to be malignant. \n",
    "- As for obscured or microbulated, the lesions are almost 50% chance of being classified malignant or benign.\n",
    "\n",
    "At last, let's go over the lesion's mass density and see how it is related to the target variable *severity*."
   ]
  },
  {
   "cell_type": "code",
   "execution_count": 27,
   "metadata": {},
   "outputs": [
    {
     "data": {
      "text/plain": [
       "Text(0.5,0,'Density')"
      ]
     },
     "execution_count": 27,
     "metadata": {},
     "output_type": "execute_result"
    },
    {
     "data": {
      "image/png": "[encoded data removed]",
      "text/plain": [
       "<Figure size 1260x720 with 1 Axes>"
      ]
     },
     "metadata": {},
     "output_type": "display_data"
    }
   ],
   "source": [
    "density = ['high','iso','low','fat-containing']\n",
    "g = sns.countplot(x='density',data=data)\n",
    "g.set_xticklabels(density)\n",
    "plt.title('Mass density of lesion')\n",
    "plt.xlabel('Density')"
   ]
  },
  {
   "cell_type": "markdown",
   "metadata": {},
   "source": [
    "A majority of the patients had a lesion with low mass density. Now let's see the relationship between mass density and severity."
   ]
  },
  {
   "cell_type": "code",
   "execution_count": 28,
   "metadata": {},
   "outputs": [
    {
     "data": {
      "image/png": "[encoded data removed]",
      "text/plain": [
       "<Figure size 1080x1080 with 4 Axes>"
      ]
     },
     "metadata": {},
     "output_type": "display_data"
    }
   ],
   "source": [
    "plt.figure(figsize=(15,15))\n",
    "for i in range(1,5):\n",
    "    plt.subplot(2,2,i)\n",
    "    g = sns.countplot(x='severity',data=data[data['density']==i])\n",
    "    g.set_xticklabels(['benign','malignant'])\n",
    "    plt.title('Severity for ' + density[i-1] + ' mass density')\n",
    "    plt.ylim(0,400)"
   ]
  },
  {
   "cell_type": "markdown",
   "metadata": {},
   "source": [
    "It looks like no conclusion can be made depending on the mass density. Almost all of the lesions were low density; however, 50% of the lesions were classified as benign. \n",
    "\n",
    "Now let's look at BI-RADS feature which is how confident the severity classification is."
   ]
  },
  {
   "cell_type": "code",
   "execution_count": 29,
   "metadata": {},
   "outputs": [
    {
     "data": {
      "text/plain": [
       "Text(0.5,0,'BI-RADS')"
      ]
     },
     "execution_count": 29,
     "metadata": {},
     "output_type": "execute_result"
    },
    {
     "data": {
      "image/png": "[encoded data removed]",
      "text/plain": [
       "<Figure size 1260x720 with 1 Axes>"
      ]
     },
     "metadata": {},
     "output_type": "display_data"
    }
   ],
   "source": [
    "sns.countplot(x='bi-rads',data=data)\n",
    "plt.title('Confidence of severity classification')\n",
    "plt.xlabel('BI-RADS')"
   ]
  },
  {
   "cell_type": "code",
   "execution_count": 30,
   "metadata": {},
   "outputs": [
    {
     "data": {
      "text/plain": [
       "4.0     468\n",
       "5.0     316\n",
       "3.0      24\n",
       "6.0       9\n",
       "2.0       7\n",
       "0.0       5\n",
       "55.0      1\n",
       "Name: bi-rads, dtype: int64"
      ]
     },
     "execution_count": 30,
     "metadata": {},
     "output_type": "execute_result"
    }
   ],
   "source": [
    "data['bi-rads'].value_counts()"
   ]
  },
  {
   "cell_type": "markdown",
   "metadata": {},
   "source": [
    "The scale of BI-RADS feature has to be from 0 to 5. However, the data has values of 6 and 55. It is necessary to drop them since they are only 10 entries and it is not possible to know if only the BI-RADS was entered incorrectly or the whole entry.\n",
    "\n",
    "Also, the data shows that most of the severity classifications have a high confidence of 4 and 5. In this case, let's just work with the entries of high confidence."
   ]
  },
  {
   "cell_type": "markdown",
   "metadata": {},
   "source": [
    "# 3. Data Cleaning\n",
    "***\n",
    "EDA helped to visualize and have a good understanding of the data. The aim here is to remove data with low confidence of classification results as well as errors in the data. Removing the inconsistent data will help our model have a better performance. Let's look at some of the cases found thanks to EDA."
   ]
  },
  {
   "cell_type": "markdown",
   "metadata": {},
   "source": [
    "### BI-RADS <a name=\"bi-rads\"></a>\n",
    "***\n",
    "The scale for BI-RADS has to be between 0 and 5. However, the data contains entries with values of 6 and 55. Since in this case it is hard to know what happened with the data, let's drop them."
   ]
  },
  {
   "cell_type": "code",
   "execution_count": 31,
   "metadata": {},
   "outputs": [
    {
     "data": {
      "text/html": [
       "<div>\n",
       "<style scoped>\n",
       "    .dataframe tbody tr th:only-of-type {\n",
       "        vertical-align: middle;\n",
       "    }\n",
       "\n",
       "    .dataframe tbody tr th {\n",
       "        vertical-align: top;\n",
       "    }\n",
       "\n",
       "    .dataframe thead th {\n",
       "        text-align: right;\n",
       "    }\n",
       "</style>\n",
       "<table border=\"1\" class=\"dataframe\">\n",
       "  <thead>\n",
       "    <tr style=\"text-align: right;\">\n",
       "      <th></th>\n",
       "      <th>bi-rads</th>\n",
       "      <th>age</th>\n",
       "      <th>shape</th>\n",
       "      <th>margin</th>\n",
       "      <th>density</th>\n",
       "      <th>severity</th>\n",
       "    </tr>\n",
       "  </thead>\n",
       "  <tbody>\n",
       "    <tr>\n",
       "      <th>340</th>\n",
       "      <td>55.0</td>\n",
       "      <td>46.0</td>\n",
       "      <td>4.0</td>\n",
       "      <td>3.0</td>\n",
       "      <td>3.0</td>\n",
       "      <td>1.0</td>\n",
       "    </tr>\n",
       "    <tr>\n",
       "      <th>550</th>\n",
       "      <td>6.0</td>\n",
       "      <td>80.0</td>\n",
       "      <td>4.0</td>\n",
       "      <td>5.0</td>\n",
       "      <td>3.0</td>\n",
       "      <td>1.0</td>\n",
       "    </tr>\n",
       "    <tr>\n",
       "      <th>664</th>\n",
       "      <td>6.0</td>\n",
       "      <td>60.0</td>\n",
       "      <td>3.0</td>\n",
       "      <td>5.0</td>\n",
       "      <td>3.0</td>\n",
       "      <td>1.0</td>\n",
       "    </tr>\n",
       "    <tr>\n",
       "      <th>692</th>\n",
       "      <td>6.0</td>\n",
       "      <td>51.0</td>\n",
       "      <td>4.0</td>\n",
       "      <td>4.0</td>\n",
       "      <td>3.0</td>\n",
       "      <td>1.0</td>\n",
       "    </tr>\n",
       "    <tr>\n",
       "      <th>707</th>\n",
       "      <td>6.0</td>\n",
       "      <td>41.0</td>\n",
       "      <td>2.0</td>\n",
       "      <td>1.0</td>\n",
       "      <td>3.0</td>\n",
       "      <td>0.0</td>\n",
       "    </tr>\n",
       "  </tbody>\n",
       "</table>\n",
       "</div>"
      ],
      "text/plain": [
       "     bi-rads   age  shape  margin  density  severity\n",
       "340     55.0  46.0    4.0     3.0      3.0       1.0\n",
       "550      6.0  80.0    4.0     5.0      3.0       1.0\n",
       "664      6.0  60.0    3.0     5.0      3.0       1.0\n",
       "692      6.0  51.0    4.0     4.0      3.0       1.0\n",
       "707      6.0  41.0    2.0     1.0      3.0       0.0"
      ]
     },
     "execution_count": 31,
     "metadata": {},
     "output_type": "execute_result"
    }
   ],
   "source": [
    "bi = data[data['bi-rads']>5]\n",
    "bi.head()"
   ]
  },
  {
   "cell_type": "code",
   "execution_count": 32,
   "metadata": {},
   "outputs": [],
   "source": [
    "data.drop(bi.index,inplace=True)"
   ]
  },
  {
   "cell_type": "markdown",
   "metadata": {},
   "source": [
    "### High Confidence <a name=\"confidence\"></a>\n",
    "***\n",
    "To improve accuracy, let's use data with high confidence of severity classification. This means that only rows with BI-RADS value of 4 and up will be used for modeling."
   ]
  },
  {
   "cell_type": "code",
   "execution_count": 33,
   "metadata": {},
   "outputs": [],
   "source": [
    "data = data[data['bi-rads']>=4]"
   ]
  },
  {
   "cell_type": "code",
   "execution_count": 34,
   "metadata": {},
   "outputs": [
    {
     "name": "stdout",
     "output_type": "stream",
     "text": [
      "<class 'pandas.core.frame.DataFrame'>\n",
      "Int64Index: 784 entries, 0 to 960\n",
      "Data columns (total 6 columns):\n",
      "bi-rads     784 non-null float64\n",
      "age         784 non-null float64\n",
      "shape       784 non-null float64\n",
      "margin      784 non-null float64\n",
      "density     784 non-null float64\n",
      "severity    784 non-null float64\n",
      "dtypes: float64(6)\n",
      "memory usage: 42.9 KB\n"
     ]
    }
   ],
   "source": [
    "data.info()"
   ]
  },
  {
   "cell_type": "markdown",
   "metadata": {},
   "source": [
    "The dataset started with 961 instances and after data cleaning, it contains 784 entries."
   ]
  },
  {
   "cell_type": "markdown",
   "metadata": {},
   "source": [
    "### Non-Predictive <a name=\"nonpredictive\"> </a>\n",
    "***\n",
    "BI-RADS feature helped for data cleaning since it gave the confidence of severity classification. EDA showed that some of the BI-RADS were entered incorrectly and also that most of the entries have high confidence. \n",
    "\n",
    "According to the data, BI-RADS is not a predictive attribute so let's drop the column and have the data ready for modeling."
   ]
  },
  {
   "cell_type": "code",
   "execution_count": 35,
   "metadata": {},
   "outputs": [],
   "source": [
    "data.drop('bi-rads',axis=1,inplace=True)"
   ]
  },
  {
   "cell_type": "code",
   "execution_count": 36,
   "metadata": {},
   "outputs": [],
   "source": [
    "data.reset_index(drop=True,inplace=True)"
   ]
  },
  {
   "cell_type": "code",
   "execution_count": 37,
   "metadata": {},
   "outputs": [
    {
     "data": {
      "text/html": [
       "<div>\n",
       "<style scoped>\n",
       "    .dataframe tbody tr th:only-of-type {\n",
       "        vertical-align: middle;\n",
       "    }\n",
       "\n",
       "    .dataframe tbody tr th {\n",
       "        vertical-align: top;\n",
       "    }\n",
       "\n",
       "    .dataframe thead th {\n",
       "        text-align: right;\n",
       "    }\n",
       "</style>\n",
       "<table border=\"1\" class=\"dataframe\">\n",
       "  <thead>\n",
       "    <tr style=\"text-align: right;\">\n",
       "      <th></th>\n",
       "      <th>age</th>\n",
       "      <th>shape</th>\n",
       "      <th>margin</th>\n",
       "      <th>density</th>\n",
       "      <th>severity</th>\n",
       "    </tr>\n",
       "  </thead>\n",
       "  <tbody>\n",
       "    <tr>\n",
       "      <th>0</th>\n",
       "      <td>67.0</td>\n",
       "      <td>3.0</td>\n",
       "      <td>5.0</td>\n",
       "      <td>3.0</td>\n",
       "      <td>1.0</td>\n",
       "    </tr>\n",
       "    <tr>\n",
       "      <th>1</th>\n",
       "      <td>58.0</td>\n",
       "      <td>4.0</td>\n",
       "      <td>5.0</td>\n",
       "      <td>3.0</td>\n",
       "      <td>1.0</td>\n",
       "    </tr>\n",
       "    <tr>\n",
       "      <th>2</th>\n",
       "      <td>28.0</td>\n",
       "      <td>1.0</td>\n",
       "      <td>1.0</td>\n",
       "      <td>3.0</td>\n",
       "      <td>0.0</td>\n",
       "    </tr>\n",
       "    <tr>\n",
       "      <th>3</th>\n",
       "      <td>57.0</td>\n",
       "      <td>1.0</td>\n",
       "      <td>5.0</td>\n",
       "      <td>3.0</td>\n",
       "      <td>1.0</td>\n",
       "    </tr>\n",
       "    <tr>\n",
       "      <th>4</th>\n",
       "      <td>76.0</td>\n",
       "      <td>1.0</td>\n",
       "      <td>4.0</td>\n",
       "      <td>3.0</td>\n",
       "      <td>1.0</td>\n",
       "    </tr>\n",
       "  </tbody>\n",
       "</table>\n",
       "</div>"
      ],
      "text/plain": [
       "    age  shape  margin  density  severity\n",
       "0  67.0    3.0     5.0      3.0       1.0\n",
       "1  58.0    4.0     5.0      3.0       1.0\n",
       "2  28.0    1.0     1.0      3.0       0.0\n",
       "3  57.0    1.0     5.0      3.0       1.0\n",
       "4  76.0    1.0     4.0      3.0       1.0"
      ]
     },
     "execution_count": 37,
     "metadata": {},
     "output_type": "execute_result"
    }
   ],
   "source": [
    "data.head()"
   ]
  },
  {
   "cell_type": "markdown",
   "metadata": {},
   "source": [
    "Age, shape, margin, and density attributes are the features that we will build our model with, and \"severity\" is the classification we will attempt to predict based on those attributes. "
   ]
  },
  {
   "cell_type": "markdown",
   "metadata": {},
   "source": [
    "# 4. Modeling <a name=\"modeling\"></a>\n",
    "***\n",
    "Let's apply different supervised machine learning techniques to the data set, and see which one yields the highest accuracy as measured with K-Fold cross-validation (k=3) and hyperparameter tuning. Let's use only 3 folds since the dataset is small and the more folds the smaller each fold becomes. "
   ]
  },
  {
   "cell_type": "markdown",
   "metadata": {},
   "source": [
    "### Loading libraries <a name=\"libraries\"></a>\n",
    "***\n",
    "The project will cover the following techniques:\n",
    "\n",
    "* KNN\n",
    "* Logistic Regression\n",
    "* Naive Bayes\n",
    "* SVM\n",
    "* Random forest\n",
    "* A neural network using Keras.\n",
    "\n",
    "These are some of the libraries used for modeling."
   ]
  },
  {
   "cell_type": "code",
   "execution_count": 38,
   "metadata": {},
   "outputs": [
    {
     "name": "stderr",
     "output_type": "stream",
     "text": [
      "Using TensorFlow backend.\n"
     ]
    }
   ],
   "source": [
    "from sklearn.preprocessing import StandardScaler, MinMaxScaler\n",
    "\n",
    "from sklearn.model_selection import GridSearchCV, train_test_split, cross_val_score\n",
    "from sklearn.pipeline import Pipeline\n",
    "\n",
    "from sklearn.neighbors import KNeighborsClassifier\n",
    "from sklearn.linear_model import LogisticRegression\n",
    "from sklearn.naive_bayes import MultinomialNB\n",
    "from sklearn.svm import SVC\n",
    "from sklearn.tree import DecisionTreeClassifier\n",
    "from sklearn.ensemble import RandomForestClassifier\n",
    "\n",
    "from keras.utils import to_categorical\n",
    "from keras.models import Sequential\n",
    "from keras.layers import Dense\n",
    "\n",
    "from sklearn.metrics import confusion_matrix, classification_report, f1_score"
   ]
  },
  {
   "cell_type": "markdown",
   "metadata": {},
   "source": [
    "### Save  Data <a name=\"save\"></a>\n",
    "***\n",
    "Now that the dataset is ready let's save it for further reference."
   ]
  },
  {
   "cell_type": "code",
   "execution_count": 39,
   "metadata": {},
   "outputs": [],
   "source": [
    "if not os.path.isdir('cleaned_mammographic_data.csv'):\n",
    "    data.to_csv('cleaned_mammographic_data.csv')"
   ]
  },
  {
   "cell_type": "markdown",
   "metadata": {},
   "source": [
    "### Scale and Split Data <a name=\"scalesplit\"></a>\n",
    "***\n",
    "Now let's preprocess the data and scale it since some of the models require it. As well, the data will be split into 80% for training and 20% for testing. "
   ]
  },
  {
   "cell_type": "code",
   "execution_count": 40,
   "metadata": {},
   "outputs": [],
   "source": [
    "X = data.drop('severity',axis=1)\n",
    "y = data['severity']"
   ]
  },
  {
   "cell_type": "code",
   "execution_count": 41,
   "metadata": {},
   "outputs": [
    {
     "data": {
      "text/plain": [
       "array([[ 0.74714206,  0.16557907,  1.381805  ,  0.24002063],\n",
       "       [ 0.12874507,  0.97187716,  1.381805  ,  0.24002063],\n",
       "       [-1.93257826, -1.44701711, -1.17172504,  0.24002063],\n",
       "       ..., \n",
       "       [ 0.54100973,  0.97187716,  1.381805  ,  0.24002063],\n",
       "       [ 0.67843129,  0.97187716,  1.381805  ,  0.24002063],\n",
       "       [ 0.40358818,  0.16557907,  0.10503998,  0.24002063]])"
      ]
     },
     "execution_count": 41,
     "metadata": {},
     "output_type": "execute_result"
    }
   ],
   "source": [
    "scaler = StandardScaler()\n",
    "scaled_features = scaler.fit_transform(X)\n",
    "scaled_features"
   ]
  },
  {
   "cell_type": "code",
   "execution_count": 42,
   "metadata": {},
   "outputs": [],
   "source": [
    "X_train, X_test, y_train, y_test = train_test_split(scaled_features, y, test_size=0.20, random_state=102)"
   ]
  },
  {
   "cell_type": "markdown",
   "metadata": {},
   "source": [
    "### KNN <a name=\"knn\"></a>\n",
    "***\n",
    "K-Nearest Neighbor classifier is one of the simplest ways to classify data. Given some labeled data points, you are given a new unlabeled data point and the question is what label should it have. The way KNN classification works is that you look at the nearest neighbors of the new data point. Very likely the unlabeled data point should have a similar category(label) to the most data points closest to it. It is like a majority voting of the nearest neighbors of the unlabeled data point.\n",
    "\n",
    "There is a size of the neighborhood(k) that determines how far the neighbors can be and this value matters since different values can lead to different classification of the unlabeled data. To determine the value k, it is necessary to evaluate the performance of the classifier. As k increases, the decision boundary gets smoother which reduces the variance and increases the bias. "
   ]
  },
  {
   "cell_type": "markdown",
   "metadata": {},
   "source": [
    "The first step will be to find the optimal k that minimizes the error. So let's do cross validation to figure this out.\n",
    "\n"
   ]
  },
  {
   "cell_type": "code",
   "execution_count": 43,
   "metadata": {},
   "outputs": [],
   "source": [
    "# creating list of K for KNN\n",
    "myList = list(range(1,50))\n",
    "\n",
    "# empty list that will hold cv scores\n",
    "cv_scores = []\n",
    "\n",
    "# perform 3-fold cross validation\n",
    "for k in myList:\n",
    "    knn = KNeighborsClassifier(n_neighbors=k)\n",
    "    scores = cross_val_score(knn, X_train, y_train, cv=3, scoring='accuracy')\n",
    "    cv_scores.append(scores.mean())"
   ]
  },
  {
   "cell_type": "code",
   "execution_count": 44,
   "metadata": {},
   "outputs": [
    {
     "data": {
      "text/plain": [
       "Text(0,0.5,'Misclassification Error')"
      ]
     },
     "execution_count": 44,
     "metadata": {},
     "output_type": "execute_result"
    },
    {
     "data": {
      "image/png": "[encoded data removed]",
      "text/plain": [
       "<Figure size 1260x720 with 1 Axes>"
      ]
     },
     "metadata": {},
     "output_type": "display_data"
    }
   ],
   "source": [
    "# changing to misclassification error\n",
    "MSE = [1 - x for x in cv_scores]\n",
    "\n",
    "# plot misclassification error vs k\n",
    "plt.plot(myList, MSE)\n",
    "plt.xlabel('Number of Neighbors K')\n",
    "plt.ylabel('Misclassification Error')"
   ]
  },
  {
   "cell_type": "markdown",
   "metadata": {},
   "source": [
    "The graph shows that k=7 gives the lowest error with the least amount of neighbors. Now let's try fitting the model with different values of k and make sure 7 is the right value for k."
   ]
  },
  {
   "cell_type": "code",
   "execution_count": 45,
   "metadata": {},
   "outputs": [],
   "source": [
    "params = {'n_neighbors':list(range(1,15))}\n",
    "\n",
    "knn_cv = GridSearchCV(KNeighborsClassifier(),params,cv=3)"
   ]
  },
  {
   "cell_type": "code",
   "execution_count": 46,
   "metadata": {},
   "outputs": [
    {
     "name": "stdout",
     "output_type": "stream",
     "text": [
      "CPU times: user 266 ms, sys: 7.54 ms, total: 273 ms\n",
      "Wall time: 258 ms\n"
     ]
    },
    {
     "data": {
      "text/plain": [
       "GridSearchCV(cv=3, error_score='raise',\n",
       "       estimator=KNeighborsClassifier(algorithm='auto', leaf_size=30, metric='minkowski',\n",
       "           metric_params=None, n_jobs=1, n_neighbors=5, p=2,\n",
       "           weights='uniform'),\n",
       "       fit_params=None, iid=True, n_jobs=1,\n",
       "       param_grid={'n_neighbors': [1, 2, 3, 4, 5, 6, 7, 8, 9, 10, 11, 12, 13, 14]},\n",
       "       pre_dispatch='2*n_jobs', refit=True, return_train_score='warn',\n",
       "       scoring=None, verbose=0)"
      ]
     },
     "execution_count": 46,
     "metadata": {},
     "output_type": "execute_result"
    }
   ],
   "source": [
    "%time knn_cv.fit(X_train,y_train)"
   ]
  },
  {
   "cell_type": "code",
   "execution_count": 47,
   "metadata": {},
   "outputs": [
    {
     "name": "stdout",
     "output_type": "stream",
     "text": [
      "CPU times: user 2.95 ms, sys: 2.28 ms, total: 5.23 ms\n",
      "Wall time: 2.92 ms\n",
      "Best Parameters: {'n_neighbors': 7}\n",
      "Best score is 0.7990430622009569\n"
     ]
    }
   ],
   "source": [
    "%time y_pred = knn_cv.predict(X_test)\n",
    "\n",
    "print(\"Best Parameters: {}\".format(knn_cv.best_params_)) \n",
    "print(\"Best score is {}\".format(knn_cv.best_score_))"
   ]
  },
  {
   "cell_type": "markdown",
   "metadata": {},
   "source": [
    "As expected, the best k value is 7. The best score for KNN is **0.7990**."
   ]
  },
  {
   "cell_type": "code",
   "execution_count": 48,
   "metadata": {},
   "outputs": [],
   "source": [
    "def results(X_test,y_test,y_pred,model):\n",
    "    print(\"#####################\")\n",
    "    print(\"Test data\")\n",
    "    print(\"#####################\")\n",
    "    print(\"Model Accuracy: {:.2f}%\".format(100*model.score(X_test, y_test)))\n",
    "    print(\"#####################\")\n",
    "    print(\"F1 Score: \", f1_score(y_test, y_pred))\n",
    "    print(\"#####################\")\n",
    "    print(classification_report(y_test, y_pred))\n",
    "    print(\"#####################\")\n",
    "    conf_matrix = confusion_matrix(y_test, y_pred)\n",
    "    df_cm = pd.DataFrame(conf_matrix, range(2),range(2))\n",
    "    sns.set(font_scale=1.4) #for label size\n",
    "    sns.heatmap(df_cm, cmap='Blues',annot=True,annot_kws={\"size\": 36})"
   ]
  },
  {
   "cell_type": "code",
   "execution_count": 49,
   "metadata": {},
   "outputs": [
    {
     "name": "stdout",
     "output_type": "stream",
     "text": [
      "#####################\n",
      "Test data\n",
      "#####################\n",
      "Model Accuracy: 74.52%\n",
      "#####################\n",
      "F1 Score:  0.775280898876\n",
      "#####################\n",
      "             precision    recall  f1-score   support\n",
      "\n",
      "        0.0       0.79      0.64      0.71        75\n",
      "        1.0       0.72      0.84      0.78        82\n",
      "\n",
      "avg / total       0.75      0.75      0.74       157\n",
      "\n",
      "#####################\n"
     ]
    },
    {
     "data": {
      "image/png": "[encoded data removed]",
      "text/plain": [
       "<Figure size 1260x720 with 2 Axes>"
      ]
     },
     "metadata": {},
     "output_type": "display_data"
    }
   ],
   "source": [
    "results(X_test,y_test,y_pred,knn_cv)"
   ]
  },
  {
   "cell_type": "markdown",
   "metadata": {},
   "source": [
    "The classification report shows that 75 entries of the test data were *severity benign(0) * and 82 entries were *severity malignant(1)*. \n",
    "\n",
    "The diagonal elements of the confusion matrix show the correct classification of the test data. The off-diagonal elements provide the misclassifications. So the model classfied correctly 117 lesions and misclassified 40.\n",
    "\n",
    "As shown in the classification report, the recall which is TP/P for benign lesions equals 48/75 or 0.64. As for malignant lesions, the recall equals 69/82 or 0.84. This means malignant lesions are better indentified.\n",
    "\n",
    "With KNN 13 patients were diagnosed with benign lesion and in fact the lesion was malignant. Also, 27 patients were diagnosed malignant but it was benign. "
   ]
  },
  {
   "cell_type": "markdown",
   "metadata": {},
   "source": [
    "### Logistic Regression <a name= \"logistic\"></a>\n",
    "***\n",
    "In logistic regression, the goal is to predict a probability between 0 and 1. In this case, the model will predict the probability of the lesion being malignant. So as the probability increases, the lesion will be more likely to be malignant. The Sigmoid function helps the model to have values only between 0 and 1. So let's set a cutoff point at 0.5, and anything below it results in class 0(benign), anything above is class 1(malignant). \n",
    "\n",
    "To get better results using logitic regression, let's tune the parameter *C* which is the inverse of the regularization strength. Regularization is a way to select a preferred level of model complexity so that the model is better at predicting. For example, if the model is too complex, it may overfit, and if its too simple, it may underfit. So the predictions of the model are poor. So in this case, if C is higher, there is an increase in the regularization strength which will make the model to underfit. If C is low, the model will have a greater complexity and it will overfit the data.\n",
    "\n",
    "$$ C = \\frac{1}{\\lambda} $$\n",
    "\n",
    "Where:\n",
    "\n",
    "- C: is the inverse regularization\n",
    "- $\\lambda$: regularization"
   ]
  },
  {
   "cell_type": "code",
   "execution_count": 50,
   "metadata": {},
   "outputs": [
    {
     "name": "stdout",
     "output_type": "stream",
     "text": [
      "CPU times: user 84.4 ms, sys: 7.35 ms, total: 91.7 ms\n",
      "Wall time: 73.8 ms\n"
     ]
    },
    {
     "data": {
      "text/plain": [
       "GridSearchCV(cv=3, error_score='raise',\n",
       "       estimator=LogisticRegression(C=1.0, class_weight=None, dual=False, fit_intercept=True,\n",
       "          intercept_scaling=1, max_iter=100, multi_class='ovr', n_jobs=1,\n",
       "          penalty='l2', random_state=None, solver='liblinear', tol=0.0001,\n",
       "          verbose=0, warm_start=False),\n",
       "       fit_params=None, iid=True, n_jobs=1,\n",
       "       param_grid={'C': [0.0001, 0.001, 0.01, 0.1, 1, 10, 100]},\n",
       "       pre_dispatch='2*n_jobs', refit=True, return_train_score='warn',\n",
       "       scoring='accuracy', verbose=0)"
      ]
     },
     "execution_count": 50,
     "metadata": {},
     "output_type": "execute_result"
    }
   ],
   "source": [
    "param = {'C': [0.0001,0.001,0.01,0.1,1,10,100]}\n",
    "\n",
    "log_cv = GridSearchCV(LogisticRegression(),param,cv=3,scoring='accuracy')\n",
    "%time log_cv.fit(X_train,y_train)"
   ]
  },
  {
   "cell_type": "code",
   "execution_count": 51,
   "metadata": {},
   "outputs": [
    {
     "name": "stdout",
     "output_type": "stream",
     "text": [
      "CPU times: user 430 µs, sys: 242 µs, total: 672 µs\n",
      "Wall time: 444 µs\n",
      "Best Parameters: {'C': 0.0001}\n",
      "Best score is 0.8165869218500797\n"
     ]
    }
   ],
   "source": [
    "%time y_pred = log_cv.predict(X_test)\n",
    "\n",
    "print(\"Best Parameters: {}\".format(log_cv.best_params_)) \n",
    "print(\"Best score is {}\".format(log_cv.best_score_))"
   ]
  },
  {
   "cell_type": "code",
   "execution_count": 52,
   "metadata": {},
   "outputs": [
    {
     "name": "stdout",
     "output_type": "stream",
     "text": [
      "#####################\n",
      "Test data\n",
      "#####################\n",
      "Model Accuracy: 77.71%\n",
      "#####################\n",
      "F1 Score:  0.8\n",
      "#####################\n",
      "             precision    recall  f1-score   support\n",
      "\n",
      "        0.0       0.81      0.69      0.75        75\n",
      "        1.0       0.75      0.85      0.80        82\n",
      "\n",
      "avg / total       0.78      0.78      0.78       157\n",
      "\n",
      "#####################\n"
     ]
    },
    {
     "data": {
      "image/png": "[encoded data removed]",
      "text/plain": [
       "<Figure size 1260x720 with 2 Axes>"
      ]
     },
     "metadata": {},
     "output_type": "display_data"
    }
   ],
   "source": [
    "results(X_test,y_test,y_pred,log_cv)"
   ]
  },
  {
   "cell_type": "markdown",
   "metadata": {},
   "source": [
    "The model accuracy(recall) increased to **77.71%**. \n",
    "\n",
    "With Logistic Regression 12 patients were diagnosed with benign lesion and the lesion was malignant, and 23 patients were diagnosed malignant but it was benign."
   ]
  },
  {
   "cell_type": "markdown",
   "metadata": {},
   "source": [
    "### Naive Bayes <a name=\"bayes\"></a>\n",
    "***\n",
    "\n",
    "The Bayes' theorem is basically conditional probability. The Naive Bayes classifier assumes that the presence of a particular feature in a class is unrelated to the presence of any other feature. Even if the features in a class depend on each other or upon the existence of the other features, all of these properties independently contribute to the probability that the lesion is malignant(in this case) and that is why it is known as ‘Naive’.\n",
    "\n",
    "$$ P(A|B) = \\frac{P(A)P(B|A)}{P(B)}$$\n",
    "\n",
    "Where:\n",
    "\n",
    "- P(A|B) is the posterior probability of class (c, target) given predictor (x, attributes).\n",
    "- P(A) is the prior probability of class.\n",
    "- P(B|A) is the likelihood which is the probability of predictor given class.\n",
    "- P(B) is the prior probability of predictor.\n",
    "\n",
    "The model is useful for very large data sets and in this case the data is small so let's check how it performs. Let's use the Multinomial classifier for multi class prediction. \n",
    "\n",
    "The smoothing priors $\\alpha$ $\\ge$ 0 accounts for features not present in the learning samples and prevents zero probabilities in further computations. Setting $\\alpha$ = 1 is called Laplace smoothing, while $\\alpha$ < 1 is called Lidstone smoothing.\n",
    "\n",
    "The features do not need to normalized in this case, but do need to be greater than 0 so let's preprocess the data differently and split it again. "
   ]
  },
  {
   "cell_type": "code",
   "execution_count": 53,
   "metadata": {},
   "outputs": [],
   "source": [
    "scaler = MinMaxScaler()\n",
    "scaled_features = scaler.fit_transform(X)\n",
    "scaled_features\n",
    "\n",
    "X_train_scaled, X_test_scaled, y_train_scaled, y_test_scaled = train_test_split(scaled_features, y, test_size=0.20, random_state=102)"
   ]
  },
  {
   "cell_type": "code",
   "execution_count": 54,
   "metadata": {},
   "outputs": [
    {
     "name": "stdout",
     "output_type": "stream",
     "text": [
      "CPU times: user 37.9 ms, sys: 3.46 ms, total: 41.3 ms\n",
      "Wall time: 38.3 ms\n"
     ]
    },
    {
     "data": {
      "text/plain": [
       "GridSearchCV(cv=3, error_score='raise',\n",
       "       estimator=MultinomialNB(alpha=1.0, class_prior=None, fit_prior=True),\n",
       "       fit_params=None, iid=True, n_jobs=1,\n",
       "       param_grid={'alpha': [0.001, 0.01, 0.1, 1.0]},\n",
       "       pre_dispatch='2*n_jobs', refit=True, return_train_score='warn',\n",
       "       scoring='accuracy', verbose=0)"
      ]
     },
     "execution_count": 54,
     "metadata": {},
     "output_type": "execute_result"
    }
   ],
   "source": [
    "param = {'alpha':[0.001,0.01,0.1,1.0]}\n",
    "\n",
    "nb_cv = GridSearchCV(MultinomialNB(),param,cv=3,scoring='accuracy')\n",
    "%time nb_cv.fit(X_train_scaled,y_train_scaled)"
   ]
  },
  {
   "cell_type": "code",
   "execution_count": 55,
   "metadata": {},
   "outputs": [
    {
     "name": "stdout",
     "output_type": "stream",
     "text": [
      "CPU times: user 430 µs, sys: 249 µs, total: 679 µs\n",
      "Wall time: 455 µs\n",
      "Best Parameters: {'C': 0.0001}\n",
      "Best score is 0.8165869218500797\n"
     ]
    }
   ],
   "source": [
    "%time y_pred_scaled = nb_cv.predict(X_test_scaled)\n",
    "\n",
    "print(\"Best Parameters: {}\".format(log_cv.best_params_)) \n",
    "print(\"Best score is {}\".format(log_cv.best_score_))"
   ]
  },
  {
   "cell_type": "code",
   "execution_count": 56,
   "metadata": {},
   "outputs": [
    {
     "name": "stdout",
     "output_type": "stream",
     "text": [
      "#####################\n",
      "Test data\n",
      "#####################\n",
      "Model Accuracy: 75.80%\n",
      "#####################\n",
      "F1 Score:  0.786516853933\n",
      "#####################\n",
      "             precision    recall  f1-score   support\n",
      "\n",
      "        0.0       0.80      0.65      0.72        75\n",
      "        1.0       0.73      0.85      0.79        82\n",
      "\n",
      "avg / total       0.76      0.76      0.76       157\n",
      "\n",
      "#####################\n"
     ]
    },
    {
     "data": {
      "image/png": "[encoded data removed]",
      "text/plain": [
       "<Figure size 1260x720 with 2 Axes>"
      ]
     },
     "metadata": {},
     "output_type": "display_data"
    }
   ],
   "source": [
    "results(X_test_scaled,y_test_scaled,y_pred_scaled,nb_cv)"
   ]
  },
  {
   "cell_type": "markdown",
   "metadata": {},
   "source": [
    "The model accuracy(recall) slightly decreased to 75.80%.\n",
    "With Naive Bayes 12 patients were diagnosed with benign lesion and the lesion was malignant, and 26 patients were diagnosed malignant but it was benign."
   ]
  },
  {
   "cell_type": "markdown",
   "metadata": {},
   "source": [
    "### Support Vector Machine <a name=\"svm\"></a>\n",
    "***\n",
    "An SVM model is a representation of the data as points in space, mapped so that the examples of the separate categories are divided by a clear gap that is as wide as possible. SVM works well with higher-dimensional data(lots of features). The classifier finds higher-dimensional support vectors accross which to divide the data into groups.\n",
    "\n",
    "Hyperplanes help to separate the groups in the data. To choose the best hyperplane, it needs to maximize the margin between the classes. The vector point that the margin line touch are called *support vectors*. So one outlier can completely change the hyperplane. Use something called the kernel trick to represent data in higher-dimensional spaces to find hyperplanes that might not be apparent in lower dimensions.\n",
    "\n",
    "C and gamma are the parameters that can be tuned. The larger gamma is the more variability the model has in the decision boundary. The larger C means less slack(penalizing slack), the decision boundary is less linear. If the model allows less slack, the SVM is really trying to fit the data. If gamma increases, the movel gives more degrees of freedom to actually do so. Just an [example](https://cs.stanford.edu/people/karpathy/svmjs/demo/) of how changing values of C and gamma afect the model."
   ]
  },
  {
   "cell_type": "code",
   "execution_count": 57,
   "metadata": {},
   "outputs": [
    {
     "name": "stdout",
     "output_type": "stream",
     "text": [
      "CPU times: user 3.33 s, sys: 62.5 ms, total: 3.39 s\n",
      "Wall time: 3.45 s\n"
     ]
    },
    {
     "data": {
      "text/plain": [
       "GridSearchCV(cv=3, error_score='raise',\n",
       "       estimator=SVC(C=1.0, cache_size=200, class_weight=None, coef0=0.0,\n",
       "  decision_function_shape='ovr', degree=3, gamma='auto', kernel='rbf',\n",
       "  max_iter=-1, probability=False, random_state=None, shrinking=True,\n",
       "  tol=0.001, verbose=False),\n",
       "       fit_params=None, iid=True, n_jobs=1,\n",
       "       param_grid=[{'C': [0.01, 0.1, 1, 10, 100, 1000], 'kernel': ['linear']}, {'C': [0.01, 0.1, 1, 10, 100, 1000], 'gamma': [0.1, 0.01, 0.001, 0.0001], 'kernel': ['rbf']}],\n",
       "       pre_dispatch='2*n_jobs', refit=True, return_train_score='warn',\n",
       "       scoring='accuracy', verbose=0)"
      ]
     },
     "execution_count": 57,
     "metadata": {},
     "output_type": "execute_result"
    }
   ],
   "source": [
    "params = [\n",
    "  {'C': [0.01,0.1,1, 10, 100, 1000], 'kernel': ['linear']},\n",
    "  {'C': [0.01,0.1,1, 10, 100, 1000], 'gamma': [0.1,0.01,0.001, 0.0001], 'kernel': ['rbf']}\n",
    " ]\n",
    "\n",
    "svm_cv = GridSearchCV(SVC(),params,cv=3,scoring='accuracy')\n",
    "%time svm_cv.fit(X_train,y_train)"
   ]
  },
  {
   "cell_type": "code",
   "execution_count": 58,
   "metadata": {},
   "outputs": [
    {
     "name": "stdout",
     "output_type": "stream",
     "text": [
      "CPU times: user 3.32 ms, sys: 1.54 ms, total: 4.85 ms\n",
      "Wall time: 2.82 ms\n",
      "Best Parameters: {'C': 1, 'gamma': 0.001, 'kernel': 'rbf'}\n",
      "Best score is 0.8118022328548644\n"
     ]
    }
   ],
   "source": [
    "%time y_pred = svm_cv.predict(X_test)\n",
    "\n",
    "print(\"Best Parameters: {}\".format(svm_cv.best_params_)) \n",
    "print(\"Best score is {}\".format(svm_cv.best_score_))"
   ]
  },
  {
   "cell_type": "code",
   "execution_count": 59,
   "metadata": {},
   "outputs": [
    {
     "name": "stdout",
     "output_type": "stream",
     "text": [
      "#####################\n",
      "Test data\n",
      "#####################\n",
      "Model Accuracy: 77.71%\n",
      "#####################\n",
      "F1 Score:  0.804469273743\n",
      "#####################\n",
      "             precision    recall  f1-score   support\n",
      "\n",
      "        0.0       0.83      0.67      0.74        75\n",
      "        1.0       0.74      0.88      0.80        82\n",
      "\n",
      "avg / total       0.79      0.78      0.77       157\n",
      "\n",
      "#####################\n"
     ]
    },
    {
     "data": {
      "image/png": "[encoded data removed]",
      "text/plain": [
       "<Figure size 1260x720 with 2 Axes>"
      ]
     },
     "metadata": {},
     "output_type": "display_data"
    }
   ],
   "source": [
    "results(X_test,y_test,y_pred,svm_cv)"
   ]
  },
  {
   "cell_type": "markdown",
   "metadata": {},
   "source": [
    "The model accuracy(recall) is similar logistic regression at 77.71%. With SVMs 10 patients were diagnosed with benign lesion and the lesion was malignant, and 25 patients were diagnosed malignant but it was benign. This means FN(False negatives) decreased and less patients will be actually sick and not be sent for more tests. "
   ]
  },
  {
   "cell_type": "markdown",
   "metadata": {},
   "source": [
    "### Random Forest <a name=\"forest\"> </a>\n",
    "***\n",
    "Random Forest generates bootstrap training samples (sample with replacement from the data set), and for each one it creates a tree. However, it doesn't just randomize the training samples, it also randomizes a set of predictors allowed to use each time a split is considered which is called bagging. It is harder to interpret but the predictive accuracy tends to be a lot better than compared to doing it just for one tree and superior to other methods as well.\n",
    "\n",
    "- max_features: the number of features to consider when looking for the best split. Usually the default works so for simplicity let's use only 'auto'.\n",
    "- n_estimators: The number of trees in the forest. Let's use lower number of trees due to the large amount of data."
   ]
  },
  {
   "cell_type": "code",
   "execution_count": 60,
   "metadata": {},
   "outputs": [
    {
     "name": "stdout",
     "output_type": "stream",
     "text": [
      "CPU times: user 1.03 s, sys: 27.7 ms, total: 1.06 s\n",
      "Wall time: 1.11 s\n"
     ]
    },
    {
     "data": {
      "text/plain": [
       "GridSearchCV(cv=3, error_score='raise',\n",
       "       estimator=RandomForestClassifier(bootstrap=True, class_weight=None, criterion='gini',\n",
       "            max_depth=None, max_features='auto', max_leaf_nodes=None,\n",
       "            min_impurity_decrease=0.0, min_impurity_split=None,\n",
       "            min_samples_leaf=1, min_samples_split=2,\n",
       "            min_weight_fraction_leaf=0.0, n_estimators=10, n_jobs=1,\n",
       "            oob_score=False, random_state=None, verbose=0,\n",
       "            warm_start=False),\n",
       "       fit_params=None, iid=True, n_jobs=1,\n",
       "       param_grid={'max_features': ['auto', 'log2', 'sqrt'], 'n_estimators': [5, 10, 15, 20]},\n",
       "       pre_dispatch='2*n_jobs', refit=True, return_train_score='warn',\n",
       "       scoring='accuracy', verbose=0)"
      ]
     },
     "execution_count": 60,
     "metadata": {},
     "output_type": "execute_result"
    }
   ],
   "source": [
    "params = {'max_features': ['auto','log2','sqrt'],\n",
    "          'n_estimators': [5, 10, 15, 20]}\n",
    "\n",
    "forest_cv = GridSearchCV(RandomForestClassifier(),params,cv=3,\n",
    "                         scoring='accuracy')\n",
    "%time forest_cv.fit(X_train,y_train)"
   ]
  },
  {
   "cell_type": "code",
   "execution_count": 61,
   "metadata": {},
   "outputs": [
    {
     "name": "stdout",
     "output_type": "stream",
     "text": [
      "CPU times: user 3.46 ms, sys: 1.4 ms, total: 4.86 ms\n",
      "Wall time: 3.98 ms\n",
      "Best Parameters: {'max_features': 'log2', 'n_estimators': 15}\n",
      "Best score is 0.7623604465709729\n"
     ]
    }
   ],
   "source": [
    "%time y_pred = forest_cv.predict(X_test)\n",
    "\n",
    "print(\"Best Parameters: {}\".format(forest_cv.best_params_)) \n",
    "print(\"Best score is {}\".format(forest_cv.best_score_))"
   ]
  },
  {
   "cell_type": "code",
   "execution_count": 62,
   "metadata": {},
   "outputs": [
    {
     "name": "stdout",
     "output_type": "stream",
     "text": [
      "#####################\n",
      "Test data\n",
      "#####################\n",
      "Model Accuracy: 71.34%\n",
      "#####################\n",
      "F1 Score:  0.727272727273\n",
      "#####################\n",
      "             precision    recall  f1-score   support\n",
      "\n",
      "        0.0       0.70      0.69      0.70        75\n",
      "        1.0       0.72      0.73      0.73        82\n",
      "\n",
      "avg / total       0.71      0.71      0.71       157\n",
      "\n",
      "#####################\n"
     ]
    },
    {
     "data": {
      "image/png": "[encoded data removed]",
      "text/plain": [
       "<Figure size 1260x720 with 2 Axes>"
      ]
     },
     "metadata": {},
     "output_type": "display_data"
    }
   ],
   "source": [
    "results(X_test,y_test,y_pred,forest_cv)"
   ]
  },
  {
   "cell_type": "markdown",
   "metadata": {},
   "source": [
    "The model accuracy(recall) is the lowest so far at 70.06%. With Random Forests 25 patients were diagnosed with benign lesion and the lesion was malignant, and 22 patients were diagnosed malignant but it was benign. "
   ]
  },
  {
   "cell_type": "markdown",
   "metadata": {},
   "source": [
    "### Neural Networks <a name=\"nn\"></a>\n",
    "***\n",
    "Neural Networks are a powerful modeling approach that accounts for interactions and how they affect the output. All layers that are not the input or output layers are called hidden layers. They are called hidden layers because, while the inputs and outpus correspond to visible things that happened in the world, and they can be stored as data, the values in the hidden layer aren't something we have data about, or anything we observe direclty from the world. Nevertheless, each dot, called a node, in the hidden layer, represents an aggregation of information from our input data, and each node adds to the model's ability to capture interactions. So the more nodes we have, the more interactions we can capture.\n",
    "\n",
    "Using forward propagation algorithm, neural network models use data to make predictions. The forward-propagation algorithm will pass this information through the network to make a prediction in the output layer. There is a weight indicating how strongly that input effects the hidden node. These are the first set of weights. These weight are the parameters we train or change when we fit a neural network to data. Forward propagation is multiplying the node values times the weights and doing this process for all nodes and weights until you get the output value.\n",
    "\n",
    "An activation function is something applied to the value coming into a node, wich then transforms it into the value stored in that node, or the node output. A common activation function is ReLU or rectified linear activation function which will be used in this project. This function takes a single number as an input, returning 0 if the input is negative, and the input if the input is positive.\n",
    "\n",
    "We use something called a loss function to aggregate all of the errors into a single measure of the model's predictive performance. A common loss function for regression tasks is mean-squared error. You square each error and take the average of that as a measure of model quality. The loss function aggregates all of the errors into a single score. Lower values mean a better model, so our goal is to find the weights giving the lowest value for the loss function. We do this with an algorithm called gradient descent.\n",
    "\n",
    "For gradient descent picture a curve showing the loss function on the vertical axis, at different values of the weight, which is on the horizontal axis. We are looking for the low point on this curve, because that means our model is as accurate as possible. If we repeatedly take small steps opposite of the slope, recalculating the slope each time, we will eventually get to the minimum value. Instead of directly substracting the slope, we multiply the slope by a small number, called the learning rate, and we chaneg the weight by the product of that multiplication. Learning rate are frequently around 0.01. This ensures we take small steps, so we reliably move towards the optimal weights.\n",
    "\n",
    "Back Propagation calculates the slope you need to optimize more complex deep learning models. Just as forward propagation sends input data through the hidden layers and into the output layers, back propagation takes the error from the output layer and propagates it backward through the hidden layers, towards the input layer. It calculates the necessary slopes sequentially from the weights closest to the prediction, through the hidden layers, eventually back to the weights coming from the inputs. We then use these slopes to update our weights.\n",
    "\n",
    "So now let's build a model with 1 input layer, 1 hidden layer with 4 nodes and an output  layer. Let's use ReLU as the activation function and for the loss function let's use binary_crossentropy. The optimizers we will test are *adam* and *rmsprop*. The number of epochs to test will be 10, 20 and 30."
   ]
  },
  {
   "cell_type": "code",
   "execution_count": 63,
   "metadata": {},
   "outputs": [],
   "source": [
    "y_train_matrix = to_categorical(y_train)\n",
    "y_test_matrix = to_categorical(y_test)"
   ]
  },
  {
   "cell_type": "code",
   "execution_count": 64,
   "metadata": {},
   "outputs": [],
   "source": [
    "n_cols = X_train.shape[1]\n",
    "input_shape=(n_cols,)"
   ]
  },
  {
   "cell_type": "code",
   "execution_count": 65,
   "metadata": {},
   "outputs": [],
   "source": [
    "def build_model(optimizer):\n",
    "    model = Sequential()\n",
    "    model.add(Dense(4,activation='relu',input_shape = input_shape))\n",
    "    model.add(Dense(2, activation='softmax'))\n",
    "    model.compile(loss='binary_crossentropy',\n",
    "             optimizer=optimizer,\n",
    "             metrics=['accuracy'])\n",
    "    return model"
   ]
  },
  {
   "cell_type": "code",
   "execution_count": 66,
   "metadata": {},
   "outputs": [],
   "source": [
    "from keras.wrappers.scikit_learn import KerasClassifier"
   ]
  },
  {
   "cell_type": "code",
   "execution_count": 67,
   "metadata": {},
   "outputs": [],
   "source": [
    "estimator = KerasClassifier(build_model)"
   ]
  },
  {
   "cell_type": "code",
   "execution_count": 68,
   "metadata": {},
   "outputs": [],
   "source": [
    "params = {'epochs': [10,20,30],\n",
    "          'optimizer': ['adam', 'rmsprop']}\n",
    "\n",
    "keras_cv = GridSearchCV(estimator,params,cv=3)"
   ]
  },
  {
   "cell_type": "code",
   "execution_count": 69,
   "metadata": {
    "collapsed": true
   },
   "outputs": [
    {
     "name": "stdout",
     "output_type": "stream",
     "text": [
      "Epoch 1/10\n",
      "418/418 [==============================] - 0s 621us/step - loss: 1.0331 - acc: 0.2440\n",
      "Epoch 2/10\n",
      "418/418 [==============================] - 0s 114us/step - loss: 0.9692 - acc: 0.2464\n",
      "Epoch 3/10\n",
      "418/418 [==============================] - 0s 122us/step - loss: 0.9096 - acc: 0.2464\n",
      "Epoch 4/10\n",
      "418/418 [==============================] - 0s 118us/step - loss: 0.8585 - acc: 0.2488\n",
      "Epoch 5/10\n",
      "418/418 [==============================] - 0s 107us/step - loss: 0.8167 - acc: 0.2440\n",
      "Epoch 6/10\n",
      "418/418 [==============================] - 0s 129us/step - loss: 0.7818 - acc: 0.3828\n",
      "Epoch 7/10\n",
      "418/418 [==============================] - 0s 124us/step - loss: 0.7520 - acc: 0.4043\n",
      "Epoch 8/10\n",
      "418/418 [==============================] - 0s 119us/step - loss: 0.7263 - acc: 0.5144\n",
      "Epoch 9/10\n",
      "418/418 [==============================] - 0s 114us/step - loss: 0.7033 - acc: 0.5191\n",
      "Epoch 10/10\n",
      "418/418 [==============================] - 0s 117us/step - loss: 0.6834 - acc: 0.5191\n",
      "209/209 [==============================] - 0s 161us/step\n",
      "418/418 [==============================] - 0s 45us/step\n",
      "Epoch 1/10\n",
      "418/418 [==============================] - 0s 531us/step - loss: 0.8554 - acc: 0.5514\n",
      "Epoch 2/10\n",
      "418/418 [==============================] - 0s 119us/step - loss: 0.8247 - acc: 0.5789\n",
      "Epoch 3/10\n",
      "418/418 [==============================] - 0s 131us/step - loss: 0.8010 - acc: 0.5885\n",
      "Epoch 4/10\n",
      "418/418 [==============================] - 0s 124us/step - loss: 0.7782 - acc: 0.6148\n",
      "Epoch 5/10\n",
      "418/418 [==============================] - 0s 134us/step - loss: 0.7574 - acc: 0.6196\n",
      "Epoch 6/10\n",
      "418/418 [==============================] - 0s 121us/step - loss: 0.7375 - acc: 0.6388\n",
      "Epoch 7/10\n",
      "418/418 [==============================] - 0s 113us/step - loss: 0.7202 - acc: 0.6555\n",
      "Epoch 8/10\n",
      "418/418 [==============================] - 0s 115us/step - loss: 0.7044 - acc: 0.6651\n",
      "Epoch 9/10\n",
      "418/418 [==============================] - 0s 112us/step - loss: 0.6904 - acc: 0.6722\n",
      "Epoch 10/10\n",
      "418/418 [==============================] - 0s 123us/step - loss: 0.6753 - acc: 0.6794\n",
      "209/209 [==============================] - 0s 229us/step\n",
      "418/418 [==============================] - 0s 45us/step\n",
      "Epoch 1/10\n",
      "418/418 [==============================] - 0s 524us/step - loss: 1.5333 - acc: 0.2213\n",
      "Epoch 2/10\n",
      "418/418 [==============================] - 0s 111us/step - loss: 1.4593 - acc: 0.2201\n",
      "Epoch 3/10\n",
      "418/418 [==============================] - 0s 112us/step - loss: 1.3886 - acc: 0.2201\n",
      "Epoch 4/10\n",
      "418/418 [==============================] - 0s 97us/step - loss: 1.3241 - acc: 0.2201\n",
      "Epoch 5/10\n",
      "418/418 [==============================] - 0s 95us/step - loss: 1.2593 - acc: 0.2177\n",
      "Epoch 6/10\n",
      "418/418 [==============================] - 0s 91us/step - loss: 1.2007 - acc: 0.2129\n",
      "Epoch 7/10\n",
      "418/418 [==============================] - 0s 109us/step - loss: 1.1486 - acc: 0.2105\n",
      "Epoch 8/10\n",
      "418/418 [==============================] - 0s 102us/step - loss: 1.0991 - acc: 0.2129\n",
      "Epoch 9/10\n",
      "418/418 [==============================] - 0s 93us/step - loss: 1.0526 - acc: 0.2129\n",
      "Epoch 10/10\n",
      "418/418 [==============================] - 0s 108us/step - loss: 1.0119 - acc: 0.2297\n",
      "209/209 [==============================] - 0s 216us/step\n",
      "418/418 [==============================] - 0s 45us/step\n",
      "Epoch 1/10\n",
      "418/418 [==============================] - 0s 528us/step - loss: 0.8923 - acc: 0.4593\n",
      "Epoch 2/10\n",
      "418/418 [==============================] - 0s 106us/step - loss: 0.8523 - acc: 0.4665\n",
      "Epoch 3/10\n",
      "418/418 [==============================] - 0s 101us/step - loss: 0.8242 - acc: 0.4569\n",
      "Epoch 4/10\n",
      "418/418 [==============================] - 0s 100us/step - loss: 0.7989 - acc: 0.4569\n",
      "Epoch 5/10\n",
      "418/418 [==============================] - 0s 107us/step - loss: 0.7756 - acc: 0.4522\n",
      "Epoch 6/10\n",
      "418/418 [==============================] - 0s 115us/step - loss: 0.7537 - acc: 0.4522\n",
      "Epoch 7/10\n",
      "418/418 [==============================] - 0s 108us/step - loss: 0.7357 - acc: 0.4498\n",
      "Epoch 8/10\n",
      "418/418 [==============================] - 0s 94us/step - loss: 0.7176 - acc: 0.4522\n",
      "Epoch 9/10\n",
      "418/418 [==============================] - 0s 100us/step - loss: 0.7012 - acc: 0.4593\n",
      "Epoch 10/10\n",
      "418/418 [==============================] - 0s 102us/step - loss: 0.6850 - acc: 0.4809\n",
      "209/209 [==============================] - 0s 349us/step\n",
      "418/418 [==============================] - 0s 48us/step\n",
      "Epoch 1/10\n",
      "418/418 [==============================] - 0s 614us/step - loss: 0.7189 - acc: 0.6902\n",
      "Epoch 2/10\n",
      "418/418 [==============================] - 0s 110us/step - loss: 0.6995 - acc: 0.7225\n",
      "Epoch 3/10\n",
      "418/418 [==============================] - 0s 101us/step - loss: 0.6842 - acc: 0.7249\n",
      "Epoch 4/10\n",
      "418/418 [==============================] - 0s 72us/step - loss: 0.6722 - acc: 0.7249\n",
      "Epoch 5/10\n",
      "418/418 [==============================] - 0s 77us/step - loss: 0.6594 - acc: 0.7344\n",
      "Epoch 6/10\n",
      "418/418 [==============================] - 0s 100us/step - loss: 0.6491 - acc: 0.7321\n",
      "Epoch 7/10\n",
      "418/418 [==============================] - 0s 92us/step - loss: 0.6396 - acc: 0.7488\n",
      "Epoch 8/10\n",
      "418/418 [==============================] - 0s 90us/step - loss: 0.6291 - acc: 0.7416\n",
      "Epoch 9/10\n",
      "418/418 [==============================] - 0s 92us/step - loss: 0.6186 - acc: 0.7464\n",
      "Epoch 10/10\n",
      "418/418 [==============================] - 0s 83us/step - loss: 0.6100 - acc: 0.7488\n",
      "209/209 [==============================] - 0s 352us/step\n",
      "418/418 [==============================] - 0s 39us/step\n",
      "Epoch 1/10\n",
      "418/418 [==============================] - 0s 521us/step - loss: 1.2875 - acc: 0.4450\n",
      "Epoch 2/10\n",
      "418/418 [==============================] - 0s 97us/step - loss: 1.1807 - acc: 0.4498\n",
      "Epoch 3/10\n",
      "418/418 [==============================] - 0s 101us/step - loss: 1.1023 - acc: 0.4402\n",
      "Epoch 4/10\n",
      "418/418 [==============================] - 0s 117us/step - loss: 1.0247 - acc: 0.4450\n",
      "Epoch 5/10\n",
      "418/418 [==============================] - 0s 109us/step - loss: 0.9637 - acc: 0.4474\n",
      "Epoch 6/10\n",
      "418/418 [==============================] - 0s 112us/step - loss: 0.9027 - acc: 0.4880\n",
      "Epoch 7/10\n",
      "418/418 [==============================] - 0s 103us/step - loss: 0.8436 - acc: 0.5407\n",
      "Epoch 8/10\n",
      "418/418 [==============================] - 0s 109us/step - loss: 0.7910 - acc: 0.5861\n",
      "Epoch 9/10\n",
      "418/418 [==============================] - 0s 103us/step - loss: 0.7478 - acc: 0.6172\n",
      "Epoch 10/10\n",
      "418/418 [==============================] - 0s 110us/step - loss: 0.7071 - acc: 0.6292\n",
      "209/209 [==============================] - 0s 368us/step\n",
      "418/418 [==============================] - 0s 41us/step\n",
      "Epoch 1/20\n",
      "418/418 [==============================] - 0s 874us/step - loss: 0.7706 - acc: 0.3469\n",
      "Epoch 2/20\n",
      "418/418 [==============================] - 0s 121us/step - loss: 0.7485 - acc: 0.4211\n",
      "Epoch 3/20\n",
      "418/418 [==============================] - 0s 128us/step - loss: 0.7297 - acc: 0.4593\n",
      "Epoch 4/20\n",
      "418/418 [==============================] - 0s 106us/step - loss: 0.7144 - acc: 0.5024\n",
      "Epoch 5/20\n",
      "418/418 [==============================] - 0s 101us/step - loss: 0.6994 - acc: 0.5144\n",
      "Epoch 6/20\n",
      "418/418 [==============================] - 0s 119us/step - loss: 0.6858 - acc: 0.5239\n",
      "Epoch 7/20\n",
      "418/418 [==============================] - 0s 103us/step - loss: 0.6738 - acc: 0.5574\n",
      "Epoch 8/20\n",
      "418/418 [==============================] - 0s 102us/step - loss: 0.6626 - acc: 0.5861\n",
      "Epoch 9/20\n",
      "418/418 [==============================] - 0s 100us/step - loss: 0.6521 - acc: 0.6316\n",
      "Epoch 10/20\n",
      "418/418 [==============================] - 0s 101us/step - loss: 0.6425 - acc: 0.6579\n",
      "Epoch 11/20\n",
      "418/418 [==============================] - 0s 94us/step - loss: 0.6338 - acc: 0.6890\n",
      "Epoch 12/20\n",
      "418/418 [==============================] - 0s 92us/step - loss: 0.6256 - acc: 0.7105\n",
      "Epoch 13/20\n",
      "418/418 [==============================] - 0s 101us/step - loss: 0.6180 - acc: 0.7584\n",
      "Epoch 14/20\n",
      "418/418 [==============================] - 0s 101us/step - loss: 0.6107 - acc: 0.7751\n",
      "Epoch 15/20\n",
      "418/418 [==============================] - 0s 108us/step - loss: 0.6040 - acc: 0.7751\n",
      "Epoch 16/20\n",
      "418/418 [==============================] - 0s 90us/step - loss: 0.5988 - acc: 0.7751\n",
      "Epoch 17/20\n",
      "418/418 [==============================] - 0s 103us/step - loss: 0.5936 - acc: 0.7751\n",
      "Epoch 18/20\n"
     ]
    },
    {
     "name": "stdout",
     "output_type": "stream",
     "text": [
      "418/418 [==============================] - 0s 107us/step - loss: 0.5880 - acc: 0.7799\n",
      "Epoch 19/20\n",
      "418/418 [==============================] - 0s 108us/step - loss: 0.5823 - acc: 0.7823\n",
      "Epoch 20/20\n",
      "418/418 [==============================] - 0s 108us/step - loss: 0.5775 - acc: 0.7847\n",
      "209/209 [==============================] - 0s 450us/step\n",
      "418/418 [==============================] - 0s 42us/step\n",
      "Epoch 1/20\n",
      "418/418 [==============================] - 0s 732us/step - loss: 0.7098 - acc: 0.5861\n",
      "Epoch 2/20\n",
      "418/418 [==============================] - 0s 108us/step - loss: 0.6884 - acc: 0.6029\n",
      "Epoch 3/20\n",
      "418/418 [==============================] - 0s 114us/step - loss: 0.6683 - acc: 0.6244\n",
      "Epoch 4/20\n",
      "418/418 [==============================] - 0s 163us/step - loss: 0.6503 - acc: 0.6483\n",
      "Epoch 5/20\n",
      "418/418 [==============================] - 0s 140us/step - loss: 0.6340 - acc: 0.6675\n",
      "Epoch 6/20\n",
      "418/418 [==============================] - 0s 138us/step - loss: 0.6178 - acc: 0.6675\n",
      "Epoch 7/20\n",
      "418/418 [==============================] - 0s 120us/step - loss: 0.6036 - acc: 0.6770\n",
      "Epoch 8/20\n",
      "418/418 [==============================] - 0s 112us/step - loss: 0.5903 - acc: 0.6890\n",
      "Epoch 9/20\n",
      "418/418 [==============================] - 0s 125us/step - loss: 0.5782 - acc: 0.6914\n",
      "Epoch 10/20\n",
      "418/418 [==============================] - 0s 120us/step - loss: 0.5673 - acc: 0.7010\n",
      "Epoch 11/20\n",
      "418/418 [==============================] - 0s 101us/step - loss: 0.5569 - acc: 0.7177\n",
      "Epoch 12/20\n",
      "418/418 [==============================] - 0s 112us/step - loss: 0.5485 - acc: 0.7321\n",
      "Epoch 13/20\n",
      "418/418 [==============================] - 0s 106us/step - loss: 0.5406 - acc: 0.7536\n",
      "Epoch 14/20\n",
      "418/418 [==============================] - 0s 108us/step - loss: 0.5340 - acc: 0.7584\n",
      "Epoch 15/20\n",
      "418/418 [==============================] - 0s 107us/step - loss: 0.5279 - acc: 0.7679\n",
      "Epoch 16/20\n",
      "418/418 [==============================] - 0s 103us/step - loss: 0.5223 - acc: 0.7727\n",
      "Epoch 17/20\n",
      "418/418 [==============================] - 0s 104us/step - loss: 0.5174 - acc: 0.7727\n",
      "Epoch 18/20\n",
      "418/418 [==============================] - 0s 102us/step - loss: 0.5128 - acc: 0.7727\n",
      "Epoch 19/20\n",
      "418/418 [==============================] - 0s 108us/step - loss: 0.5089 - acc: 0.7727\n",
      "Epoch 20/20\n",
      "418/418 [==============================] - 0s 105us/step - loss: 0.5055 - acc: 0.7703\n",
      "209/209 [==============================] - 0s 506us/step\n",
      "418/418 [==============================] - 0s 45us/step\n",
      "Epoch 1/20\n",
      "418/418 [==============================] - 0s 799us/step - loss: 0.7409 - acc: 0.5239\n",
      "Epoch 2/20\n",
      "418/418 [==============================] - 0s 101us/step - loss: 0.7171 - acc: 0.5215\n",
      "Epoch 3/20\n",
      "418/418 [==============================] - 0s 107us/step - loss: 0.6970 - acc: 0.5239\n",
      "Epoch 4/20\n",
      "418/418 [==============================] - 0s 103us/step - loss: 0.6772 - acc: 0.5263\n",
      "Epoch 5/20\n",
      "418/418 [==============================] - 0s 104us/step - loss: 0.6582 - acc: 0.5287\n",
      "Epoch 6/20\n",
      "418/418 [==============================] - 0s 109us/step - loss: 0.6404 - acc: 0.5311\n",
      "Epoch 7/20\n",
      "418/418 [==============================] - 0s 109us/step - loss: 0.6230 - acc: 0.5359\n",
      "Epoch 8/20\n",
      "418/418 [==============================] - 0s 116us/step - loss: 0.6072 - acc: 0.5455\n",
      "Epoch 9/20\n",
      "418/418 [==============================] - 0s 110us/step - loss: 0.5901 - acc: 0.5598\n",
      "Epoch 10/20\n",
      "418/418 [==============================] - 0s 102us/step - loss: 0.5755 - acc: 0.5885\n",
      "Epoch 11/20\n",
      "418/418 [==============================] - 0s 106us/step - loss: 0.5613 - acc: 0.6388\n",
      "Epoch 12/20\n",
      "418/418 [==============================] - 0s 113us/step - loss: 0.5473 - acc: 0.6986\n",
      "Epoch 13/20\n",
      "418/418 [==============================] - 0s 96us/step - loss: 0.5350 - acc: 0.7392\n",
      "Epoch 14/20\n",
      "418/418 [==============================] - 0s 107us/step - loss: 0.5242 - acc: 0.7967\n",
      "Epoch 15/20\n",
      "418/418 [==============================] - 0s 107us/step - loss: 0.5142 - acc: 0.7943\n",
      "Epoch 16/20\n",
      "418/418 [==============================] - 0s 100us/step - loss: 0.5052 - acc: 0.7943\n",
      "Epoch 17/20\n",
      "418/418 [==============================] - 0s 100us/step - loss: 0.4971 - acc: 0.7871\n",
      "Epoch 18/20\n",
      "418/418 [==============================] - 0s 97us/step - loss: 0.4895 - acc: 0.7871\n",
      "Epoch 19/20\n",
      "418/418 [==============================] - 0s 105us/step - loss: 0.4830 - acc: 0.7871\n",
      "Epoch 20/20\n",
      "418/418 [==============================] - 0s 108us/step - loss: 0.4757 - acc: 0.7895\n",
      "209/209 [==============================] - 0s 524us/step\n",
      "418/418 [==============================] - 0s 41us/step\n",
      "Epoch 1/20\n",
      "418/418 [==============================] - 0s 738us/step - loss: 0.8956 - acc: 0.4665\n",
      "Epoch 2/20\n",
      "418/418 [==============================] - 0s 106us/step - loss: 0.8523 - acc: 0.4737\n",
      "Epoch 3/20\n",
      "418/418 [==============================] - 0s 113us/step - loss: 0.8205 - acc: 0.4856\n",
      "Epoch 4/20\n",
      "418/418 [==============================] - 0s 108us/step - loss: 0.7899 - acc: 0.4904\n",
      "Epoch 5/20\n",
      "418/418 [==============================] - 0s 104us/step - loss: 0.7641 - acc: 0.4856\n",
      "Epoch 6/20\n",
      "418/418 [==============================] - 0s 111us/step - loss: 0.7391 - acc: 0.4785\n",
      "Epoch 7/20\n",
      "418/418 [==============================] - 0s 98us/step - loss: 0.7147 - acc: 0.5048\n",
      "Epoch 8/20\n",
      "418/418 [==============================] - 0s 111us/step - loss: 0.6922 - acc: 0.5239\n",
      "Epoch 9/20\n",
      "418/418 [==============================] - 0s 106us/step - loss: 0.6725 - acc: 0.5622\n",
      "Epoch 10/20\n",
      "418/418 [==============================] - 0s 100us/step - loss: 0.6514 - acc: 0.5885\n",
      "Epoch 11/20\n",
      "418/418 [==============================] - 0s 95us/step - loss: 0.6325 - acc: 0.6148\n",
      "Epoch 12/20\n",
      "418/418 [==============================] - 0s 88us/step - loss: 0.6186 - acc: 0.6316\n",
      "Epoch 13/20\n",
      "418/418 [==============================] - 0s 115us/step - loss: 0.6027 - acc: 0.6531\n",
      "Epoch 14/20\n",
      "418/418 [==============================] - 0s 112us/step - loss: 0.5878 - acc: 0.6986\n",
      "Epoch 15/20\n",
      "418/418 [==============================] - 0s 114us/step - loss: 0.5741 - acc: 0.7081\n",
      "Epoch 16/20\n",
      "418/418 [==============================] - 0s 103us/step - loss: 0.5620 - acc: 0.7273\n",
      "Epoch 17/20\n",
      "418/418 [==============================] - 0s 104us/step - loss: 0.5510 - acc: 0.7344\n",
      "Epoch 18/20\n",
      "418/418 [==============================] - 0s 106us/step - loss: 0.5430 - acc: 0.7584\n",
      "Epoch 19/20\n",
      "418/418 [==============================] - 0s 88us/step - loss: 0.5362 - acc: 0.7679\n",
      "Epoch 20/20\n",
      "418/418 [==============================] - 0s 102us/step - loss: 0.5297 - acc: 0.7847\n",
      "209/209 [==============================] - 0s 666us/step\n",
      "418/418 [==============================] - 0s 39us/step\n",
      "Epoch 1/20\n",
      "418/418 [==============================] - 0s 846us/step - loss: 0.6515 - acc: 0.6830\n",
      "Epoch 2/20\n",
      "418/418 [==============================] - 0s 90us/step - loss: 0.6360 - acc: 0.7225\n",
      "Epoch 3/20\n",
      "418/418 [==============================] - 0s 98us/step - loss: 0.6235 - acc: 0.7416\n",
      "Epoch 4/20\n",
      "418/418 [==============================] - 0s 110us/step - loss: 0.6129 - acc: 0.7608\n",
      "Epoch 5/20\n",
      "418/418 [==============================] - 0s 120us/step - loss: 0.6020 - acc: 0.7679\n",
      "Epoch 6/20\n",
      "418/418 [==============================] - 0s 107us/step - loss: 0.5919 - acc: 0.7775\n",
      "Epoch 7/20\n",
      "418/418 [==============================] - 0s 121us/step - loss: 0.5806 - acc: 0.7799\n",
      "Epoch 8/20\n",
      "418/418 [==============================] - 0s 115us/step - loss: 0.5684 - acc: 0.7871\n",
      "Epoch 9/20\n",
      "418/418 [==============================] - 0s 114us/step - loss: 0.5572 - acc: 0.7895\n",
      "Epoch 10/20\n",
      "418/418 [==============================] - 0s 106us/step - loss: 0.5474 - acc: 0.7895\n",
      "Epoch 11/20\n",
      "418/418 [==============================] - 0s 97us/step - loss: 0.5369 - acc: 0.7871\n",
      "Epoch 12/20\n",
      "418/418 [==============================] - 0s 97us/step - loss: 0.5282 - acc: 0.7919\n",
      "Epoch 13/20\n",
      "418/418 [==============================] - 0s 87us/step - loss: 0.5196 - acc: 0.7895\n",
      "Epoch 14/20\n",
      "418/418 [==============================] - 0s 91us/step - loss: 0.5110 - acc: 0.7943\n",
      "Epoch 15/20\n",
      "418/418 [==============================] - 0s 92us/step - loss: 0.5048 - acc: 0.7990\n",
      "Epoch 16/20\n",
      "418/418 [==============================] - 0s 89us/step - loss: 0.4984 - acc: 0.8014\n",
      "Epoch 17/20\n"
     ]
    },
    {
     "name": "stdout",
     "output_type": "stream",
     "text": [
      "418/418 [==============================] - 0s 92us/step - loss: 0.4915 - acc: 0.8038\n",
      "Epoch 18/20\n",
      "418/418 [==============================] - 0s 94us/step - loss: 0.4852 - acc: 0.7967\n",
      "Epoch 19/20\n",
      "418/418 [==============================] - 0s 88us/step - loss: 0.4810 - acc: 0.8014\n",
      "Epoch 20/20\n",
      "418/418 [==============================] - 0s 88us/step - loss: 0.4763 - acc: 0.8062\n",
      "209/209 [==============================] - 0s 736us/step\n",
      "418/418 [==============================] - 0s 50us/step\n",
      "Epoch 1/20\n",
      "418/418 [==============================] - 0s 838us/step - loss: 0.6582 - acc: 0.6926\n",
      "Epoch 2/20\n",
      "418/418 [==============================] - 0s 94us/step - loss: 0.6404 - acc: 0.7201\n",
      "Epoch 3/20\n",
      "418/418 [==============================] - 0s 88us/step - loss: 0.6272 - acc: 0.7297\n",
      "Epoch 4/20\n",
      "418/418 [==============================] - 0s 107us/step - loss: 0.6144 - acc: 0.7488\n",
      "Epoch 5/20\n",
      "418/418 [==============================] - 0s 119us/step - loss: 0.6035 - acc: 0.7608\n",
      "Epoch 6/20\n",
      "418/418 [==============================] - 0s 120us/step - loss: 0.5928 - acc: 0.7703\n",
      "Epoch 7/20\n",
      "418/418 [==============================] - 0s 118us/step - loss: 0.5836 - acc: 0.7727\n",
      "Epoch 8/20\n",
      "418/418 [==============================] - 0s 110us/step - loss: 0.5745 - acc: 0.7751\n",
      "Epoch 9/20\n",
      "418/418 [==============================] - 0s 100us/step - loss: 0.5668 - acc: 0.7847\n",
      "Epoch 10/20\n",
      "418/418 [==============================] - 0s 92us/step - loss: 0.5594 - acc: 0.7823\n",
      "Epoch 11/20\n",
      "418/418 [==============================] - 0s 91us/step - loss: 0.5523 - acc: 0.7799\n",
      "Epoch 12/20\n",
      "418/418 [==============================] - 0s 86us/step - loss: 0.5457 - acc: 0.7751\n",
      "Epoch 13/20\n",
      "418/418 [==============================] - 0s 94us/step - loss: 0.5396 - acc: 0.7799\n",
      "Epoch 14/20\n",
      "418/418 [==============================] - 0s 91us/step - loss: 0.5350 - acc: 0.7823\n",
      "Epoch 15/20\n",
      "418/418 [==============================] - 0s 89us/step - loss: 0.5305 - acc: 0.7823\n",
      "Epoch 16/20\n",
      "418/418 [==============================] - 0s 101us/step - loss: 0.5253 - acc: 0.7871\n",
      "Epoch 17/20\n",
      "418/418 [==============================] - 0s 91us/step - loss: 0.5216 - acc: 0.7871\n",
      "Epoch 18/20\n",
      "418/418 [==============================] - 0s 94us/step - loss: 0.5184 - acc: 0.7919\n",
      "Epoch 19/20\n",
      "418/418 [==============================] - 0s 91us/step - loss: 0.5145 - acc: 0.7919\n",
      "Epoch 20/20\n",
      "418/418 [==============================] - 0s 89us/step - loss: 0.5109 - acc: 0.7919\n",
      "209/209 [==============================] - 0s 811us/step\n",
      "418/418 [==============================] - 0s 48us/step\n",
      "Epoch 1/30\n",
      "418/418 [==============================] - 0s 957us/step - loss: 0.6252 - acc: 0.6603\n",
      "Epoch 2/30\n",
      "418/418 [==============================] - 0s 119us/step - loss: 0.6005 - acc: 0.7010\n",
      "Epoch 3/30\n",
      "418/418 [==============================] - 0s 104us/step - loss: 0.5781 - acc: 0.7321\n",
      "Epoch 4/30\n",
      "418/418 [==============================] - 0s 109us/step - loss: 0.5599 - acc: 0.7488\n",
      "Epoch 5/30\n",
      "418/418 [==============================] - 0s 107us/step - loss: 0.5452 - acc: 0.7679\n",
      "Epoch 6/30\n",
      "418/418 [==============================] - 0s 108us/step - loss: 0.5325 - acc: 0.7679\n",
      "Epoch 7/30\n",
      "418/418 [==============================] - 0s 98us/step - loss: 0.5221 - acc: 0.7751\n",
      "Epoch 8/30\n",
      "418/418 [==============================] - 0s 111us/step - loss: 0.5140 - acc: 0.7727\n",
      "Epoch 9/30\n",
      "418/418 [==============================] - 0s 110us/step - loss: 0.5079 - acc: 0.7727\n",
      "Epoch 10/30\n",
      "418/418 [==============================] - 0s 106us/step - loss: 0.5023 - acc: 0.7727\n",
      "Epoch 11/30\n",
      "418/418 [==============================] - 0s 106us/step - loss: 0.4972 - acc: 0.7727\n",
      "Epoch 12/30\n",
      "418/418 [==============================] - 0s 101us/step - loss: 0.4926 - acc: 0.7727\n",
      "Epoch 13/30\n",
      "418/418 [==============================] - 0s 103us/step - loss: 0.4887 - acc: 0.7775\n",
      "Epoch 14/30\n",
      "418/418 [==============================] - 0s 101us/step - loss: 0.4846 - acc: 0.7823\n",
      "Epoch 15/30\n",
      "418/418 [==============================] - 0s 102us/step - loss: 0.4816 - acc: 0.7799\n",
      "Epoch 16/30\n",
      "418/418 [==============================] - 0s 101us/step - loss: 0.4788 - acc: 0.7751\n",
      "Epoch 17/30\n",
      "418/418 [==============================] - 0s 109us/step - loss: 0.4770 - acc: 0.7775\n",
      "Epoch 18/30\n",
      "418/418 [==============================] - 0s 121us/step - loss: 0.4751 - acc: 0.7775\n",
      "Epoch 19/30\n",
      "418/418 [==============================] - 0s 129us/step - loss: 0.4729 - acc: 0.7799\n",
      "Epoch 20/30\n",
      "418/418 [==============================] - 0s 133us/step - loss: 0.4713 - acc: 0.7799\n",
      "Epoch 21/30\n",
      "418/418 [==============================] - 0s 118us/step - loss: 0.4696 - acc: 0.7799\n",
      "Epoch 22/30\n",
      "418/418 [==============================] - 0s 117us/step - loss: 0.4681 - acc: 0.7871\n",
      "Epoch 23/30\n",
      "418/418 [==============================] - 0s 115us/step - loss: 0.4674 - acc: 0.7871\n",
      "Epoch 24/30\n",
      "418/418 [==============================] - 0s 106us/step - loss: 0.4666 - acc: 0.7871\n",
      "Epoch 25/30\n",
      "418/418 [==============================] - 0s 98us/step - loss: 0.4660 - acc: 0.7919\n",
      "Epoch 26/30\n",
      "418/418 [==============================] - 0s 110us/step - loss: 0.4652 - acc: 0.7943\n",
      "Epoch 27/30\n",
      "418/418 [==============================] - 0s 104us/step - loss: 0.4645 - acc: 0.7943\n",
      "Epoch 28/30\n",
      "418/418 [==============================] - 0s 117us/step - loss: 0.4637 - acc: 0.7943\n",
      "Epoch 29/30\n",
      "418/418 [==============================] - 0s 129us/step - loss: 0.4634 - acc: 0.7943\n",
      "Epoch 30/30\n",
      "418/418 [==============================] - 0s 125us/step - loss: 0.4628 - acc: 0.7943\n",
      "209/209 [==============================] - 0s 894us/step\n",
      "418/418 [==============================] - 0s 40us/step\n",
      "Epoch 1/30\n",
      "418/418 [==============================] - 0s 1ms/step - loss: 0.5342 - acc: 0.7847\n",
      "Epoch 2/30\n",
      "418/418 [==============================] - 0s 99us/step - loss: 0.5241 - acc: 0.7871\n",
      "Epoch 3/30\n",
      "418/418 [==============================] - 0s 106us/step - loss: 0.5159 - acc: 0.7895\n",
      "Epoch 4/30\n",
      "418/418 [==============================] - 0s 109us/step - loss: 0.5080 - acc: 0.7919\n",
      "Epoch 5/30\n",
      "418/418 [==============================] - 0s 125us/step - loss: 0.5006 - acc: 0.7919\n",
      "Epoch 6/30\n",
      "418/418 [==============================] - 0s 129us/step - loss: 0.4942 - acc: 0.7943\n",
      "Epoch 7/30\n",
      "418/418 [==============================] - 0s 125us/step - loss: 0.4886 - acc: 0.7967\n",
      "Epoch 8/30\n",
      "418/418 [==============================] - 0s 126us/step - loss: 0.4836 - acc: 0.7967\n",
      "Epoch 9/30\n",
      "418/418 [==============================] - 0s 120us/step - loss: 0.4788 - acc: 0.7967\n",
      "Epoch 10/30\n",
      "418/418 [==============================] - 0s 121us/step - loss: 0.4741 - acc: 0.8014\n",
      "Epoch 11/30\n",
      "418/418 [==============================] - 0s 124us/step - loss: 0.4695 - acc: 0.8062\n",
      "Epoch 12/30\n",
      "418/418 [==============================] - 0s 103us/step - loss: 0.4653 - acc: 0.8110\n",
      "Epoch 13/30\n",
      "418/418 [==============================] - 0s 110us/step - loss: 0.4615 - acc: 0.8110\n",
      "Epoch 14/30\n",
      "418/418 [==============================] - 0s 117us/step - loss: 0.4583 - acc: 0.8086\n",
      "Epoch 15/30\n",
      "418/418 [==============================] - 0s 124us/step - loss: 0.4561 - acc: 0.8086\n",
      "Epoch 16/30\n",
      "418/418 [==============================] - 0s 115us/step - loss: 0.4537 - acc: 0.8086\n",
      "Epoch 17/30\n",
      "418/418 [==============================] - 0s 122us/step - loss: 0.4518 - acc: 0.8110\n",
      "Epoch 18/30\n",
      "418/418 [==============================] - 0s 124us/step - loss: 0.4501 - acc: 0.8134\n",
      "Epoch 19/30\n",
      "418/418 [==============================] - 0s 107us/step - loss: 0.4487 - acc: 0.8134\n",
      "Epoch 20/30\n",
      "418/418 [==============================] - 0s 107us/step - loss: 0.4470 - acc: 0.8134\n",
      "Epoch 21/30\n",
      "418/418 [==============================] - 0s 108us/step - loss: 0.4457 - acc: 0.8134\n",
      "Epoch 22/30\n",
      "418/418 [==============================] - 0s 97us/step - loss: 0.4442 - acc: 0.8134\n",
      "Epoch 23/30\n",
      "418/418 [==============================] - 0s 107us/step - loss: 0.4429 - acc: 0.8158\n",
      "Epoch 24/30\n",
      "418/418 [==============================] - 0s 109us/step - loss: 0.4421 - acc: 0.8158\n",
      "Epoch 25/30\n",
      "418/418 [==============================] - 0s 94us/step - loss: 0.4414 - acc: 0.8158\n",
      "Epoch 26/30\n",
      "418/418 [==============================] - 0s 98us/step - loss: 0.4399 - acc: 0.8158\n",
      "Epoch 27/30\n"
     ]
    },
    {
     "name": "stdout",
     "output_type": "stream",
     "text": [
      "418/418 [==============================] - 0s 100us/step - loss: 0.4390 - acc: 0.8158\n",
      "Epoch 28/30\n",
      "418/418 [==============================] - 0s 101us/step - loss: 0.4381 - acc: 0.8158\n",
      "Epoch 29/30\n",
      "418/418 [==============================] - 0s 103us/step - loss: 0.4375 - acc: 0.8158\n",
      "Epoch 30/30\n",
      "418/418 [==============================] - 0s 101us/step - loss: 0.4368 - acc: 0.8158\n",
      "209/209 [==============================] - 0s 799us/step\n",
      "418/418 [==============================] - 0s 48us/step\n",
      "Epoch 1/30\n",
      "418/418 [==============================] - 1s 1ms/step - loss: 0.9037 - acc: 0.5167\n",
      "Epoch 2/30\n",
      "418/418 [==============================] - 0s 122us/step - loss: 0.8607 - acc: 0.5167\n",
      "Epoch 3/30\n",
      "418/418 [==============================] - 0s 121us/step - loss: 0.8244 - acc: 0.5215\n",
      "Epoch 4/30\n",
      "418/418 [==============================] - 0s 124us/step - loss: 0.7916 - acc: 0.5167\n",
      "Epoch 5/30\n",
      "418/418 [==============================] - 0s 113us/step - loss: 0.7645 - acc: 0.5263\n",
      "Epoch 6/30\n",
      "418/418 [==============================] - 0s 106us/step - loss: 0.7376 - acc: 0.5287\n",
      "Epoch 7/30\n",
      "418/418 [==============================] - 0s 129us/step - loss: 0.7140 - acc: 0.5311\n",
      "Epoch 8/30\n",
      "418/418 [==============================] - 0s 123us/step - loss: 0.6936 - acc: 0.5359\n",
      "Epoch 9/30\n",
      "418/418 [==============================] - 0s 113us/step - loss: 0.6745 - acc: 0.5574\n",
      "Epoch 10/30\n",
      "418/418 [==============================] - 0s 113us/step - loss: 0.6570 - acc: 0.5766\n",
      "Epoch 11/30\n",
      "418/418 [==============================] - 0s 127us/step - loss: 0.6408 - acc: 0.5861\n",
      "Epoch 12/30\n",
      "418/418 [==============================] - 0s 113us/step - loss: 0.6266 - acc: 0.5981\n",
      "Epoch 13/30\n",
      "418/418 [==============================] - 0s 107us/step - loss: 0.6140 - acc: 0.6124\n",
      "Epoch 14/30\n",
      "418/418 [==============================] - 0s 101us/step - loss: 0.6013 - acc: 0.6292\n",
      "Epoch 15/30\n",
      "418/418 [==============================] - 0s 92us/step - loss: 0.5909 - acc: 0.6531\n",
      "Epoch 16/30\n",
      "418/418 [==============================] - 0s 104us/step - loss: 0.5797 - acc: 0.6770\n",
      "Epoch 17/30\n",
      "418/418 [==============================] - 0s 103us/step - loss: 0.5704 - acc: 0.7033\n",
      "Epoch 18/30\n",
      "418/418 [==============================] - 0s 111us/step - loss: 0.5617 - acc: 0.7249\n",
      "Epoch 19/30\n",
      "418/418 [==============================] - 0s 117us/step - loss: 0.5545 - acc: 0.7464\n",
      "Epoch 20/30\n",
      "418/418 [==============================] - 0s 125us/step - loss: 0.5474 - acc: 0.7608\n",
      "Epoch 21/30\n",
      "418/418 [==============================] - 0s 130us/step - loss: 0.5408 - acc: 0.7632\n",
      "Epoch 22/30\n",
      "418/418 [==============================] - 0s 117us/step - loss: 0.5347 - acc: 0.7751\n",
      "Epoch 23/30\n",
      "418/418 [==============================] - 0s 126us/step - loss: 0.5287 - acc: 0.8014\n",
      "Epoch 24/30\n",
      "418/418 [==============================] - 0s 114us/step - loss: 0.5235 - acc: 0.7967\n",
      "Epoch 25/30\n",
      "418/418 [==============================] - 0s 112us/step - loss: 0.5186 - acc: 0.7967\n",
      "Epoch 26/30\n",
      "418/418 [==============================] - 0s 122us/step - loss: 0.5146 - acc: 0.8062\n",
      "Epoch 27/30\n",
      "418/418 [==============================] - 0s 123us/step - loss: 0.5112 - acc: 0.8038\n",
      "Epoch 28/30\n",
      "418/418 [==============================] - 0s 122us/step - loss: 0.5076 - acc: 0.8038\n",
      "Epoch 29/30\n",
      "418/418 [==============================] - 0s 139us/step - loss: 0.5041 - acc: 0.8062\n",
      "Epoch 30/30\n",
      "418/418 [==============================] - 0s 125us/step - loss: 0.5008 - acc: 0.8062\n",
      "209/209 [==============================] - 0s 1ms/step\n",
      "418/418 [==============================] - 0s 55us/step\n",
      "Epoch 1/30\n",
      "418/418 [==============================] - 0s 1ms/step - loss: 0.8155 - acc: 0.4510\n",
      "Epoch 2/30\n",
      "418/418 [==============================] - 0s 116us/step - loss: 0.7757 - acc: 0.4426\n",
      "Epoch 3/30\n",
      "418/418 [==============================] - 0s 116us/step - loss: 0.7490 - acc: 0.4474\n",
      "Epoch 4/30\n",
      "418/418 [==============================] - 0s 110us/step - loss: 0.7245 - acc: 0.4545\n",
      "Epoch 5/30\n",
      "418/418 [==============================] - 0s 111us/step - loss: 0.7013 - acc: 0.4761\n",
      "Epoch 6/30\n",
      "418/418 [==============================] - 0s 102us/step - loss: 0.6794 - acc: 0.5670\n",
      "Epoch 7/30\n",
      "418/418 [==============================] - 0s 108us/step - loss: 0.6613 - acc: 0.6340\n",
      "Epoch 8/30\n",
      "418/418 [==============================] - 0s 113us/step - loss: 0.6463 - acc: 0.6746\n",
      "Epoch 9/30\n",
      "418/418 [==============================] - 0s 96us/step - loss: 0.6328 - acc: 0.6914\n",
      "Epoch 10/30\n",
      "418/418 [==============================] - 0s 121us/step - loss: 0.6178 - acc: 0.7081\n",
      "Epoch 11/30\n",
      "418/418 [==============================] - 0s 115us/step - loss: 0.6041 - acc: 0.7440\n",
      "Epoch 12/30\n",
      "418/418 [==============================] - 0s 110us/step - loss: 0.5908 - acc: 0.7488\n",
      "Epoch 13/30\n",
      "418/418 [==============================] - 0s 108us/step - loss: 0.5799 - acc: 0.7632\n",
      "Epoch 14/30\n",
      "418/418 [==============================] - 0s 117us/step - loss: 0.5703 - acc: 0.7703\n",
      "Epoch 15/30\n",
      "418/418 [==============================] - 0s 106us/step - loss: 0.5603 - acc: 0.7727\n",
      "Epoch 16/30\n",
      "418/418 [==============================] - 0s 97us/step - loss: 0.5537 - acc: 0.7727\n",
      "Epoch 17/30\n",
      "418/418 [==============================] - 0s 102us/step - loss: 0.5470 - acc: 0.7727\n",
      "Epoch 18/30\n",
      "418/418 [==============================] - 0s 97us/step - loss: 0.5398 - acc: 0.7847\n",
      "Epoch 19/30\n",
      "418/418 [==============================] - 0s 120us/step - loss: 0.5339 - acc: 0.7847\n",
      "Epoch 20/30\n",
      "418/418 [==============================] - 0s 110us/step - loss: 0.5273 - acc: 0.7823\n",
      "Epoch 21/30\n",
      "418/418 [==============================] - 0s 110us/step - loss: 0.5205 - acc: 0.7919\n",
      "Epoch 22/30\n",
      "418/418 [==============================] - 0s 106us/step - loss: 0.5151 - acc: 0.7943\n",
      "Epoch 23/30\n",
      "418/418 [==============================] - 0s 113us/step - loss: 0.5097 - acc: 0.7967\n",
      "Epoch 24/30\n",
      "418/418 [==============================] - 0s 84us/step - loss: 0.5046 - acc: 0.7967\n",
      "Epoch 25/30\n",
      "418/418 [==============================] - 0s 75us/step - loss: 0.4997 - acc: 0.7967\n",
      "Epoch 26/30\n",
      "418/418 [==============================] - 0s 81us/step - loss: 0.4963 - acc: 0.7967\n",
      "Epoch 27/30\n",
      "418/418 [==============================] - 0s 98us/step - loss: 0.4919 - acc: 0.7990\n",
      "Epoch 28/30\n",
      "418/418 [==============================] - 0s 106us/step - loss: 0.4879 - acc: 0.8014\n",
      "Epoch 29/30\n",
      "418/418 [==============================] - 0s 114us/step - loss: 0.4852 - acc: 0.7990\n",
      "Epoch 30/30\n",
      "418/418 [==============================] - 0s 115us/step - loss: 0.4821 - acc: 0.8014\n",
      "209/209 [==============================] - 0s 1ms/step\n",
      "418/418 [==============================] - 0s 42us/step\n",
      "Epoch 1/30\n",
      "418/418 [==============================] - 1s 1ms/step - loss: 0.7311 - acc: 0.3182\n",
      "Epoch 2/30\n",
      "418/418 [==============================] - 0s 120us/step - loss: 0.7148 - acc: 0.3469\n",
      "Epoch 3/30\n",
      "418/418 [==============================] - 0s 106us/step - loss: 0.7003 - acc: 0.3947\n",
      "Epoch 4/30\n",
      "418/418 [==============================] - 0s 110us/step - loss: 0.6889 - acc: 0.4234\n",
      "Epoch 5/30\n",
      "418/418 [==============================] - 0s 104us/step - loss: 0.6775 - acc: 0.4569\n",
      "Epoch 6/30\n",
      "418/418 [==============================] - 0s 109us/step - loss: 0.6655 - acc: 0.4737\n",
      "Epoch 7/30\n",
      "418/418 [==============================] - 0s 113us/step - loss: 0.6539 - acc: 0.5239\n",
      "Epoch 8/30\n",
      "418/418 [==============================] - 0s 115us/step - loss: 0.6443 - acc: 0.6555\n",
      "Epoch 9/30\n",
      "418/418 [==============================] - 0s 119us/step - loss: 0.6341 - acc: 0.6651\n",
      "Epoch 10/30\n",
      "418/418 [==============================] - 0s 112us/step - loss: 0.6260 - acc: 0.7273\n",
      "Epoch 11/30\n",
      "418/418 [==============================] - 0s 112us/step - loss: 0.6170 - acc: 0.7368\n",
      "Epoch 12/30\n",
      "418/418 [==============================] - 0s 114us/step - loss: 0.6081 - acc: 0.7392\n",
      "Epoch 13/30\n",
      "418/418 [==============================] - 0s 91us/step - loss: 0.6017 - acc: 0.7536\n",
      "Epoch 14/30\n",
      "418/418 [==============================] - 0s 115us/step - loss: 0.5949 - acc: 0.7560\n",
      "Epoch 15/30\n",
      "418/418 [==============================] - 0s 105us/step - loss: 0.5880 - acc: 0.7560\n",
      "Epoch 16/30\n",
      "418/418 [==============================] - 0s 110us/step - loss: 0.5823 - acc: 0.7679\n",
      "Epoch 17/30\n"
     ]
    },
    {
     "name": "stdout",
     "output_type": "stream",
     "text": [
      "418/418 [==============================] - 0s 116us/step - loss: 0.5767 - acc: 0.7751\n",
      "Epoch 18/30\n",
      "418/418 [==============================] - 0s 115us/step - loss: 0.5713 - acc: 0.7775\n",
      "Epoch 19/30\n",
      "418/418 [==============================] - 0s 109us/step - loss: 0.5670 - acc: 0.7847\n",
      "Epoch 20/30\n",
      "418/418 [==============================] - 0s 111us/step - loss: 0.5624 - acc: 0.7895\n",
      "Epoch 21/30\n",
      "418/418 [==============================] - 0s 99us/step - loss: 0.5575 - acc: 0.7871\n",
      "Epoch 22/30\n",
      "418/418 [==============================] - 0s 94us/step - loss: 0.5530 - acc: 0.7895\n",
      "Epoch 23/30\n",
      "418/418 [==============================] - 0s 92us/step - loss: 0.5489 - acc: 0.7895\n",
      "Epoch 24/30\n",
      "418/418 [==============================] - 0s 95us/step - loss: 0.5447 - acc: 0.7919\n",
      "Epoch 25/30\n",
      "418/418 [==============================] - 0s 96us/step - loss: 0.5405 - acc: 0.7919\n",
      "Epoch 26/30\n",
      "418/418 [==============================] - 0s 97us/step - loss: 0.5366 - acc: 0.7943\n",
      "Epoch 27/30\n",
      "418/418 [==============================] - 0s 92us/step - loss: 0.5333 - acc: 0.7943\n",
      "Epoch 28/30\n",
      "418/418 [==============================] - 0s 122us/step - loss: 0.5298 - acc: 0.8062\n",
      "Epoch 29/30\n",
      "418/418 [==============================] - 0s 117us/step - loss: 0.5270 - acc: 0.8062\n",
      "Epoch 30/30\n",
      "418/418 [==============================] - 0s 124us/step - loss: 0.5243 - acc: 0.8038\n",
      "209/209 [==============================] - 0s 1ms/step\n",
      "418/418 [==============================] - 0s 50us/step\n",
      "Epoch 1/30\n",
      "418/418 [==============================] - 1s 1ms/step - loss: 0.5713 - acc: 0.7847\n",
      "Epoch 2/30\n",
      "418/418 [==============================] - 0s 112us/step - loss: 0.5594 - acc: 0.7871\n",
      "Epoch 3/30\n",
      "418/418 [==============================] - 0s 107us/step - loss: 0.5492 - acc: 0.7871\n",
      "Epoch 4/30\n",
      "418/418 [==============================] - 0s 114us/step - loss: 0.5410 - acc: 0.7847\n",
      "Epoch 5/30\n",
      "418/418 [==============================] - 0s 95us/step - loss: 0.5328 - acc: 0.7823\n",
      "Epoch 6/30\n",
      "418/418 [==============================] - 0s 100us/step - loss: 0.5263 - acc: 0.7847\n",
      "Epoch 7/30\n",
      "418/418 [==============================] - 0s 111us/step - loss: 0.5204 - acc: 0.7847\n",
      "Epoch 8/30\n",
      "418/418 [==============================] - 0s 114us/step - loss: 0.5160 - acc: 0.7871\n",
      "Epoch 9/30\n",
      "418/418 [==============================] - 0s 106us/step - loss: 0.5117 - acc: 0.7967\n",
      "Epoch 10/30\n",
      "418/418 [==============================] - 0s 115us/step - loss: 0.5077 - acc: 0.7943\n",
      "Epoch 11/30\n",
      "418/418 [==============================] - 0s 111us/step - loss: 0.5035 - acc: 0.7895\n",
      "Epoch 12/30\n",
      "418/418 [==============================] - 0s 101us/step - loss: 0.4991 - acc: 0.7895\n",
      "Epoch 13/30\n",
      "418/418 [==============================] - 0s 91us/step - loss: 0.4955 - acc: 0.7895\n",
      "Epoch 14/30\n",
      "418/418 [==============================] - 0s 90us/step - loss: 0.4923 - acc: 0.7919\n",
      "Epoch 15/30\n",
      "418/418 [==============================] - 0s 82us/step - loss: 0.4888 - acc: 0.7895\n",
      "Epoch 16/30\n",
      "418/418 [==============================] - 0s 95us/step - loss: 0.4860 - acc: 0.7919\n",
      "Epoch 17/30\n",
      "418/418 [==============================] - 0s 94us/step - loss: 0.4842 - acc: 0.7919\n",
      "Epoch 18/30\n",
      "418/418 [==============================] - 0s 90us/step - loss: 0.4827 - acc: 0.7919\n",
      "Epoch 19/30\n",
      "418/418 [==============================] - 0s 100us/step - loss: 0.4812 - acc: 0.7943\n",
      "Epoch 20/30\n",
      "418/418 [==============================] - 0s 98us/step - loss: 0.4791 - acc: 0.7967\n",
      "Epoch 21/30\n",
      "418/418 [==============================] - 0s 106us/step - loss: 0.4772 - acc: 0.7967\n",
      "Epoch 22/30\n",
      "418/418 [==============================] - 0s 113us/step - loss: 0.4754 - acc: 0.7967\n",
      "Epoch 23/30\n",
      "418/418 [==============================] - 0s 109us/step - loss: 0.4736 - acc: 0.7990\n",
      "Epoch 24/30\n",
      "418/418 [==============================] - 0s 120us/step - loss: 0.4720 - acc: 0.7990\n",
      "Epoch 25/30\n",
      "418/418 [==============================] - 0s 109us/step - loss: 0.4706 - acc: 0.7990\n",
      "Epoch 26/30\n",
      "418/418 [==============================] - 0s 104us/step - loss: 0.4686 - acc: 0.8014\n",
      "Epoch 27/30\n",
      "418/418 [==============================] - 0s 107us/step - loss: 0.4677 - acc: 0.8014\n",
      "Epoch 28/30\n",
      "418/418 [==============================] - 0s 99us/step - loss: 0.4663 - acc: 0.8038\n",
      "Epoch 29/30\n",
      "418/418 [==============================] - 0s 84us/step - loss: 0.4654 - acc: 0.8038\n",
      "Epoch 30/30\n",
      "418/418 [==============================] - 0s 89us/step - loss: 0.4640 - acc: 0.8038\n",
      "209/209 [==============================] - 0s 1ms/step\n",
      "418/418 [==============================] - 0s 65us/step\n",
      "Epoch 1/30\n",
      "627/627 [==============================] - 1s 900us/step - loss: 0.7489 - acc: 0.3094\n",
      "Epoch 2/30\n",
      "627/627 [==============================] - 0s 87us/step - loss: 0.7168 - acc: 0.3429\n",
      "Epoch 3/30\n",
      "627/627 [==============================] - 0s 84us/step - loss: 0.6935 - acc: 0.4083\n",
      "Epoch 4/30\n",
      "627/627 [==============================] - 0s 85us/step - loss: 0.6721 - acc: 0.5104\n",
      "Epoch 5/30\n",
      "627/627 [==============================] - 0s 86us/step - loss: 0.6536 - acc: 0.5088\n",
      "Epoch 6/30\n",
      "627/627 [==============================] - 0s 85us/step - loss: 0.6350 - acc: 0.5407\n",
      "Epoch 7/30\n",
      "627/627 [==============================] - 0s 84us/step - loss: 0.6190 - acc: 0.6970\n",
      "Epoch 8/30\n",
      "627/627 [==============================] - 0s 92us/step - loss: 0.6039 - acc: 0.7767\n",
      "Epoch 9/30\n",
      "627/627 [==============================] - 0s 96us/step - loss: 0.5905 - acc: 0.7783\n",
      "Epoch 10/30\n",
      "627/627 [==============================] - 0s 85us/step - loss: 0.5776 - acc: 0.7895\n",
      "Epoch 11/30\n",
      "627/627 [==============================] - 0s 87us/step - loss: 0.5650 - acc: 0.7911\n",
      "Epoch 12/30\n",
      "627/627 [==============================] - 0s 84us/step - loss: 0.5535 - acc: 0.7895\n",
      "Epoch 13/30\n",
      "627/627 [==============================] - 0s 85us/step - loss: 0.5429 - acc: 0.7959\n",
      "Epoch 14/30\n",
      "627/627 [==============================] - 0s 85us/step - loss: 0.5324 - acc: 0.7943\n",
      "Epoch 15/30\n",
      "627/627 [==============================] - 0s 84us/step - loss: 0.5227 - acc: 0.7974\n",
      "Epoch 16/30\n",
      "627/627 [==============================] - 0s 84us/step - loss: 0.5133 - acc: 0.7943\n",
      "Epoch 17/30\n",
      "627/627 [==============================] - 0s 105us/step - loss: 0.5052 - acc: 0.7927\n",
      "Epoch 18/30\n",
      "627/627 [==============================] - 0s 110us/step - loss: 0.4979 - acc: 0.7959\n",
      "Epoch 19/30\n",
      "627/627 [==============================] - 0s 109us/step - loss: 0.4911 - acc: 0.7974\n",
      "Epoch 20/30\n",
      "627/627 [==============================] - 0s 105us/step - loss: 0.4845 - acc: 0.7974\n",
      "Epoch 21/30\n",
      "627/627 [==============================] - 0s 95us/step - loss: 0.4787 - acc: 0.7974\n",
      "Epoch 22/30\n",
      "627/627 [==============================] - 0s 92us/step - loss: 0.4738 - acc: 0.7990\n",
      "Epoch 23/30\n",
      "627/627 [==============================] - 0s 109us/step - loss: 0.4698 - acc: 0.8022\n",
      "Epoch 24/30\n",
      "627/627 [==============================] - 0s 108us/step - loss: 0.4661 - acc: 0.8038\n",
      "Epoch 25/30\n",
      "627/627 [==============================] - 0s 105us/step - loss: 0.4628 - acc: 0.8022\n",
      "Epoch 26/30\n",
      "627/627 [==============================] - 0s 110us/step - loss: 0.4600 - acc: 0.8022\n",
      "Epoch 27/30\n",
      "627/627 [==============================] - 0s 100us/step - loss: 0.4574 - acc: 0.8006\n",
      "Epoch 28/30\n",
      "627/627 [==============================] - 0s 92us/step - loss: 0.4553 - acc: 0.7990\n",
      "Epoch 29/30\n",
      "627/627 [==============================] - 0s 86us/step - loss: 0.4535 - acc: 0.7974\n",
      "Epoch 30/30\n",
      "627/627 [==============================] - 0s 94us/step - loss: 0.4518 - acc: 0.7974\n",
      "CPU times: user 33 s, sys: 9.93 s, total: 42.9 s\n",
      "Wall time: 33.9 s\n"
     ]
    },
    {
     "data": {
      "text/plain": [
       "GridSearchCV(cv=3, error_score='raise',\n",
       "       estimator=<keras.wrappers.scikit_learn.KerasClassifier object at 0x12ff60d30>,\n",
       "       fit_params=None, iid=True, n_jobs=1,\n",
       "       param_grid={'epochs': [10, 20, 30], 'optimizer': ['adam', 'rmsprop']},\n",
       "       pre_dispatch='2*n_jobs', refit=True, return_train_score='warn',\n",
       "       scoring=None, verbose=0)"
      ]
     },
     "execution_count": 69,
     "metadata": {},
     "output_type": "execute_result"
    }
   ],
   "source": [
    "%time keras_cv.fit(X_train,y_train_matrix)"
   ]
  },
  {
   "cell_type": "code",
   "execution_count": 70,
   "metadata": {},
   "outputs": [
    {
     "name": "stdout",
     "output_type": "stream",
     "text": [
      "CPU times: user 214 ms, sys: 15.6 ms, total: 229 ms\n",
      "Wall time: 218 ms\n",
      "Best Parameters: {'epochs': 30, 'optimizer': 'rmsprop'}\n",
      "Best score is 0.8022328556249396\n"
     ]
    }
   ],
   "source": [
    "%time y_pred = keras_cv.predict(X_test)\n",
    "\n",
    "print(\"Best Parameters: {}\".format(keras_cv.best_params_)) \n",
    "print(\"Best score is {}\".format(keras_cv.best_score_))"
   ]
  },
  {
   "cell_type": "code",
   "execution_count": 71,
   "metadata": {},
   "outputs": [],
   "source": [
    "def neural_network_results(y_test,y_pred):\n",
    "    print(\"#####################\")\n",
    "    print(\"Test data\")\n",
    "    print(\"#####################\")\n",
    "    print(classification_report(y_test, y_pred))\n",
    "    print(\"#####################\")\n",
    "    conf_matrix = confusion_matrix(y_test, y_pred)\n",
    "    df_cm = pd.DataFrame(conf_matrix, range(2),range(2))\n",
    "    sns.set(font_scale=1.4) #for label size\n",
    "    sns.heatmap(df_cm, cmap='Blues',annot=True,annot_kws={\"size\": 36})"
   ]
  },
  {
   "cell_type": "code",
   "execution_count": 72,
   "metadata": {},
   "outputs": [
    {
     "name": "stdout",
     "output_type": "stream",
     "text": [
      "#####################\n",
      "Test data\n",
      "#####################\n",
      "             precision    recall  f1-score   support\n",
      "\n",
      "        0.0       0.83      0.69      0.75        75\n",
      "        1.0       0.76      0.87      0.81        82\n",
      "\n",
      "avg / total       0.79      0.78      0.78       157\n",
      "\n",
      "#####################\n"
     ]
    },
    {
     "data": {
      "image/png": "[encoded data removed]",
      "text/plain": [
       "<Figure size 1260x720 with 2 Axes>"
      ]
     },
     "metadata": {},
     "output_type": "display_data"
    }
   ],
   "source": [
    "neural_network_results(y_test,y_pred)"
   ]
  },
  {
   "cell_type": "markdown",
   "metadata": {},
   "source": [
    "A neural network with one hidden layer with 4 nodes had an accuracy of **78.34%** and **23 FP**. The best parameters for the NN were 20 epochs with the optimizer *adam*. Let's try adding more nodes to the hidden layer and see if the results improve."
   ]
  },
  {
   "cell_type": "code",
   "execution_count": 73,
   "metadata": {},
   "outputs": [],
   "source": [
    "def build_model(optimizer):\n",
    "    model = Sequential()\n",
    "    model.add(Dense(8,activation='relu',input_shape = input_shape))\n",
    "    model.add(Dense(2, activation='softmax'))\n",
    "    model.compile(loss='binary_crossentropy',\n",
    "             optimizer=optimizer,\n",
    "             metrics=['accuracy'])\n",
    "    return model"
   ]
  },
  {
   "cell_type": "code",
   "execution_count": 74,
   "metadata": {},
   "outputs": [],
   "source": [
    "estimator = KerasClassifier(build_model)"
   ]
  },
  {
   "cell_type": "code",
   "execution_count": 75,
   "metadata": {},
   "outputs": [],
   "source": [
    "params = {'epochs': [10,20,30],\n",
    "          'optimizer': ['adam', 'rmsprop']}\n",
    "\n",
    "keras_cv = GridSearchCV(estimator,params,cv=3)"
   ]
  },
  {
   "cell_type": "code",
   "execution_count": 76,
   "metadata": {
    "collapsed": true
   },
   "outputs": [
    {
     "name": "stdout",
     "output_type": "stream",
     "text": [
      "Epoch 1/10\n",
      "418/418 [==============================] - 1s 1ms/step - loss: 1.0238 - acc: 0.2452\n",
      "Epoch 2/10\n",
      "418/418 [==============================] - 0s 104us/step - loss: 0.9658 - acc: 0.2656\n",
      "Epoch 3/10\n",
      "418/418 [==============================] - 0s 116us/step - loss: 0.9130 - acc: 0.2823\n",
      "Epoch 4/10\n",
      "418/418 [==============================] - 0s 109us/step - loss: 0.8666 - acc: 0.2799\n",
      "Epoch 5/10\n",
      "418/418 [==============================] - 0s 109us/step - loss: 0.8229 - acc: 0.3062\n",
      "Epoch 6/10\n",
      "418/418 [==============================] - 0s 115us/step - loss: 0.7829 - acc: 0.3565\n",
      "Epoch 7/10\n",
      "418/418 [==============================] - 0s 130us/step - loss: 0.7467 - acc: 0.4737\n",
      "Epoch 8/10\n",
      "418/418 [==============================] - 0s 127us/step - loss: 0.7146 - acc: 0.5431\n",
      "Epoch 9/10\n",
      "418/418 [==============================] - 0s 111us/step - loss: 0.6829 - acc: 0.6483\n",
      "Epoch 10/10\n",
      "418/418 [==============================] - 0s 130us/step - loss: 0.6553 - acc: 0.6818\n",
      "209/209 [==============================] - 0s 1ms/step\n",
      "418/418 [==============================] - 0s 61us/step\n",
      "Epoch 1/10\n",
      "418/418 [==============================] - 1s 1ms/step - loss: 0.8372 - acc: 0.3086\n",
      "Epoch 2/10\n",
      "418/418 [==============================] - 0s 112us/step - loss: 0.8036 - acc: 0.3636\n",
      "Epoch 3/10\n",
      "418/418 [==============================] - 0s 106us/step - loss: 0.7752 - acc: 0.4234\n",
      "Epoch 4/10\n",
      "418/418 [==============================] - 0s 106us/step - loss: 0.7488 - acc: 0.4976\n",
      "Epoch 5/10\n",
      "418/418 [==============================] - 0s 100us/step - loss: 0.7246 - acc: 0.5598\n",
      "Epoch 6/10\n",
      "418/418 [==============================] - 0s 108us/step - loss: 0.7035 - acc: 0.5933\n",
      "Epoch 7/10\n",
      "418/418 [==============================] - 0s 98us/step - loss: 0.6833 - acc: 0.6340\n",
      "Epoch 8/10\n",
      "418/418 [==============================] - 0s 110us/step - loss: 0.6642 - acc: 0.6435\n",
      "Epoch 9/10\n",
      "418/418 [==============================] - 0s 113us/step - loss: 0.6463 - acc: 0.6579\n",
      "Epoch 10/10\n",
      "418/418 [==============================] - 0s 105us/step - loss: 0.6290 - acc: 0.6794\n",
      "209/209 [==============================] - 0s 1ms/step\n",
      "418/418 [==============================] - 0s 49us/step\n",
      "Epoch 1/10\n",
      "418/418 [==============================] - 1s 1ms/step - loss: 0.8779 - acc: 0.2715\n",
      "Epoch 2/10\n",
      "418/418 [==============================] - 0s 108us/step - loss: 0.8297 - acc: 0.2967\n",
      "Epoch 3/10\n",
      "418/418 [==============================] - 0s 106us/step - loss: 0.7879 - acc: 0.3373\n",
      "Epoch 4/10\n",
      "418/418 [==============================] - 0s 107us/step - loss: 0.7493 - acc: 0.4785\n",
      "Epoch 5/10\n",
      "418/418 [==============================] - 0s 104us/step - loss: 0.7169 - acc: 0.6124\n",
      "Epoch 6/10\n",
      "418/418 [==============================] - 0s 104us/step - loss: 0.6902 - acc: 0.6340\n",
      "Epoch 7/10\n",
      "418/418 [==============================] - 0s 102us/step - loss: 0.6673 - acc: 0.6770\n",
      "Epoch 8/10\n",
      "418/418 [==============================] - 0s 124us/step - loss: 0.6461 - acc: 0.6890\n",
      "Epoch 9/10\n",
      "418/418 [==============================] - 0s 106us/step - loss: 0.6285 - acc: 0.6986\n",
      "Epoch 10/10\n",
      "418/418 [==============================] - 0s 109us/step - loss: 0.6125 - acc: 0.7010\n",
      "209/209 [==============================] - 0s 1ms/step\n",
      "418/418 [==============================] - 0s 47us/step\n",
      "Epoch 1/10\n",
      "418/418 [==============================] - 1s 2ms/step - loss: 0.9493 - acc: 0.3660\n",
      "Epoch 2/10\n",
      "418/418 [==============================] - 0s 98us/step - loss: 0.8898 - acc: 0.4737\n",
      "Epoch 3/10\n",
      "418/418 [==============================] - 0s 113us/step - loss: 0.8438 - acc: 0.5335\n",
      "Epoch 4/10\n",
      "418/418 [==============================] - 0s 97us/step - loss: 0.8038 - acc: 0.5957\n",
      "Epoch 5/10\n",
      "418/418 [==============================] - 0s 100us/step - loss: 0.7698 - acc: 0.6531\n",
      "Epoch 6/10\n",
      "418/418 [==============================] - 0s 105us/step - loss: 0.7417 - acc: 0.6722\n",
      "Epoch 7/10\n",
      "418/418 [==============================] - 0s 96us/step - loss: 0.7164 - acc: 0.7177\n",
      "Epoch 8/10\n",
      "418/418 [==============================] - 0s 104us/step - loss: 0.6911 - acc: 0.7488\n",
      "Epoch 9/10\n",
      "418/418 [==============================] - 0s 105us/step - loss: 0.6663 - acc: 0.7512\n",
      "Epoch 10/10\n",
      "418/418 [==============================] - 0s 116us/step - loss: 0.6450 - acc: 0.7560\n",
      "209/209 [==============================] - 0s 1ms/step\n",
      "418/418 [==============================] - 0s 55us/step\n",
      "Epoch 1/10\n",
      "418/418 [==============================] - 1s 2ms/step - loss: 0.6738 - acc: 0.5694\n",
      "Epoch 2/10\n",
      "418/418 [==============================] - 0s 93us/step - loss: 0.6345 - acc: 0.6459\n",
      "Epoch 3/10\n",
      "418/418 [==============================] - 0s 103us/step - loss: 0.6068 - acc: 0.6986\n",
      "Epoch 4/10\n",
      "418/418 [==============================] - 0s 108us/step - loss: 0.5802 - acc: 0.7344\n",
      "Epoch 5/10\n",
      "418/418 [==============================] - 0s 121us/step - loss: 0.5565 - acc: 0.7703\n",
      "Epoch 6/10\n",
      "418/418 [==============================] - 0s 120us/step - loss: 0.5374 - acc: 0.7871\n",
      "Epoch 7/10\n",
      "418/418 [==============================] - 0s 120us/step - loss: 0.5194 - acc: 0.8038\n",
      "Epoch 8/10\n",
      "418/418 [==============================] - 0s 114us/step - loss: 0.5056 - acc: 0.8110\n",
      "Epoch 9/10\n",
      "418/418 [==============================] - 0s 103us/step - loss: 0.4936 - acc: 0.8110\n",
      "Epoch 10/10\n",
      "418/418 [==============================] - 0s 100us/step - loss: 0.4812 - acc: 0.8086\n",
      "209/209 [==============================] - 0s 1ms/step\n",
      "418/418 [==============================] - 0s 53us/step\n",
      "Epoch 1/10\n",
      "418/418 [==============================] - 1s 2ms/step - loss: 0.8918 - acc: 0.5383\n",
      "Epoch 2/10\n",
      "418/418 [==============================] - 0s 91us/step - loss: 0.8156 - acc: 0.5766\n",
      "Epoch 3/10\n",
      "418/418 [==============================] - 0s 116us/step - loss: 0.7589 - acc: 0.5837\n",
      "Epoch 4/10\n",
      "418/418 [==============================] - 0s 119us/step - loss: 0.7060 - acc: 0.6148\n",
      "Epoch 5/10\n",
      "418/418 [==============================] - 0s 103us/step - loss: 0.6681 - acc: 0.6411\n",
      "Epoch 6/10\n",
      "418/418 [==============================] - 0s 100us/step - loss: 0.6345 - acc: 0.7033\n",
      "Epoch 7/10\n",
      "418/418 [==============================] - 0s 107us/step - loss: 0.6040 - acc: 0.7177\n",
      "Epoch 8/10\n",
      "418/418 [==============================] - 0s 111us/step - loss: 0.5780 - acc: 0.7440\n",
      "Epoch 9/10\n",
      "418/418 [==============================] - 0s 112us/step - loss: 0.5598 - acc: 0.7632\n",
      "Epoch 10/10\n",
      "418/418 [==============================] - 0s 120us/step - loss: 0.5443 - acc: 0.7608\n",
      "209/209 [==============================] - 0s 1ms/step\n",
      "418/418 [==============================] - 0s 43us/step\n",
      "Epoch 1/20\n",
      "418/418 [==============================] - 1s 2ms/step - loss: 0.9372 - acc: 0.2392\n",
      "Epoch 2/20\n",
      "418/418 [==============================] - 0s 108us/step - loss: 0.8903 - acc: 0.2488\n",
      "Epoch 3/20\n",
      "418/418 [==============================] - 0s 100us/step - loss: 0.8514 - acc: 0.2751\n",
      "Epoch 4/20\n",
      "418/418 [==============================] - 0s 106us/step - loss: 0.8169 - acc: 0.3038\n",
      "Epoch 5/20\n",
      "418/418 [==============================] - 0s 108us/step - loss: 0.7890 - acc: 0.3134\n",
      "Epoch 6/20\n",
      "418/418 [==============================] - 0s 109us/step - loss: 0.7623 - acc: 0.3612\n",
      "Epoch 7/20\n",
      "418/418 [==============================] - 0s 108us/step - loss: 0.7405 - acc: 0.4282\n",
      "Epoch 8/20\n",
      "418/418 [==============================] - 0s 109us/step - loss: 0.7214 - acc: 0.4761\n",
      "Epoch 9/20\n",
      "418/418 [==============================] - 0s 111us/step - loss: 0.7046 - acc: 0.5239\n",
      "Epoch 10/20\n",
      "418/418 [==============================] - 0s 110us/step - loss: 0.6897 - acc: 0.6172\n",
      "Epoch 11/20\n",
      "418/418 [==============================] - 0s 110us/step - loss: 0.6752 - acc: 0.6675\n",
      "Epoch 12/20\n",
      "418/418 [==============================] - 0s 97us/step - loss: 0.6622 - acc: 0.6914\n",
      "Epoch 13/20\n",
      "418/418 [==============================] - 0s 109us/step - loss: 0.6507 - acc: 0.7081\n",
      "Epoch 14/20\n",
      "418/418 [==============================] - 0s 106us/step - loss: 0.6398 - acc: 0.7081\n",
      "Epoch 15/20\n",
      "418/418 [==============================] - 0s 94us/step - loss: 0.6296 - acc: 0.7249\n",
      "Epoch 16/20\n",
      "418/418 [==============================] - 0s 111us/step - loss: 0.6216 - acc: 0.7321\n",
      "Epoch 17/20\n",
      "418/418 [==============================] - 0s 100us/step - loss: 0.6139 - acc: 0.7536\n",
      "Epoch 18/20\n"
     ]
    },
    {
     "name": "stdout",
     "output_type": "stream",
     "text": [
      "418/418 [==============================] - 0s 102us/step - loss: 0.6068 - acc: 0.7560\n",
      "Epoch 19/20\n",
      "418/418 [==============================] - 0s 93us/step - loss: 0.5985 - acc: 0.7608\n",
      "Epoch 20/20\n",
      "418/418 [==============================] - 0s 105us/step - loss: 0.5917 - acc: 0.7656\n",
      "209/209 [==============================] - 0s 1ms/step\n",
      "418/418 [==============================] - 0s 42us/step\n",
      "Epoch 1/20\n",
      "418/418 [==============================] - 1s 2ms/step - loss: 0.6518 - acc: 0.5574\n",
      "Epoch 2/20\n",
      "418/418 [==============================] - 0s 109us/step - loss: 0.6130 - acc: 0.6746\n",
      "Epoch 3/20\n",
      "418/418 [==============================] - 0s 108us/step - loss: 0.5791 - acc: 0.7464\n",
      "Epoch 4/20\n",
      "418/418 [==============================] - 0s 104us/step - loss: 0.5496 - acc: 0.7847\n",
      "Epoch 5/20\n",
      "418/418 [==============================] - 0s 101us/step - loss: 0.5256 - acc: 0.8110\n",
      "Epoch 6/20\n",
      "418/418 [==============================] - 0s 97us/step - loss: 0.5061 - acc: 0.8086\n",
      "Epoch 7/20\n",
      "418/418 [==============================] - 0s 103us/step - loss: 0.4891 - acc: 0.7990\n",
      "Epoch 8/20\n",
      "418/418 [==============================] - 0s 107us/step - loss: 0.4751 - acc: 0.8014\n",
      "Epoch 9/20\n",
      "418/418 [==============================] - 0s 109us/step - loss: 0.4641 - acc: 0.8038\n",
      "Epoch 10/20\n",
      "418/418 [==============================] - 0s 113us/step - loss: 0.4559 - acc: 0.7990\n",
      "Epoch 11/20\n",
      "418/418 [==============================] - 0s 110us/step - loss: 0.4500 - acc: 0.7943\n",
      "Epoch 12/20\n",
      "418/418 [==============================] - 0s 109us/step - loss: 0.4455 - acc: 0.7943\n",
      "Epoch 13/20\n",
      "418/418 [==============================] - 0s 123us/step - loss: 0.4414 - acc: 0.7990\n",
      "Epoch 14/20\n",
      "418/418 [==============================] - 0s 110us/step - loss: 0.4381 - acc: 0.7990\n",
      "Epoch 15/20\n",
      "418/418 [==============================] - 0s 108us/step - loss: 0.4355 - acc: 0.7990\n",
      "Epoch 16/20\n",
      "418/418 [==============================] - 0s 107us/step - loss: 0.4335 - acc: 0.7990\n",
      "Epoch 17/20\n",
      "418/418 [==============================] - 0s 107us/step - loss: 0.4319 - acc: 0.8014\n",
      "Epoch 18/20\n",
      "418/418 [==============================] - 0s 105us/step - loss: 0.4306 - acc: 0.7990\n",
      "Epoch 19/20\n",
      "418/418 [==============================] - 0s 110us/step - loss: 0.4295 - acc: 0.8014\n",
      "Epoch 20/20\n",
      "418/418 [==============================] - 0s 110us/step - loss: 0.4287 - acc: 0.8062\n",
      "209/209 [==============================] - 0s 2ms/step\n",
      "418/418 [==============================] - 0s 50us/step\n",
      "Epoch 1/20\n",
      "418/418 [==============================] - 1s 2ms/step - loss: 0.4769 - acc: 0.7943\n",
      "Epoch 2/20\n",
      "418/418 [==============================] - 0s 107us/step - loss: 0.4709 - acc: 0.8038\n",
      "Epoch 3/20\n",
      "418/418 [==============================] - 0s 101us/step - loss: 0.4676 - acc: 0.8014\n",
      "Epoch 4/20\n",
      "418/418 [==============================] - 0s 110us/step - loss: 0.4651 - acc: 0.7967\n",
      "Epoch 5/20\n",
      "418/418 [==============================] - 0s 113us/step - loss: 0.4627 - acc: 0.7990\n",
      "Epoch 6/20\n",
      "418/418 [==============================] - 0s 110us/step - loss: 0.4605 - acc: 0.7990\n",
      "Epoch 7/20\n",
      "418/418 [==============================] - 0s 103us/step - loss: 0.4587 - acc: 0.8062\n",
      "Epoch 8/20\n",
      "418/418 [==============================] - 0s 131us/step - loss: 0.4571 - acc: 0.8062\n",
      "Epoch 9/20\n",
      "418/418 [==============================] - 0s 134us/step - loss: 0.4561 - acc: 0.8086\n",
      "Epoch 10/20\n",
      "418/418 [==============================] - 0s 134us/step - loss: 0.4546 - acc: 0.8110\n",
      "Epoch 11/20\n",
      "418/418 [==============================] - 0s 114us/step - loss: 0.4535 - acc: 0.8110\n",
      "Epoch 12/20\n",
      "418/418 [==============================] - 0s 129us/step - loss: 0.4523 - acc: 0.8110\n",
      "Epoch 13/20\n",
      "418/418 [==============================] - 0s 118us/step - loss: 0.4513 - acc: 0.8110\n",
      "Epoch 14/20\n",
      "418/418 [==============================] - 0s 105us/step - loss: 0.4502 - acc: 0.8134\n",
      "Epoch 15/20\n",
      "418/418 [==============================] - 0s 99us/step - loss: 0.4493 - acc: 0.8110\n",
      "Epoch 16/20\n",
      "418/418 [==============================] - 0s 110us/step - loss: 0.4484 - acc: 0.8110\n",
      "Epoch 17/20\n",
      "418/418 [==============================] - 0s 94us/step - loss: 0.4479 - acc: 0.8110\n",
      "Epoch 18/20\n",
      "418/418 [==============================] - 0s 100us/step - loss: 0.4471 - acc: 0.8110\n",
      "Epoch 19/20\n",
      "418/418 [==============================] - 0s 107us/step - loss: 0.4460 - acc: 0.8110\n",
      "Epoch 20/20\n",
      "418/418 [==============================] - 0s 100us/step - loss: 0.4453 - acc: 0.8110\n",
      "209/209 [==============================] - 0s 2ms/step\n",
      "418/418 [==============================] - 0s 47us/step\n",
      "Epoch 1/20\n",
      "418/418 [==============================] - 1s 2ms/step - loss: 0.7213 - acc: 0.4354\n",
      "Epoch 2/20\n",
      "418/418 [==============================] - 0s 106us/step - loss: 0.6931 - acc: 0.5646\n",
      "Epoch 3/20\n",
      "418/418 [==============================] - 0s 99us/step - loss: 0.6748 - acc: 0.6124\n",
      "Epoch 4/20\n",
      "418/418 [==============================] - 0s 98us/step - loss: 0.6568 - acc: 0.6722\n",
      "Epoch 5/20\n",
      "418/418 [==============================] - 0s 104us/step - loss: 0.6409 - acc: 0.7129\n",
      "Epoch 6/20\n",
      "418/418 [==============================] - 0s 97us/step - loss: 0.6254 - acc: 0.7344\n",
      "Epoch 7/20\n",
      "418/418 [==============================] - 0s 104us/step - loss: 0.6119 - acc: 0.7536\n",
      "Epoch 8/20\n",
      "418/418 [==============================] - 0s 99us/step - loss: 0.5997 - acc: 0.7560\n",
      "Epoch 9/20\n",
      "418/418 [==============================] - 0s 99us/step - loss: 0.5882 - acc: 0.7536\n",
      "Epoch 10/20\n",
      "418/418 [==============================] - 0s 99us/step - loss: 0.5753 - acc: 0.7679\n",
      "Epoch 11/20\n",
      "418/418 [==============================] - 0s 95us/step - loss: 0.5641 - acc: 0.7775\n",
      "Epoch 12/20\n",
      "418/418 [==============================] - 0s 100us/step - loss: 0.5543 - acc: 0.7727\n",
      "Epoch 13/20\n",
      "418/418 [==============================] - 0s 100us/step - loss: 0.5434 - acc: 0.7775\n",
      "Epoch 14/20\n",
      "418/418 [==============================] - 0s 117us/step - loss: 0.5331 - acc: 0.7751\n",
      "Epoch 15/20\n",
      "418/418 [==============================] - 0s 106us/step - loss: 0.5234 - acc: 0.7775\n",
      "Epoch 16/20\n",
      "418/418 [==============================] - 0s 101us/step - loss: 0.5143 - acc: 0.7823\n",
      "Epoch 17/20\n",
      "418/418 [==============================] - 0s 106us/step - loss: 0.5061 - acc: 0.7775\n",
      "Epoch 18/20\n",
      "418/418 [==============================] - 0s 104us/step - loss: 0.4991 - acc: 0.7799\n",
      "Epoch 19/20\n",
      "418/418 [==============================] - 0s 103us/step - loss: 0.4925 - acc: 0.7799\n",
      "Epoch 20/20\n",
      "418/418 [==============================] - 0s 102us/step - loss: 0.4873 - acc: 0.7847\n",
      "209/209 [==============================] - 0s 2ms/step\n",
      "418/418 [==============================] - 0s 48us/step\n",
      "Epoch 1/20\n",
      "418/418 [==============================] - 1s 2ms/step - loss: 0.9123 - acc: 0.2919\n",
      "Epoch 2/20\n",
      "418/418 [==============================] - 0s 96us/step - loss: 0.8563 - acc: 0.3301\n",
      "Epoch 3/20\n",
      "418/418 [==============================] - 0s 97us/step - loss: 0.8151 - acc: 0.3589\n",
      "Epoch 4/20\n",
      "418/418 [==============================] - 0s 92us/step - loss: 0.7826 - acc: 0.3780\n",
      "Epoch 5/20\n",
      "418/418 [==============================] - 0s 101us/step - loss: 0.7555 - acc: 0.3923\n",
      "Epoch 6/20\n",
      "418/418 [==============================] - 0s 113us/step - loss: 0.7292 - acc: 0.5144\n",
      "Epoch 7/20\n",
      "418/418 [==============================] - 0s 112us/step - loss: 0.7071 - acc: 0.5598\n",
      "Epoch 8/20\n",
      "418/418 [==============================] - 0s 119us/step - loss: 0.6849 - acc: 0.5981\n",
      "Epoch 9/20\n",
      "418/418 [==============================] - 0s 114us/step - loss: 0.6645 - acc: 0.6148\n",
      "Epoch 10/20\n",
      "418/418 [==============================] - 0s 109us/step - loss: 0.6471 - acc: 0.6244\n",
      "Epoch 11/20\n",
      "418/418 [==============================] - 0s 119us/step - loss: 0.6293 - acc: 0.6483\n",
      "Epoch 12/20\n",
      "418/418 [==============================] - 0s 111us/step - loss: 0.6150 - acc: 0.6603\n",
      "Epoch 13/20\n",
      "418/418 [==============================] - 0s 111us/step - loss: 0.6000 - acc: 0.6794\n",
      "Epoch 14/20\n",
      "418/418 [==============================] - 0s 106us/step - loss: 0.5877 - acc: 0.6962\n",
      "Epoch 15/20\n",
      "418/418 [==============================] - 0s 99us/step - loss: 0.5749 - acc: 0.7010\n",
      "Epoch 16/20\n",
      "418/418 [==============================] - 0s 108us/step - loss: 0.5619 - acc: 0.7153\n",
      "Epoch 17/20\n"
     ]
    },
    {
     "name": "stdout",
     "output_type": "stream",
     "text": [
      "418/418 [==============================] - 0s 102us/step - loss: 0.5501 - acc: 0.7297\n",
      "Epoch 18/20\n",
      "418/418 [==============================] - 0s 107us/step - loss: 0.5387 - acc: 0.7344\n",
      "Epoch 19/20\n",
      "418/418 [==============================] - 0s 118us/step - loss: 0.5272 - acc: 0.7392\n",
      "Epoch 20/20\n",
      "418/418 [==============================] - 0s 122us/step - loss: 0.5172 - acc: 0.7488\n",
      "209/209 [==============================] - 0s 2ms/step\n",
      "418/418 [==============================] - 0s 48us/step\n",
      "Epoch 1/20\n",
      "418/418 [==============================] - 1s 2ms/step - loss: 1.0652 - acc: 0.2117\n",
      "Epoch 2/20\n",
      "418/418 [==============================] - 0s 97us/step - loss: 0.9921 - acc: 0.2177\n",
      "Epoch 3/20\n",
      "418/418 [==============================] - 0s 92us/step - loss: 0.9368 - acc: 0.2249\n",
      "Epoch 4/20\n",
      "418/418 [==============================] - 0s 101us/step - loss: 0.8907 - acc: 0.2344\n",
      "Epoch 5/20\n",
      "418/418 [==============================] - 0s 94us/step - loss: 0.8476 - acc: 0.2440\n",
      "Epoch 6/20\n",
      "418/418 [==============================] - 0s 97us/step - loss: 0.8044 - acc: 0.2943\n",
      "Epoch 7/20\n",
      "418/418 [==============================] - 0s 96us/step - loss: 0.7651 - acc: 0.3708\n",
      "Epoch 8/20\n",
      "418/418 [==============================] - 0s 112us/step - loss: 0.7307 - acc: 0.4976\n",
      "Epoch 9/20\n",
      "418/418 [==============================] - 0s 104us/step - loss: 0.6969 - acc: 0.5957\n",
      "Epoch 10/20\n",
      "418/418 [==============================] - 0s 96us/step - loss: 0.6663 - acc: 0.6603\n",
      "Epoch 11/20\n",
      "418/418 [==============================] - 0s 100us/step - loss: 0.6349 - acc: 0.7057\n",
      "Epoch 12/20\n",
      "418/418 [==============================] - 0s 104us/step - loss: 0.6094 - acc: 0.7057\n",
      "Epoch 13/20\n",
      "418/418 [==============================] - 0s 92us/step - loss: 0.5829 - acc: 0.7153\n",
      "Epoch 14/20\n",
      "418/418 [==============================] - 0s 97us/step - loss: 0.5611 - acc: 0.7416\n",
      "Epoch 15/20\n",
      "418/418 [==============================] - 0s 92us/step - loss: 0.5416 - acc: 0.7608\n",
      "Epoch 16/20\n",
      "418/418 [==============================] - 0s 103us/step - loss: 0.5253 - acc: 0.7727\n",
      "Epoch 17/20\n",
      "418/418 [==============================] - 0s 102us/step - loss: 0.5088 - acc: 0.7823\n",
      "Epoch 18/20\n",
      "418/418 [==============================] - 0s 103us/step - loss: 0.4950 - acc: 0.7871\n",
      "Epoch 19/20\n",
      "418/418 [==============================] - 0s 101us/step - loss: 0.4827 - acc: 0.7871\n",
      "Epoch 20/20\n",
      "418/418 [==============================] - 0s 91us/step - loss: 0.4716 - acc: 0.7895\n",
      "209/209 [==============================] - 0s 2ms/step\n",
      "418/418 [==============================] - 0s 49us/step\n",
      "Epoch 1/30\n",
      "418/418 [==============================] - 1s 2ms/step - loss: 0.7128 - acc: 0.7010\n",
      "Epoch 2/30\n",
      "418/418 [==============================] - 0s 106us/step - loss: 0.6837 - acc: 0.7153\n",
      "Epoch 3/30\n",
      "418/418 [==============================] - 0s 107us/step - loss: 0.6590 - acc: 0.7249\n",
      "Epoch 4/30\n",
      "418/418 [==============================] - 0s 109us/step - loss: 0.6378 - acc: 0.7249\n",
      "Epoch 5/30\n",
      "418/418 [==============================] - 0s 109us/step - loss: 0.6188 - acc: 0.7249\n",
      "Epoch 6/30\n",
      "418/418 [==============================] - 0s 111us/step - loss: 0.6010 - acc: 0.7225\n",
      "Epoch 7/30\n",
      "418/418 [==============================] - 0s 111us/step - loss: 0.5862 - acc: 0.7201\n",
      "Epoch 8/30\n",
      "418/418 [==============================] - 0s 107us/step - loss: 0.5727 - acc: 0.7297\n",
      "Epoch 9/30\n",
      "418/418 [==============================] - 0s 107us/step - loss: 0.5605 - acc: 0.7273\n",
      "Epoch 10/30\n",
      "418/418 [==============================] - 0s 107us/step - loss: 0.5489 - acc: 0.7297\n",
      "Epoch 11/30\n",
      "418/418 [==============================] - 0s 108us/step - loss: 0.5403 - acc: 0.7416\n",
      "Epoch 12/30\n",
      "418/418 [==============================] - 0s 109us/step - loss: 0.5324 - acc: 0.7536\n",
      "Epoch 13/30\n",
      "418/418 [==============================] - 0s 110us/step - loss: 0.5247 - acc: 0.7560\n",
      "Epoch 14/30\n",
      "418/418 [==============================] - 0s 109us/step - loss: 0.5175 - acc: 0.7512\n",
      "Epoch 15/30\n",
      "418/418 [==============================] - 0s 107us/step - loss: 0.5110 - acc: 0.7608\n",
      "Epoch 16/30\n",
      "418/418 [==============================] - 0s 110us/step - loss: 0.5057 - acc: 0.7679\n",
      "Epoch 17/30\n",
      "418/418 [==============================] - 0s 107us/step - loss: 0.5012 - acc: 0.7727\n",
      "Epoch 18/30\n",
      "418/418 [==============================] - 0s 109us/step - loss: 0.4969 - acc: 0.7751\n",
      "Epoch 19/30\n",
      "418/418 [==============================] - 0s 108us/step - loss: 0.4918 - acc: 0.7847\n",
      "Epoch 20/30\n",
      "418/418 [==============================] - 0s 111us/step - loss: 0.4880 - acc: 0.7823\n",
      "Epoch 21/30\n",
      "418/418 [==============================] - 0s 109us/step - loss: 0.4838 - acc: 0.7847\n",
      "Epoch 22/30\n",
      "418/418 [==============================] - 0s 109us/step - loss: 0.4803 - acc: 0.7847\n",
      "Epoch 23/30\n",
      "418/418 [==============================] - 0s 105us/step - loss: 0.4776 - acc: 0.7823\n",
      "Epoch 24/30\n",
      "418/418 [==============================] - 0s 112us/step - loss: 0.4747 - acc: 0.7775\n",
      "Epoch 25/30\n",
      "418/418 [==============================] - 0s 111us/step - loss: 0.4727 - acc: 0.7799\n",
      "Epoch 26/30\n",
      "418/418 [==============================] - 0s 108us/step - loss: 0.4708 - acc: 0.7847\n",
      "Epoch 27/30\n",
      "418/418 [==============================] - 0s 112us/step - loss: 0.4694 - acc: 0.7847\n",
      "Epoch 28/30\n",
      "418/418 [==============================] - 0s 108us/step - loss: 0.4683 - acc: 0.7847\n",
      "Epoch 29/30\n",
      "418/418 [==============================] - 0s 89us/step - loss: 0.4671 - acc: 0.7871\n",
      "Epoch 30/30\n",
      "418/418 [==============================] - 0s 112us/step - loss: 0.4663 - acc: 0.7871\n",
      "209/209 [==============================] - 0s 2ms/step\n",
      "418/418 [==============================] - 0s 42us/step\n",
      "Epoch 1/30\n",
      "418/418 [==============================] - 1s 2ms/step - loss: 0.9893 - acc: 0.4785\n",
      "Epoch 2/30\n",
      "418/418 [==============================] - 0s 120us/step - loss: 0.9155 - acc: 0.4785\n",
      "Epoch 3/30\n",
      "418/418 [==============================] - 0s 129us/step - loss: 0.8544 - acc: 0.4761\n",
      "Epoch 4/30\n",
      "418/418 [==============================] - 0s 119us/step - loss: 0.7981 - acc: 0.5000\n",
      "Epoch 5/30\n",
      "418/418 [==============================] - 0s 133us/step - loss: 0.7498 - acc: 0.5335\n",
      "Epoch 6/30\n",
      "418/418 [==============================] - 0s 127us/step - loss: 0.7083 - acc: 0.5431\n",
      "Epoch 7/30\n",
      "418/418 [==============================] - 0s 147us/step - loss: 0.6710 - acc: 0.5670\n",
      "Epoch 8/30\n",
      "418/418 [==============================] - 0s 119us/step - loss: 0.6387 - acc: 0.6459\n",
      "Epoch 9/30\n",
      "418/418 [==============================] - 0s 118us/step - loss: 0.6095 - acc: 0.6914\n",
      "Epoch 10/30\n",
      "418/418 [==============================] - 0s 110us/step - loss: 0.5856 - acc: 0.7321\n",
      "Epoch 11/30\n",
      "418/418 [==============================] - 0s 104us/step - loss: 0.5629 - acc: 0.7656\n",
      "Epoch 12/30\n",
      "418/418 [==============================] - 0s 106us/step - loss: 0.5431 - acc: 0.7871\n",
      "Epoch 13/30\n",
      "418/418 [==============================] - 0s 112us/step - loss: 0.5274 - acc: 0.7919\n",
      "Epoch 14/30\n",
      "418/418 [==============================] - 0s 115us/step - loss: 0.5155 - acc: 0.7943\n",
      "Epoch 15/30\n",
      "418/418 [==============================] - 0s 120us/step - loss: 0.5054 - acc: 0.7967\n",
      "Epoch 16/30\n",
      "418/418 [==============================] - 0s 123us/step - loss: 0.4954 - acc: 0.8062\n",
      "Epoch 17/30\n",
      "418/418 [==============================] - 0s 120us/step - loss: 0.4867 - acc: 0.8062\n",
      "Epoch 18/30\n",
      "418/418 [==============================] - 0s 122us/step - loss: 0.4798 - acc: 0.8110\n",
      "Epoch 19/30\n",
      "418/418 [==============================] - 0s 117us/step - loss: 0.4730 - acc: 0.8134\n",
      "Epoch 20/30\n",
      "418/418 [==============================] - 0s 121us/step - loss: 0.4679 - acc: 0.8134\n",
      "Epoch 21/30\n",
      "418/418 [==============================] - 0s 106us/step - loss: 0.4641 - acc: 0.8134\n",
      "Epoch 22/30\n",
      "418/418 [==============================] - 0s 113us/step - loss: 0.4610 - acc: 0.8134\n",
      "Epoch 23/30\n",
      "418/418 [==============================] - 0s 116us/step - loss: 0.4577 - acc: 0.8110\n",
      "Epoch 24/30\n",
      "418/418 [==============================] - 0s 112us/step - loss: 0.4549 - acc: 0.8110\n",
      "Epoch 25/30\n",
      "418/418 [==============================] - 0s 109us/step - loss: 0.4525 - acc: 0.8086\n",
      "Epoch 26/30\n",
      "418/418 [==============================] - 0s 106us/step - loss: 0.4504 - acc: 0.8110\n",
      "Epoch 27/30\n"
     ]
    },
    {
     "name": "stdout",
     "output_type": "stream",
     "text": [
      "418/418 [==============================] - 0s 110us/step - loss: 0.4479 - acc: 0.8110\n",
      "Epoch 28/30\n",
      "418/418 [==============================] - 0s 112us/step - loss: 0.4462 - acc: 0.8086\n",
      "Epoch 29/30\n",
      "418/418 [==============================] - 0s 127us/step - loss: 0.4448 - acc: 0.8086\n",
      "Epoch 30/30\n",
      "418/418 [==============================] - 0s 131us/step - loss: 0.4434 - acc: 0.8086\n",
      "209/209 [==============================] - 0s 2ms/step\n",
      "418/418 [==============================] - 0s 53us/step\n",
      "Epoch 1/30\n",
      "418/418 [==============================] - 1s 2ms/step - loss: 1.0206 - acc: 0.5215\n",
      "Epoch 2/30\n",
      "418/418 [==============================] - 0s 109us/step - loss: 0.9453 - acc: 0.5215\n",
      "Epoch 3/30\n",
      "418/418 [==============================] - 0s 109us/step - loss: 0.8805 - acc: 0.5215\n",
      "Epoch 4/30\n",
      "418/418 [==============================] - 0s 108us/step - loss: 0.8243 - acc: 0.5215\n",
      "Epoch 5/30\n",
      "418/418 [==============================] - 0s 114us/step - loss: 0.7729 - acc: 0.5191\n",
      "Epoch 6/30\n",
      "418/418 [==============================] - 0s 118us/step - loss: 0.7280 - acc: 0.5287\n",
      "Epoch 7/30\n",
      "418/418 [==============================] - 0s 118us/step - loss: 0.6908 - acc: 0.5383\n",
      "Epoch 8/30\n",
      "418/418 [==============================] - 0s 114us/step - loss: 0.6612 - acc: 0.5718\n",
      "Epoch 9/30\n",
      "418/418 [==============================] - 0s 112us/step - loss: 0.6356 - acc: 0.6483\n",
      "Epoch 10/30\n",
      "418/418 [==============================] - 0s 114us/step - loss: 0.6124 - acc: 0.7081\n",
      "Epoch 11/30\n",
      "418/418 [==============================] - 0s 109us/step - loss: 0.5930 - acc: 0.7488\n",
      "Epoch 12/30\n",
      "418/418 [==============================] - 0s 106us/step - loss: 0.5750 - acc: 0.7560\n",
      "Epoch 13/30\n",
      "418/418 [==============================] - 0s 109us/step - loss: 0.5589 - acc: 0.7656\n",
      "Epoch 14/30\n",
      "418/418 [==============================] - 0s 108us/step - loss: 0.5442 - acc: 0.7847\n",
      "Epoch 15/30\n",
      "418/418 [==============================] - 0s 102us/step - loss: 0.5317 - acc: 0.7847\n",
      "Epoch 16/30\n",
      "418/418 [==============================] - 0s 111us/step - loss: 0.5214 - acc: 0.7823\n",
      "Epoch 17/30\n",
      "418/418 [==============================] - 0s 105us/step - loss: 0.5125 - acc: 0.7871\n",
      "Epoch 18/30\n",
      "418/418 [==============================] - 0s 111us/step - loss: 0.5041 - acc: 0.7871\n",
      "Epoch 19/30\n",
      "418/418 [==============================] - 0s 101us/step - loss: 0.4970 - acc: 0.7895\n",
      "Epoch 20/30\n",
      "418/418 [==============================] - 0s 93us/step - loss: 0.4905 - acc: 0.7919\n",
      "Epoch 21/30\n",
      "418/418 [==============================] - 0s 106us/step - loss: 0.4852 - acc: 0.7919\n",
      "Epoch 22/30\n",
      "418/418 [==============================] - 0s 110us/step - loss: 0.4807 - acc: 0.7919\n",
      "Epoch 23/30\n",
      "418/418 [==============================] - 0s 104us/step - loss: 0.4755 - acc: 0.7943\n",
      "Epoch 24/30\n",
      "418/418 [==============================] - 0s 100us/step - loss: 0.4720 - acc: 0.7943\n",
      "Epoch 25/30\n",
      "418/418 [==============================] - 0s 101us/step - loss: 0.4689 - acc: 0.7895\n",
      "Epoch 26/30\n",
      "418/418 [==============================] - 0s 104us/step - loss: 0.4658 - acc: 0.7919\n",
      "Epoch 27/30\n",
      "418/418 [==============================] - 0s 107us/step - loss: 0.4638 - acc: 0.7871\n",
      "Epoch 28/30\n",
      "418/418 [==============================] - 0s 96us/step - loss: 0.4618 - acc: 0.7871\n",
      "Epoch 29/30\n",
      "418/418 [==============================] - 0s 105us/step - loss: 0.4600 - acc: 0.7895\n",
      "Epoch 30/30\n",
      "418/418 [==============================] - 0s 96us/step - loss: 0.4588 - acc: 0.7895\n",
      "209/209 [==============================] - 0s 2ms/step\n",
      "418/418 [==============================] - 0s 53us/step\n",
      "Epoch 1/30\n",
      "418/418 [==============================] - 1s 2ms/step - loss: 0.6281 - acc: 0.6914\n",
      "Epoch 2/30\n",
      "418/418 [==============================] - 0s 102us/step - loss: 0.5969 - acc: 0.7225\n",
      "Epoch 3/30\n",
      "418/418 [==============================] - 0s 98us/step - loss: 0.5752 - acc: 0.7416\n",
      "Epoch 4/30\n",
      "418/418 [==============================] - 0s 96us/step - loss: 0.5567 - acc: 0.7368\n",
      "Epoch 5/30\n",
      "418/418 [==============================] - 0s 104us/step - loss: 0.5408 - acc: 0.7536\n",
      "Epoch 6/30\n",
      "418/418 [==============================] - 0s 102us/step - loss: 0.5288 - acc: 0.7656\n",
      "Epoch 7/30\n",
      "418/418 [==============================] - 0s 105us/step - loss: 0.5189 - acc: 0.7799\n",
      "Epoch 8/30\n",
      "418/418 [==============================] - 0s 102us/step - loss: 0.5103 - acc: 0.7871\n",
      "Epoch 9/30\n",
      "418/418 [==============================] - 0s 106us/step - loss: 0.5028 - acc: 0.7895\n",
      "Epoch 10/30\n",
      "418/418 [==============================] - 0s 110us/step - loss: 0.4957 - acc: 0.7919\n",
      "Epoch 11/30\n",
      "418/418 [==============================] - 0s 102us/step - loss: 0.4893 - acc: 0.7919\n",
      "Epoch 12/30\n",
      "418/418 [==============================] - 0s 105us/step - loss: 0.4840 - acc: 0.7919\n",
      "Epoch 13/30\n",
      "418/418 [==============================] - 0s 100us/step - loss: 0.4800 - acc: 0.7919\n",
      "Epoch 14/30\n",
      "418/418 [==============================] - 0s 100us/step - loss: 0.4776 - acc: 0.7895\n",
      "Epoch 15/30\n",
      "418/418 [==============================] - 0s 103us/step - loss: 0.4751 - acc: 0.7919\n",
      "Epoch 16/30\n",
      "418/418 [==============================] - 0s 90us/step - loss: 0.4721 - acc: 0.7943\n",
      "Epoch 17/30\n",
      "418/418 [==============================] - 0s 102us/step - loss: 0.4693 - acc: 0.7919\n",
      "Epoch 18/30\n",
      "418/418 [==============================] - 0s 95us/step - loss: 0.4671 - acc: 0.7895\n",
      "Epoch 19/30\n",
      "418/418 [==============================] - 0s 93us/step - loss: 0.4649 - acc: 0.7895\n",
      "Epoch 20/30\n",
      "418/418 [==============================] - 0s 106us/step - loss: 0.4628 - acc: 0.7895\n",
      "Epoch 21/30\n",
      "418/418 [==============================] - 0s 104us/step - loss: 0.4615 - acc: 0.7919\n",
      "Epoch 22/30\n",
      "418/418 [==============================] - 0s 107us/step - loss: 0.4603 - acc: 0.7895\n",
      "Epoch 23/30\n",
      "418/418 [==============================] - 0s 100us/step - loss: 0.4591 - acc: 0.7871\n",
      "Epoch 24/30\n",
      "418/418 [==============================] - 0s 108us/step - loss: 0.4584 - acc: 0.7895\n",
      "Epoch 25/30\n",
      "418/418 [==============================] - 0s 101us/step - loss: 0.4575 - acc: 0.7919\n",
      "Epoch 26/30\n",
      "418/418 [==============================] - 0s 98us/step - loss: 0.4568 - acc: 0.7967\n",
      "Epoch 27/30\n",
      "418/418 [==============================] - 0s 100us/step - loss: 0.4563 - acc: 0.7967\n",
      "Epoch 28/30\n",
      "418/418 [==============================] - 0s 98us/step - loss: 0.4555 - acc: 0.7943\n",
      "Epoch 29/30\n",
      "418/418 [==============================] - 0s 107us/step - loss: 0.4550 - acc: 0.7990\n",
      "Epoch 30/30\n",
      "418/418 [==============================] - 0s 100us/step - loss: 0.4543 - acc: 0.7967\n",
      "209/209 [==============================] - 0s 2ms/step\n",
      "418/418 [==============================] - 0s 47us/step\n",
      "Epoch 1/30\n",
      "418/418 [==============================] - 1s 2ms/step - loss: 0.5848 - acc: 0.7512\n",
      "Epoch 2/30\n",
      "418/418 [==============================] - 0s 128us/step - loss: 0.5488 - acc: 0.7584\n",
      "Epoch 3/30\n",
      "418/418 [==============================] - 0s 115us/step - loss: 0.5260 - acc: 0.7703\n",
      "Epoch 4/30\n",
      "418/418 [==============================] - 0s 111us/step - loss: 0.5074 - acc: 0.7847\n",
      "Epoch 5/30\n",
      "418/418 [==============================] - 0s 110us/step - loss: 0.4931 - acc: 0.7847\n",
      "Epoch 6/30\n",
      "418/418 [==============================] - 0s 111us/step - loss: 0.4819 - acc: 0.7919\n",
      "Epoch 7/30\n",
      "418/418 [==============================] - 0s 101us/step - loss: 0.4732 - acc: 0.8014\n",
      "Epoch 8/30\n",
      "418/418 [==============================] - 0s 109us/step - loss: 0.4661 - acc: 0.8014\n",
      "Epoch 9/30\n",
      "418/418 [==============================] - 0s 104us/step - loss: 0.4598 - acc: 0.8014\n",
      "Epoch 10/30\n",
      "418/418 [==============================] - 0s 106us/step - loss: 0.4550 - acc: 0.8014\n",
      "Epoch 11/30\n",
      "418/418 [==============================] - 0s 110us/step - loss: 0.4515 - acc: 0.8038\n",
      "Epoch 12/30\n",
      "418/418 [==============================] - 0s 123us/step - loss: 0.4485 - acc: 0.8062\n",
      "Epoch 13/30\n",
      "418/418 [==============================] - 0s 121us/step - loss: 0.4460 - acc: 0.8086\n",
      "Epoch 14/30\n",
      "418/418 [==============================] - 0s 114us/step - loss: 0.4434 - acc: 0.8062\n",
      "Epoch 15/30\n",
      "418/418 [==============================] - 0s 117us/step - loss: 0.4417 - acc: 0.8038\n",
      "Epoch 16/30\n",
      "418/418 [==============================] - 0s 99us/step - loss: 0.4401 - acc: 0.8062\n",
      "Epoch 17/30\n"
     ]
    },
    {
     "name": "stdout",
     "output_type": "stream",
     "text": [
      "418/418 [==============================] - 0s 105us/step - loss: 0.4384 - acc: 0.8086\n",
      "Epoch 18/30\n",
      "418/418 [==============================] - 0s 105us/step - loss: 0.4370 - acc: 0.8086\n",
      "Epoch 19/30\n",
      "418/418 [==============================] - 0s 98us/step - loss: 0.4359 - acc: 0.8110\n",
      "Epoch 20/30\n",
      "418/418 [==============================] - 0s 106us/step - loss: 0.4351 - acc: 0.8086\n",
      "Epoch 21/30\n",
      "418/418 [==============================] - 0s 106us/step - loss: 0.4343 - acc: 0.8086\n",
      "Epoch 22/30\n",
      "418/418 [==============================] - 0s 103us/step - loss: 0.4339 - acc: 0.8086\n",
      "Epoch 23/30\n",
      "418/418 [==============================] - 0s 106us/step - loss: 0.4332 - acc: 0.8062\n",
      "Epoch 24/30\n",
      "418/418 [==============================] - 0s 104us/step - loss: 0.4327 - acc: 0.8062\n",
      "Epoch 25/30\n",
      "418/418 [==============================] - 0s 102us/step - loss: 0.4322 - acc: 0.8086\n",
      "Epoch 26/30\n",
      "418/418 [==============================] - 0s 105us/step - loss: 0.4316 - acc: 0.8038\n",
      "Epoch 27/30\n",
      "418/418 [==============================] - 0s 111us/step - loss: 0.4313 - acc: 0.8038\n",
      "Epoch 28/30\n",
      "418/418 [==============================] - 0s 121us/step - loss: 0.4313 - acc: 0.8062\n",
      "Epoch 29/30\n",
      "418/418 [==============================] - 0s 124us/step - loss: 0.4304 - acc: 0.8062\n",
      "Epoch 30/30\n",
      "418/418 [==============================] - 0s 111us/step - loss: 0.4300 - acc: 0.8062\n",
      "209/209 [==============================] - 0s 2ms/step\n",
      "418/418 [==============================] - 0s 60us/step\n",
      "Epoch 1/30\n",
      "418/418 [==============================] - 1s 3ms/step - loss: 0.6900 - acc: 0.5861\n",
      "Epoch 2/30\n",
      "418/418 [==============================] - 0s 108us/step - loss: 0.6442 - acc: 0.6651\n",
      "Epoch 3/30\n",
      "418/418 [==============================] - 0s 97us/step - loss: 0.6118 - acc: 0.7368\n",
      "Epoch 4/30\n",
      "418/418 [==============================] - 0s 95us/step - loss: 0.5842 - acc: 0.7368\n",
      "Epoch 5/30\n",
      "418/418 [==============================] - 0s 92us/step - loss: 0.5602 - acc: 0.7560\n",
      "Epoch 6/30\n",
      "418/418 [==============================] - 0s 98us/step - loss: 0.5435 - acc: 0.7536\n",
      "Epoch 7/30\n",
      "418/418 [==============================] - 0s 92us/step - loss: 0.5282 - acc: 0.7656\n",
      "Epoch 8/30\n",
      "418/418 [==============================] - 0s 93us/step - loss: 0.5129 - acc: 0.7679\n",
      "Epoch 9/30\n",
      "418/418 [==============================] - 0s 98us/step - loss: 0.5002 - acc: 0.7679\n",
      "Epoch 10/30\n",
      "418/418 [==============================] - 0s 90us/step - loss: 0.4899 - acc: 0.7775\n",
      "Epoch 11/30\n",
      "418/418 [==============================] - 0s 101us/step - loss: 0.4821 - acc: 0.7847\n",
      "Epoch 12/30\n",
      "418/418 [==============================] - 0s 102us/step - loss: 0.4759 - acc: 0.7823\n",
      "Epoch 13/30\n",
      "418/418 [==============================] - 0s 121us/step - loss: 0.4712 - acc: 0.7895\n",
      "Epoch 14/30\n",
      "418/418 [==============================] - 0s 120us/step - loss: 0.4669 - acc: 0.7895\n",
      "Epoch 15/30\n",
      "418/418 [==============================] - 0s 114us/step - loss: 0.4646 - acc: 0.7943\n",
      "Epoch 16/30\n",
      "418/418 [==============================] - 0s 102us/step - loss: 0.4620 - acc: 0.7895\n",
      "Epoch 17/30\n",
      "418/418 [==============================] - 0s 90us/step - loss: 0.4598 - acc: 0.7919\n",
      "Epoch 18/30\n",
      "418/418 [==============================] - 0s 95us/step - loss: 0.4581 - acc: 0.7943\n",
      "Epoch 19/30\n",
      "418/418 [==============================] - 0s 99us/step - loss: 0.4564 - acc: 0.7943\n",
      "Epoch 20/30\n",
      "418/418 [==============================] - 0s 92us/step - loss: 0.4554 - acc: 0.7967\n",
      "Epoch 21/30\n",
      "418/418 [==============================] - 0s 84us/step - loss: 0.4537 - acc: 0.7967\n",
      "Epoch 22/30\n",
      "418/418 [==============================] - 0s 90us/step - loss: 0.4529 - acc: 0.7943\n",
      "Epoch 23/30\n",
      "418/418 [==============================] - 0s 96us/step - loss: 0.4519 - acc: 0.7967\n",
      "Epoch 24/30\n",
      "418/418 [==============================] - 0s 92us/step - loss: 0.4508 - acc: 0.7990\n",
      "Epoch 25/30\n",
      "418/418 [==============================] - 0s 86us/step - loss: 0.4500 - acc: 0.7990\n",
      "Epoch 26/30\n",
      "418/418 [==============================] - 0s 98us/step - loss: 0.4494 - acc: 0.8014\n",
      "Epoch 27/30\n",
      "418/418 [==============================] - 0s 92us/step - loss: 0.4483 - acc: 0.8038\n",
      "Epoch 28/30\n",
      "418/418 [==============================] - 0s 102us/step - loss: 0.4481 - acc: 0.8014\n",
      "Epoch 29/30\n",
      "418/418 [==============================] - 0s 95us/step - loss: 0.4472 - acc: 0.8062\n",
      "Epoch 30/30\n",
      "418/418 [==============================] - 0s 102us/step - loss: 0.4465 - acc: 0.8062\n",
      "209/209 [==============================] - 0s 2ms/step\n",
      "418/418 [==============================] - 0s 53us/step\n",
      "Epoch 1/30\n",
      "627/627 [==============================] - 1s 2ms/step - loss: 1.0147 - acc: 0.2105\n",
      "Epoch 2/30\n",
      "627/627 [==============================] - 0s 85us/step - loss: 0.9532 - acc: 0.2105\n",
      "Epoch 3/30\n",
      "627/627 [==============================] - 0s 81us/step - loss: 0.9008 - acc: 0.2233\n",
      "Epoch 4/30\n",
      "627/627 [==============================] - 0s 82us/step - loss: 0.8520 - acc: 0.2249\n",
      "Epoch 5/30\n",
      "627/627 [==============================] - 0s 83us/step - loss: 0.8064 - acc: 0.2982\n",
      "Epoch 6/30\n",
      "627/627 [==============================] - 0s 85us/step - loss: 0.7614 - acc: 0.4051\n",
      "Epoch 7/30\n",
      "627/627 [==============================] - 0s 87us/step - loss: 0.7194 - acc: 0.5040\n",
      "Epoch 8/30\n",
      "627/627 [==============================] - 0s 85us/step - loss: 0.6787 - acc: 0.6172\n",
      "Epoch 9/30\n",
      "627/627 [==============================] - 0s 85us/step - loss: 0.6393 - acc: 0.7097\n",
      "Epoch 10/30\n",
      "627/627 [==============================] - 0s 88us/step - loss: 0.6023 - acc: 0.7400\n",
      "Epoch 11/30\n",
      "627/627 [==============================] - 0s 83us/step - loss: 0.5702 - acc: 0.7512\n",
      "Epoch 12/30\n",
      "627/627 [==============================] - 0s 89us/step - loss: 0.5425 - acc: 0.7592\n",
      "Epoch 13/30\n",
      "627/627 [==============================] - 0s 83us/step - loss: 0.5175 - acc: 0.7592\n",
      "Epoch 14/30\n",
      "627/627 [==============================] - 0s 84us/step - loss: 0.4978 - acc: 0.7640\n",
      "Epoch 15/30\n",
      "627/627 [==============================] - 0s 81us/step - loss: 0.4825 - acc: 0.7927\n",
      "Epoch 16/30\n",
      "627/627 [==============================] - 0s 83us/step - loss: 0.4713 - acc: 0.8022\n",
      "Epoch 17/30\n",
      "627/627 [==============================] - 0s 87us/step - loss: 0.4633 - acc: 0.7943\n",
      "Epoch 18/30\n",
      "627/627 [==============================] - 0s 87us/step - loss: 0.4574 - acc: 0.8022\n",
      "Epoch 19/30\n",
      "627/627 [==============================] - 0s 87us/step - loss: 0.4534 - acc: 0.8006\n",
      "Epoch 20/30\n",
      "627/627 [==============================] - 0s 88us/step - loss: 0.4507 - acc: 0.7990\n",
      "Epoch 21/30\n",
      "627/627 [==============================] - 0s 105us/step - loss: 0.4488 - acc: 0.8038\n",
      "Epoch 22/30\n",
      "627/627 [==============================] - 0s 120us/step - loss: 0.4474 - acc: 0.8038\n",
      "Epoch 23/30\n",
      "627/627 [==============================] - 0s 107us/step - loss: 0.4462 - acc: 0.8022\n",
      "Epoch 24/30\n",
      "627/627 [==============================] - 0s 104us/step - loss: 0.4455 - acc: 0.8054\n",
      "Epoch 25/30\n",
      "627/627 [==============================] - 0s 106us/step - loss: 0.4448 - acc: 0.8054\n",
      "Epoch 26/30\n",
      "627/627 [==============================] - 0s 107us/step - loss: 0.4444 - acc: 0.8070\n",
      "Epoch 27/30\n",
      "627/627 [==============================] - 0s 94us/step - loss: 0.4438 - acc: 0.8086\n",
      "Epoch 28/30\n",
      "627/627 [==============================] - 0s 115us/step - loss: 0.4435 - acc: 0.8102\n",
      "Epoch 29/30\n",
      "627/627 [==============================] - 0s 114us/step - loss: 0.4431 - acc: 0.8086\n",
      "Epoch 30/30\n",
      "627/627 [==============================] - 0s 100us/step - loss: 0.4427 - acc: 0.8070\n",
      "CPU times: user 45.2 s, sys: 10.4 s, total: 55.6 s\n",
      "Wall time: 45.9 s\n"
     ]
    },
    {
     "data": {
      "text/plain": [
       "GridSearchCV(cv=3, error_score='raise',\n",
       "       estimator=<keras.wrappers.scikit_learn.KerasClassifier object at 0x133cc1a90>,\n",
       "       fit_params=None, iid=True, n_jobs=1,\n",
       "       param_grid={'epochs': [10, 20, 30], 'optimizer': ['adam', 'rmsprop']},\n",
       "       pre_dispatch='2*n_jobs', refit=True, return_train_score='warn',\n",
       "       scoring=None, verbose=0)"
      ]
     },
     "execution_count": 76,
     "metadata": {},
     "output_type": "execute_result"
    }
   ],
   "source": [
    "%time keras_cv.fit(X_train,y_train_matrix)"
   ]
  },
  {
   "cell_type": "code",
   "execution_count": 77,
   "metadata": {},
   "outputs": [
    {
     "name": "stdout",
     "output_type": "stream",
     "text": [
      "CPU times: user 439 ms, sys: 22.1 ms, total: 461 ms\n",
      "Wall time: 463 ms\n",
      "Best Parameters: {'epochs': 30, 'optimizer': 'rmsprop'}\n",
      "Best score is 0.8070175445250918\n"
     ]
    }
   ],
   "source": [
    "%time y_pred = keras_cv.predict(X_test)\n",
    "\n",
    "print(\"Best Parameters: {}\".format(keras_cv.best_params_)) \n",
    "print(\"Best score is {}\".format(keras_cv.best_score_))"
   ]
  },
  {
   "cell_type": "code",
   "execution_count": 78,
   "metadata": {},
   "outputs": [
    {
     "name": "stdout",
     "output_type": "stream",
     "text": [
      "#####################\n",
      "Test data\n",
      "#####################\n",
      "             precision    recall  f1-score   support\n",
      "\n",
      "        0.0       0.76      0.73      0.75        75\n",
      "        1.0       0.76      0.79      0.78        82\n",
      "\n",
      "avg / total       0.76      0.76      0.76       157\n",
      "\n",
      "#####################\n"
     ]
    },
    {
     "data": {
      "image/png": "[encoded data removed]",
      "text/plain": [
       "<Figure size 1260x720 with 2 Axes>"
      ]
     },
     "metadata": {},
     "output_type": "display_data"
    }
   ],
   "source": [
    "neural_network_results(y_test,y_pred)"
   ]
  },
  {
   "cell_type": "markdown",
   "metadata": {},
   "source": [
    "By increasing the number of nodes of the hidden layer to 8, the accuracy dropped to **76.43%**. In this case the best parameters were 30 epochs and the rmsprop optimizer. This neural network resulted in **20 FP** which is what the project is trying to reduce."
   ]
  },
  {
   "cell_type": "markdown",
   "metadata": {},
   "source": [
    "# 5. Conclusion <a name=\"conclusion\"> </a>\n",
    "***\n",
    "Breast cancer survival rates can rise if screening and treatment improve. In this case, screening was the main purpose of the project. Early screening is essential for a disease like cancer. Correct diagnosis is also crucial to increase a patient's survival rate. Through out the project data wrangling, exploratoty data analys and data cleaning was used to explore, analyze and make conclusions of the data and to improve screening results as much as possible. Below are some of the most important findings of the project:\n",
    "\n",
    "- Slightly more mammographic mass lesions were diagnosed as benign. To be more specific, the data contains 427 patients with benign lesions and 403 with malignant.\n",
    "- Most of the patients were between 40 and 80 years old.\n",
    "- Some of the patients were getting screened at an early age, 20.\n",
    "- Most malignant lesions were diagnosed between 60 and 70 years old.\n",
    "- According to the data, the youngest patients were diagnosed with malignant lesion at 30 years old.\n",
    "- The data showed that most of the lesions had an irregular shape. The least amount of them had a lobular shape.\n",
    "- Most of malignant lesions had irregular shape. However, there were some benign lesions that had irregular shape.\n",
    "- Round and oval lesions tended to be benign.\n",
    "- There were not many lobular shape lesions; however, it looks like there is 50% chance of beign malignant or benign.\n",
    "- The data showed that most of the severity classifications had a high confidence of 4 and 5."
   ]
  },
  {
   "cell_type": "markdown",
   "metadata": {},
   "source": [
    "### Results <a name=\"results\"></a>\n",
    "***\n",
    "Six different algorithms were used to model the data. Below is a table that shows the accuracy, fitting time, prediction time and FP(goal of the project) of each algorithm."
   ]
  },
  {
   "cell_type": "code",
   "execution_count": 80,
   "metadata": {},
   "outputs": [
    {
     "data": {
      "text/html": [
       "<div>\n",
       "<style scoped>\n",
       "    .dataframe tbody tr th:only-of-type {\n",
       "        vertical-align: middle;\n",
       "    }\n",
       "\n",
       "    .dataframe tbody tr th {\n",
       "        vertical-align: top;\n",
       "    }\n",
       "\n",
       "    .dataframe thead th {\n",
       "        text-align: right;\n",
       "    }\n",
       "</style>\n",
       "<table border=\"1\" class=\"dataframe\">\n",
       "  <thead>\n",
       "    <tr style=\"text-align: right;\">\n",
       "      <th></th>\n",
       "      <th>Accuracy</th>\n",
       "      <th>FP</th>\n",
       "      <th>Fitting Time</th>\n",
       "      <th>Prediction Time</th>\n",
       "    </tr>\n",
       "  </thead>\n",
       "  <tbody>\n",
       "    <tr>\n",
       "      <th>KNN</th>\n",
       "      <td>74.52%</td>\n",
       "      <td>27</td>\n",
       "      <td>271 ms</td>\n",
       "      <td>2.54 ms</td>\n",
       "    </tr>\n",
       "    <tr>\n",
       "      <th>Logistic Regression</th>\n",
       "      <td>77.71%</td>\n",
       "      <td>23</td>\n",
       "      <td>69ms</td>\n",
       "      <td>473 ms</td>\n",
       "    </tr>\n",
       "    <tr>\n",
       "      <th>Naive Bayes</th>\n",
       "      <td>75.80%</td>\n",
       "      <td>26</td>\n",
       "      <td>39.3ms</td>\n",
       "      <td>326 ms</td>\n",
       "    </tr>\n",
       "    <tr>\n",
       "      <th>SVM</th>\n",
       "      <td>77.71%</td>\n",
       "      <td>25</td>\n",
       "      <td>3.47s</td>\n",
       "      <td>3.23 ms</td>\n",
       "    </tr>\n",
       "    <tr>\n",
       "      <th>Random Forest</th>\n",
       "      <td>71.34%</td>\n",
       "      <td>23</td>\n",
       "      <td>820ms</td>\n",
       "      <td>2.42 ms</td>\n",
       "    </tr>\n",
       "    <tr>\n",
       "      <th>NN(1 hidden layer,4 nodes)</th>\n",
       "      <td>78.34%</td>\n",
       "      <td>23</td>\n",
       "      <td>33.9s</td>\n",
       "      <td>218 ms</td>\n",
       "    </tr>\n",
       "    <tr>\n",
       "      <th>NN(1 hidden layer,8 nodes)</th>\n",
       "      <td>76.43%</td>\n",
       "      <td>20</td>\n",
       "      <td>45.9s</td>\n",
       "      <td>463ms</td>\n",
       "    </tr>\n",
       "  </tbody>\n",
       "</table>\n",
       "</div>"
      ],
      "text/plain": [
       "                           Accuracy  FP Fitting Time Prediction Time\n",
       "KNN                          74.52%  27       271 ms         2.54 ms\n",
       "Logistic Regression          77.71%  23         69ms          473 ms\n",
       "Naive Bayes                  75.80%  26       39.3ms          326 ms\n",
       "SVM                          77.71%  25        3.47s         3.23 ms\n",
       "Random Forest                71.34%  23        820ms         2.42 ms\n",
       "NN(1 hidden layer,4 nodes)   78.34%  23        33.9s          218 ms\n",
       "NN(1 hidden layer,8 nodes)   76.43%  20        45.9s           463ms"
      ]
     },
     "execution_count": 80,
     "metadata": {},
     "output_type": "execute_result"
    }
   ],
   "source": [
    "d = {'FP': {'KNN': 27, 'SVM': 25, 'Random Forest': 23, 'Logistic Regression': 23, 'Naive Bayes': 26, 'NN(1 hidden layer,4 nodes)': 23, 'NN(1 hidden layer,8 nodes)': 20},\n",
    "     'Accuracy': {'KNN': '74.52%', 'SVM': '77.71%', 'Random Forest': '71.34%', 'Logistic Regression': '77.71%', 'Naive Bayes': '75.80%', 'NN(1 hidden layer,4 nodes)': '78.34%','NN(1 hidden layer,8 nodes)': '76.43%'}, \n",
    "     'Fitting Time': {'KNN': '271 ms', 'SVM': '3.47s', 'Random Forest': '820ms', 'Logistic Regression': '69ms', 'Naive Bayes': '39.3ms', 'NN(1 hidden layer,4 nodes)': '33.9s', 'NN(1 hidden layer,8 nodes)': '45.9s'}, \n",
    "     'Prediction Time': {'KNN': '2.54 ms', 'SVM': '3.23 ms', 'Random Forest': '2.42 ms', 'Logistic Regression': '473 ms', 'Naive Bayes': '326 ms', 'NN(1 hidden layer,4 nodes)': '218 ms', 'NN(1 hidden layer,8 nodes)': '463ms'}}\n",
    "df = pd.DataFrame(d).reindex(index = ['KNN','Logistic Regression','Naive Bayes','SVM','Random Forest','NN(1 hidden layer,4 nodes)', 'NN(1 hidden layer,8 nodes)'])\n",
    "df"
   ]
  },
  {
   "cell_type": "markdown",
   "metadata": {},
   "source": [
    "The problem is that the low positive predictive value of breast biopsy resulting from mammogram interpretation leads to approximately 70% unnecessary biopsies with benign outcomes. So the goal is to reduce the high number of unnecessary breast biopsies. The **Neural Network with 1 hidden layer and 8 nodes** was the one that was able to achieve the lowest unncessary biopsies with only 20 out of the 157 tested with the model which gives a **12.73%**.\n",
    "\n",
    "The model is able to reduce from 70% to 12.73% making this project a success."
   ]
  },
  {
   "cell_type": "markdown",
   "metadata": {},
   "source": [
    "### Recommendations <a name=\"recommendations\"></a>\n",
    "***\n",
    "Some ways of further reducing unnecessary biopsies are the following:\n",
    "\n",
    "- Try more complex neural networks with more nodes per layer or more hidden layers. \n",
    "- Use more epochs per neural network.\n",
    "- Gather more samples to have a bigger data set.\n",
    "- Do not drop data with the incorrect BI-RADS feature.\n",
    "- More hyperparameter tuning."
   ]
  },
  {
   "cell_type": "code",
   "execution_count": null,
   "metadata": {},
   "outputs": [],
   "source": []
  }
 ],
 "metadata": {
  "kernelspec": {
   "display_name": "Python 3",
   "language": "python",
   "name": "python3"
  },
  "language_info": {
   "codemirror_mode": {
    "name": "ipython",
    "version": 3
   },
   "file_extension": ".py",
   "mimetype": "text/x-python",
   "name": "python",
   "nbconvert_exporter": "python",
   "pygments_lexer": "ipython3",
   "version": "3.6.4"
  }
 },
 "nbformat": 4,
 "nbformat_minor": 2
}
